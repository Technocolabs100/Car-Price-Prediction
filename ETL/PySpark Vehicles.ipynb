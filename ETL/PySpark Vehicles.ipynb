{
 "cells": [
  {
   "cell_type": "markdown",
   "metadata": {},
   "source": [
    "# Problem Definition\n",
    "#### How to determine the *price* of a used car?"
   ]
  },
  {
   "cell_type": "markdown",
   "metadata": {},
   "source": [
    "## Contents\n",
    "\n",
    "[Installation Setup](#Installation-Setup) <br>\n",
    "+   [Environment Config](#Environment-Configuration) <br>\n",
    "+   [Python Packages](#Loading-Packages) <br>\n",
    "+   [Apache Spark](#Creating-SparkSession) <br>\n",
    "\n",
    "[Extract, Transform, Load](#Extract-Stage) <br>\n",
    "This includes the various stages of the ETL Pipeline <br>\n",
    "+   [Extract](#Extract-Data) <br>\n",
    "    +   [Kaggle Dataset](#Kaggle-Dataset) <br>\n",
    "    +   [Validating Data](#Validating-Data) <br>\n",
    "    +   [Cleaning Data (Basic)](#Cleaning-Data-(Basic)) <br>\n",
    "    +   [Caching Data on S3](#Caching-Extract-Data-on-S3) <br>\n",
    "+   [Transform](#Transform-Stage) <br>\n",
    "    +   [Cleaning Data](#Cleaning-Data) <br>\n",
    "    +   [Sampling Data](#Sampling-Data) <br>\n",
    "    +   [Exploratory Data Analysis using Pandas and Matplotlib](#Exploratory-Data-Analysis) <br>\n",
    "    +   [Caching Data on S3](#Caching-Transform-Data-on-S3) <br>\n",
    "+   [Load](#Load-Stage) <br>\n",
    "    +   [Preprocessing Data for Learning Model](#Load-Data)\n",
    "    +   [Migrate Data to Database](#Load-Data)\n",
    "    \n",
    "[Predicting Used Car Price](#Machine-Learning)\n",
    "+   Implementing Linear Regression"
   ]
  },
  {
   "cell_type": "markdown",
   "metadata": {},
   "source": [
    "# Installation Setup\n",
    "\n",
    "## Tool Versions\n",
    "\n",
    "```\n",
    "Apache Spark - 2.4.3\n",
    "Jupyter Notebook - 4.4.0\n",
    "```\n",
    "    \n",
    "## Environment Configuration\n",
    "\n",
    "#### Configuring ~/.bash_profile\n",
    "\n",
    "```\n",
    "export PATH=\"/usr/local/bin:$PATH\"\n",
    "PATH=\"/Library/Frameworks/Python.framework/Versions/3.7/bin:${PATH}\"\n",
    "export PATH=/usr/local/scala/bin:$PATH\n",
    "export PATH=/usr/local/spark/bin:$PATH\n",
    "export JAVA_HOME=$(/usr/libexec/java_home -v 1.8)\n",
    "export PYSPARK_PYTHON=python3.7\n",
    "```\n",
    "\n",
    "#### Configuring ~/.bashrc\n",
    "\n",
    "```\n",
    "export PYSPARK_PYTHON=/usr/local/bin/python3.7\n",
    "export PYSPARK_DRIVER_PYTHON=/usr/local/bin/python3.7\n",
    "```\n",
    "\n"
   ]
  },
  {
   "cell_type": "markdown",
   "metadata": {},
   "source": [
    "### Findspark\n",
    "\n",
    "Use `findspark` to be able to find and import **Pyspark** module, while correctly setting environmental variables and dependencies."
   ]
  },
  {
   "cell_type": "code",
   "execution_count": 1,
   "metadata": {},
   "outputs": [],
   "source": [
    "import traceback\n",
    "import findspark\n",
    "try:\n",
    "    findspark.init('/usr/local/spark/')\n",
    "except:\n",
    "    print (\"Error:\", ''.join(traceback.format_stack()))"
   ]
  },
  {
   "cell_type": "markdown",
   "metadata": {},
   "source": [
    "Check paths before Executing PySpark Session:"
   ]
  },
  {
   "cell_type": "code",
   "execution_count": 2,
   "metadata": {},
   "outputs": [
    {
     "name": "stdout",
     "output_type": "stream",
     "text": [
      "PATH: /Library/Frameworks/Python.framework/Versions/3.7/bin:/usr/local/spark/bin:/usr/local/scala/bin:/Library/Frameworks/Python.framework/Versions/3.7/bin:/usr/local/bin:/usr/local/bin:/usr/bin:/bin:/usr/sbin:/sbin\n",
      "\n",
      "SPARK_HOME: /usr/local/spark/\n",
      "PYSPARK_PYTHON: /usr/local/bin/python3.7\n",
      "PYSPARK_DRIVER_PYTHON: /usr/local/bin/python3.7\n"
     ]
    }
   ],
   "source": [
    "import os\n",
    "import sys\n",
    "print(\"PATH: %s\\n\" % os.environ['PATH'])\n",
    "print(\"SPARK_HOME: %s\" % os.environ['SPARK_HOME'])\n",
    "print(\"PYSPARK_PYTHON: %s\" % os.environ['PYSPARK_PYTHON'])\n",
    "print(\"PYSPARK_DRIVER_PYTHON: %s\" % os.environ['PYSPARK_DRIVER_PYTHON'])"
   ]
  },
  {
   "cell_type": "markdown",
   "metadata": {},
   "source": [
    "## Loading Packages "
   ]
  },
  {
   "cell_type": "code",
   "execution_count": 3,
   "metadata": {},
   "outputs": [],
   "source": [
    "#import libraries\n",
    "from pyspark.sql import SparkSession\n",
    "import pandas as pd\n",
    "import numpy as np\n",
    "import matplotlib\n",
    "import sklearn\n",
    "import scipy\n",
    "import matplotlib.pyplot as plt\n",
    "import matplotlib.pylab as pylab\n",
    "import subprocess\n",
    "from pyspark.sql.functions import *"
   ]
  },
  {
   "cell_type": "markdown",
   "metadata": {},
   "source": [
    "### Package Versions"
   ]
  },
  {
   "cell_type": "code",
   "execution_count": 4,
   "metadata": {},
   "outputs": [
    {
     "name": "stdout",
     "output_type": "stream",
     "text": [
      "matplotlib: 3.0.3\n",
      "sklearn: 0.19.2\n",
      "scipy: 1.2.1\n",
      "pandas: 0.24.2\n",
      "numpy: 1.16.3\n",
      "Python: 3.7.3 (v3.7.3:ef4ec6ed12, Mar 25 2019, 16:52:21) \n",
      "[Clang 6.0 (clang-600.0.57)]\n"
     ]
    }
   ],
   "source": [
    "print('matplotlib: {}'.format(matplotlib.__version__))\n",
    "print('sklearn: {}'.format(sklearn.__version__))\n",
    "print('scipy: {}'.format(scipy.__version__))\n",
    "print('pandas: {}'.format(pd.__version__))\n",
    "print('numpy: {}'.format(np.__version__))\n",
    "print('Python: {}'.format(sys.version))"
   ]
  },
  {
   "cell_type": "markdown",
   "metadata": {},
   "source": [
    "## Creating SparkSession\n",
    "Get package to handle AWS to access S3:"
   ]
  },
  {
   "cell_type": "code",
   "execution_count": 5,
   "metadata": {},
   "outputs": [
    {
     "name": "stdout",
     "output_type": "stream",
     "text": [
      "env: PYSPARK_SUBMIT_ARGS=--packages=org.apache.hadoop:hadoop-aws:2.7.3 pyspark-shell\n"
     ]
    }
   ],
   "source": [
    "%set_env PYSPARK_SUBMIT_ARGS=--packages=org.apache.hadoop:hadoop-aws:2.7.3 pyspark-shell\n"
   ]
  },
  {
   "cell_type": "markdown",
   "metadata": {},
   "source": [
    "Creating Spark Session, hosted across all local nodes on a **Standalone Cluster**:"
   ]
  },
  {
   "cell_type": "code",
   "execution_count": 6,
   "metadata": {},
   "outputs": [],
   "source": [
    "spark = SparkSession \\\n",
    "    .builder \\\n",
    "    .master(\"local[*]\") \\\n",
    "    .appName(\"PySpark Craigslist\") \\\n",
    "    .config(\"spark.some.config.option\", \"some-value\") \\\n",
    "    .getOrCreate()\n",
    "\n",
    "sc = spark.sparkContext"
   ]
  },
  {
   "cell_type": "markdown",
   "metadata": {},
   "source": [
    "Configure Hadoop connection for S3:"
   ]
  },
  {
   "cell_type": "code",
   "execution_count": 7,
   "metadata": {},
   "outputs": [],
   "source": [
    "hadoopConf=spark.sparkContext._jsc.hadoopConfiguration()\n",
    "hadoopConf.set(\"fs.s3a.access.key\", \"AWS_ACCESS_KEY_ID\")\n",
    "hadoopConf.set(\"fs.s3a.secret.key\", \"AWS_SECRET_ACCESS_KEY\")"
   ]
  },
  {
   "cell_type": "markdown",
   "metadata": {},
   "source": [
    "Monitoring Spark instrumentation through the WebUI available through `localhost:4040/`"
   ]
  },
  {
   "cell_type": "markdown",
   "metadata": {},
   "source": [
    "# Extract Stage"
   ]
  },
  {
   "cell_type": "markdown",
   "metadata": {},
   "source": [
    "## Kaggle Dataset\n",
    "\n",
    "Available from [kaggle.com/austinreese/](https://www.kaggle.com/austinreese/craigslist-carstrucks-data)"
   ]
  },
  {
   "cell_type": "code",
   "execution_count": 8,
   "metadata": {},
   "outputs": [
    {
     "data": {
      "text/plain": [
       "pyspark.sql.dataframe.DataFrame"
      ]
     },
     "execution_count": 8,
     "metadata": {},
     "output_type": "execute_result"
    }
   ],
   "source": [
    "vehicle_listings = spark.read.format(\"csv\").option(\"header\", \"true\").load(\"../data/craigslistVehiclesFull.csv\")\n",
    "type(vehicle_listings)"
   ]
  },
  {
   "cell_type": "markdown",
   "metadata": {},
   "source": [
    "## Validating Data"
   ]
  },
  {
   "cell_type": "markdown",
   "metadata": {},
   "source": [
    "Now that the data is available as a local *dataframe* on the Spark cluster, let's validate the dataframe by look at the schema, size, samples and statistics of our working data - "
   ]
  },
  {
   "cell_type": "code",
   "execution_count": 9,
   "metadata": {},
   "outputs": [
    {
     "name": "stdout",
     "output_type": "stream",
     "text": [
      "root\n",
      " |-- url: string (nullable = true)\n",
      " |-- city: string (nullable = true)\n",
      " |-- price: string (nullable = true)\n",
      " |-- year: string (nullable = true)\n",
      " |-- manufacturer: string (nullable = true)\n",
      " |-- make: string (nullable = true)\n",
      " |-- condition: string (nullable = true)\n",
      " |-- cylinders: string (nullable = true)\n",
      " |-- fuel: string (nullable = true)\n",
      " |-- odometer: string (nullable = true)\n",
      " |-- title_status: string (nullable = true)\n",
      " |-- transmission: string (nullable = true)\n",
      " |-- vin: string (nullable = true)\n",
      " |-- drive: string (nullable = true)\n",
      " |-- size: string (nullable = true)\n",
      " |-- type: string (nullable = true)\n",
      " |-- paint_color: string (nullable = true)\n",
      " |-- image_url: string (nullable = true)\n",
      " |-- lat: string (nullable = true)\n",
      " |-- long: string (nullable = true)\n",
      " |-- county_fips: string (nullable = true)\n",
      " |-- county_name: string (nullable = true)\n",
      " |-- state_fips: string (nullable = true)\n",
      " |-- state_code: string (nullable = true)\n",
      " |-- state_name: string (nullable = true)\n",
      " |-- weather: string (nullable = true)\n",
      "\n"
     ]
    }
   ],
   "source": [
    "vehicle_listings.printSchema()"
   ]
  },
  {
   "cell_type": "markdown",
   "metadata": {},
   "source": [
    "Dimensions of Raw Dataset:"
   ]
  },
  {
   "cell_type": "code",
   "execution_count": 10,
   "metadata": {
    "scrolled": true
   },
   "outputs": [
    {
     "name": "stdout",
     "output_type": "stream",
     "text": [
      "1723065 26\n"
     ]
    }
   ],
   "source": [
    "print(vehicle_listings.count(),len(vehicle_listings.columns))"
   ]
  },
  {
   "cell_type": "markdown",
   "metadata": {},
   "source": [
    "Collecting random sample to see what kind of data populates each column:"
   ]
  },
  {
   "cell_type": "code",
   "execution_count": 11,
   "metadata": {},
   "outputs": [
    {
     "data": {
      "text/html": [
       "<div>\n",
       "<style scoped>\n",
       "    .dataframe tbody tr th:only-of-type {\n",
       "        vertical-align: middle;\n",
       "    }\n",
       "\n",
       "    .dataframe tbody tr th {\n",
       "        vertical-align: top;\n",
       "    }\n",
       "\n",
       "    .dataframe thead th {\n",
       "        text-align: right;\n",
       "    }\n",
       "</style>\n",
       "<table border=\"1\" class=\"dataframe\">\n",
       "  <thead>\n",
       "    <tr style=\"text-align: right;\">\n",
       "      <th></th>\n",
       "      <th>url</th>\n",
       "      <th>city</th>\n",
       "      <th>price</th>\n",
       "      <th>year</th>\n",
       "      <th>manufacturer</th>\n",
       "      <th>make</th>\n",
       "      <th>condition</th>\n",
       "      <th>cylinders</th>\n",
       "      <th>fuel</th>\n",
       "      <th>odometer</th>\n",
       "      <th>...</th>\n",
       "      <th>paint_color</th>\n",
       "      <th>image_url</th>\n",
       "      <th>lat</th>\n",
       "      <th>long</th>\n",
       "      <th>county_fips</th>\n",
       "      <th>county_name</th>\n",
       "      <th>state_fips</th>\n",
       "      <th>state_code</th>\n",
       "      <th>state_name</th>\n",
       "      <th>weather</th>\n",
       "    </tr>\n",
       "  </thead>\n",
       "  <tbody>\n",
       "    <tr>\n",
       "      <th>17</th>\n",
       "      <td>https://lexington.craigslist.org/cto/d/2007-me...</td>\n",
       "      <td>lexington</td>\n",
       "      <td>3950</td>\n",
       "      <td>2007</td>\n",
       "      <td>mercury</td>\n",
       "      <td>grand marquis ls</td>\n",
       "      <td>excellent</td>\n",
       "      <td>8 cylinders</td>\n",
       "      <td>gas</td>\n",
       "      <td>74850</td>\n",
       "      <td>...</td>\n",
       "      <td>blue</td>\n",
       "      <td>https://images.craigslist.org/01414_dqw8XgIfcQ...</td>\n",
       "      <td>38.257397</td>\n",
       "      <td>-83.559598</td>\n",
       "      <td>21069</td>\n",
       "      <td>Fleming</td>\n",
       "      <td>21</td>\n",
       "      <td>KY</td>\n",
       "      <td>Kentucky</td>\n",
       "      <td>50</td>\n",
       "    </tr>\n",
       "    <tr>\n",
       "      <th>60</th>\n",
       "      <td>https://stockton.craigslist.org/cto/d/92-lexus...</td>\n",
       "      <td>stockton</td>\n",
       "      <td>500</td>\n",
       "      <td>1992</td>\n",
       "      <td>lexus</td>\n",
       "      <td>es 300</td>\n",
       "      <td>None</td>\n",
       "      <td>None</td>\n",
       "      <td>gas</td>\n",
       "      <td>None</td>\n",
       "      <td>...</td>\n",
       "      <td>None</td>\n",
       "      <td>https://images.craigslist.org/00d0d_1IBjY2EAFw...</td>\n",
       "      <td>37.914091</td>\n",
       "      <td>-121.421363</td>\n",
       "      <td>6077</td>\n",
       "      <td>San Joaquin</td>\n",
       "      <td>6</td>\n",
       "      <td>CA</td>\n",
       "      <td>California</td>\n",
       "      <td>59</td>\n",
       "    </tr>\n",
       "    <tr>\n",
       "      <th>116</th>\n",
       "      <td>https://augusta.craigslist.org/cto/d/2013-toyo...</td>\n",
       "      <td>augusta</td>\n",
       "      <td>22999</td>\n",
       "      <td>2013</td>\n",
       "      <td>toyota</td>\n",
       "      <td>highlander</td>\n",
       "      <td>None</td>\n",
       "      <td>None</td>\n",
       "      <td>gas</td>\n",
       "      <td>None</td>\n",
       "      <td>...</td>\n",
       "      <td>None</td>\n",
       "      <td>https://images.craigslist.org/00j0j_2dE9yVmja8...</td>\n",
       "      <td>34.077</td>\n",
       "      <td>-84.3033</td>\n",
       "      <td>13121</td>\n",
       "      <td>Fulton</td>\n",
       "      <td>13</td>\n",
       "      <td>GA</td>\n",
       "      <td>Georgia</td>\n",
       "      <td>59</td>\n",
       "    </tr>\n",
       "    <tr>\n",
       "      <th>29</th>\n",
       "      <td>https://kelowna.craigslist.ca/ctd/d/2019-gmc-3...</td>\n",
       "      <td>kelowna</td>\n",
       "      <td>85475</td>\n",
       "      <td>2019</td>\n",
       "      <td>gmc</td>\n",
       "      <td>sierra 3500hd</td>\n",
       "      <td>new</td>\n",
       "      <td>8 cylinders</td>\n",
       "      <td>diesel</td>\n",
       "      <td>None</td>\n",
       "      <td>...</td>\n",
       "      <td>black</td>\n",
       "      <td>https://images.craigslist.org/00M0M_9lsAVea6hZ...</td>\n",
       "      <td>49.130744</td>\n",
       "      <td>-123.089055</td>\n",
       "      <td>None</td>\n",
       "      <td>None</td>\n",
       "      <td>None</td>\n",
       "      <td>None</td>\n",
       "      <td>FAILED</td>\n",
       "      <td>None</td>\n",
       "    </tr>\n",
       "    <tr>\n",
       "      <th>81</th>\n",
       "      <td>https://minneapolis.craigslist.org/ram/ctd/d/1...</td>\n",
       "      <td>minneapolis</td>\n",
       "      <td>5999</td>\n",
       "      <td>1999</td>\n",
       "      <td>ford</td>\n",
       "      <td>f250</td>\n",
       "      <td>None</td>\n",
       "      <td>8 cylinders</td>\n",
       "      <td>gas</td>\n",
       "      <td>210000</td>\n",
       "      <td>...</td>\n",
       "      <td>None</td>\n",
       "      <td>https://images.craigslist.org/00X0X_b17n1KVKxY...</td>\n",
       "      <td>44.968</td>\n",
       "      <td>-93.1981</td>\n",
       "      <td>27123</td>\n",
       "      <td>Ramsey</td>\n",
       "      <td>27</td>\n",
       "      <td>MN</td>\n",
       "      <td>Minnesota</td>\n",
       "      <td>43</td>\n",
       "    </tr>\n",
       "    <tr>\n",
       "      <th>13</th>\n",
       "      <td>https://charlestonwv.craigslist.org/ctd/d/2007...</td>\n",
       "      <td>charlestonwv</td>\n",
       "      <td>25500</td>\n",
       "      <td>2007</td>\n",
       "      <td>ram</td>\n",
       "      <td>3500 crewcab slt 4x4 d</td>\n",
       "      <td>None</td>\n",
       "      <td>None</td>\n",
       "      <td>diesel</td>\n",
       "      <td>113284</td>\n",
       "      <td>...</td>\n",
       "      <td>white</td>\n",
       "      <td>https://images.craigslist.org/00g0g_bHJB1JbXtf...</td>\n",
       "      <td>39.4991</td>\n",
       "      <td>-76.9101</td>\n",
       "      <td>24013</td>\n",
       "      <td>Carroll</td>\n",
       "      <td>24</td>\n",
       "      <td>MD</td>\n",
       "      <td>Maryland</td>\n",
       "      <td>56</td>\n",
       "    </tr>\n",
       "    <tr>\n",
       "      <th>51</th>\n",
       "      <td>https://salem.craigslist.org/ctd/d/2014-dodge-...</td>\n",
       "      <td>salem</td>\n",
       "      <td>15986</td>\n",
       "      <td>2014</td>\n",
       "      <td>dodge</td>\n",
       "      <td>journey</td>\n",
       "      <td>None</td>\n",
       "      <td>None</td>\n",
       "      <td>gas</td>\n",
       "      <td>51567</td>\n",
       "      <td>...</td>\n",
       "      <td>silver</td>\n",
       "      <td>https://images.craigslist.org/00l0l_5Iv8wWXotk...</td>\n",
       "      <td>44.917924</td>\n",
       "      <td>-123.045466</td>\n",
       "      <td>41047</td>\n",
       "      <td>Marion</td>\n",
       "      <td>41</td>\n",
       "      <td>OR</td>\n",
       "      <td>Oregon</td>\n",
       "      <td>50</td>\n",
       "    </tr>\n",
       "    <tr>\n",
       "      <th>35</th>\n",
       "      <td>https://comoxvalley.craigslist.ca/ctd/d/2011-h...</td>\n",
       "      <td>comoxvalley</td>\n",
       "      <td>12853</td>\n",
       "      <td>2011</td>\n",
       "      <td>honda</td>\n",
       "      <td>cr-v</td>\n",
       "      <td>None</td>\n",
       "      <td>None</td>\n",
       "      <td>gas</td>\n",
       "      <td>98523</td>\n",
       "      <td>...</td>\n",
       "      <td>None</td>\n",
       "      <td>https://images.craigslist.org/00505_azLty1PKHh...</td>\n",
       "      <td>50.045049</td>\n",
       "      <td>-125.270303</td>\n",
       "      <td>None</td>\n",
       "      <td>None</td>\n",
       "      <td>None</td>\n",
       "      <td>None</td>\n",
       "      <td>FAILED</td>\n",
       "      <td>None</td>\n",
       "    </tr>\n",
       "    <tr>\n",
       "      <th>147</th>\n",
       "      <td>https://milwaukee.craigslist.org/cto/d/chevy-t...</td>\n",
       "      <td>milwaukee</td>\n",
       "      <td>2500</td>\n",
       "      <td>2001</td>\n",
       "      <td>chevrolet</td>\n",
       "      <td>tahoe</td>\n",
       "      <td>None</td>\n",
       "      <td>None</td>\n",
       "      <td>gas</td>\n",
       "      <td>154000</td>\n",
       "      <td>...</td>\n",
       "      <td>None</td>\n",
       "      <td>https://images.craigslist.org/00707_dfjbctDfmg...</td>\n",
       "      <td>43.015868</td>\n",
       "      <td>-88.006429</td>\n",
       "      <td>55079</td>\n",
       "      <td>Milwaukee</td>\n",
       "      <td>55</td>\n",
       "      <td>WI</td>\n",
       "      <td>Wisconsin</td>\n",
       "      <td>45</td>\n",
       "    </tr>\n",
       "    <tr>\n",
       "      <th>86</th>\n",
       "      <td>https://delaware.craigslist.org/cto/d/1961-nas...</td>\n",
       "      <td>delaware</td>\n",
       "      <td>9900</td>\n",
       "      <td>1961</td>\n",
       "      <td>None</td>\n",
       "      <td>nash metropolitan</td>\n",
       "      <td>good</td>\n",
       "      <td>4 cylinders</td>\n",
       "      <td>gas</td>\n",
       "      <td>48058</td>\n",
       "      <td>...</td>\n",
       "      <td>None</td>\n",
       "      <td>https://images.craigslist.org/00w0w_1xbz3sFnkU...</td>\n",
       "      <td>39.7647</td>\n",
       "      <td>-75.5069</td>\n",
       "      <td>10003</td>\n",
       "      <td>New Castle</td>\n",
       "      <td>10</td>\n",
       "      <td>DE</td>\n",
       "      <td>Delaware</td>\n",
       "      <td>54</td>\n",
       "    </tr>\n",
       "  </tbody>\n",
       "</table>\n",
       "<p>10 rows × 26 columns</p>\n",
       "</div>"
      ],
      "text/plain": [
       "                                                   url          city  price  \\\n",
       "17   https://lexington.craigslist.org/cto/d/2007-me...     lexington   3950   \n",
       "60   https://stockton.craigslist.org/cto/d/92-lexus...      stockton    500   \n",
       "116  https://augusta.craigslist.org/cto/d/2013-toyo...       augusta  22999   \n",
       "29   https://kelowna.craigslist.ca/ctd/d/2019-gmc-3...       kelowna  85475   \n",
       "81   https://minneapolis.craigslist.org/ram/ctd/d/1...   minneapolis   5999   \n",
       "13   https://charlestonwv.craigslist.org/ctd/d/2007...  charlestonwv  25500   \n",
       "51   https://salem.craigslist.org/ctd/d/2014-dodge-...         salem  15986   \n",
       "35   https://comoxvalley.craigslist.ca/ctd/d/2011-h...   comoxvalley  12853   \n",
       "147  https://milwaukee.craigslist.org/cto/d/chevy-t...     milwaukee   2500   \n",
       "86   https://delaware.craigslist.org/cto/d/1961-nas...      delaware   9900   \n",
       "\n",
       "     year manufacturer                    make  condition    cylinders  \\\n",
       "17   2007      mercury        grand marquis ls  excellent  8 cylinders   \n",
       "60   1992        lexus                  es 300       None         None   \n",
       "116  2013       toyota              highlander       None         None   \n",
       "29   2019          gmc           sierra 3500hd        new  8 cylinders   \n",
       "81   1999         ford                    f250       None  8 cylinders   \n",
       "13   2007          ram  3500 crewcab slt 4x4 d       None         None   \n",
       "51   2014        dodge                 journey       None         None   \n",
       "35   2011        honda                    cr-v       None         None   \n",
       "147  2001    chevrolet                   tahoe       None         None   \n",
       "86   1961         None       nash metropolitan       good  4 cylinders   \n",
       "\n",
       "       fuel odometer  ... paint_color  \\\n",
       "17      gas    74850  ...        blue   \n",
       "60      gas     None  ...        None   \n",
       "116     gas     None  ...        None   \n",
       "29   diesel     None  ...       black   \n",
       "81      gas   210000  ...        None   \n",
       "13   diesel   113284  ...       white   \n",
       "51      gas    51567  ...      silver   \n",
       "35      gas    98523  ...        None   \n",
       "147     gas   154000  ...        None   \n",
       "86      gas    48058  ...        None   \n",
       "\n",
       "                                             image_url        lat  \\\n",
       "17   https://images.craigslist.org/01414_dqw8XgIfcQ...  38.257397   \n",
       "60   https://images.craigslist.org/00d0d_1IBjY2EAFw...  37.914091   \n",
       "116  https://images.craigslist.org/00j0j_2dE9yVmja8...     34.077   \n",
       "29   https://images.craigslist.org/00M0M_9lsAVea6hZ...  49.130744   \n",
       "81   https://images.craigslist.org/00X0X_b17n1KVKxY...     44.968   \n",
       "13   https://images.craigslist.org/00g0g_bHJB1JbXtf...    39.4991   \n",
       "51   https://images.craigslist.org/00l0l_5Iv8wWXotk...  44.917924   \n",
       "35   https://images.craigslist.org/00505_azLty1PKHh...  50.045049   \n",
       "147  https://images.craigslist.org/00707_dfjbctDfmg...  43.015868   \n",
       "86   https://images.craigslist.org/00w0w_1xbz3sFnkU...    39.7647   \n",
       "\n",
       "            long county_fips  county_name state_fips state_code  state_name  \\\n",
       "17    -83.559598       21069      Fleming         21         KY    Kentucky   \n",
       "60   -121.421363        6077  San Joaquin          6         CA  California   \n",
       "116     -84.3033       13121       Fulton         13         GA     Georgia   \n",
       "29   -123.089055        None         None       None       None      FAILED   \n",
       "81      -93.1981       27123       Ramsey         27         MN   Minnesota   \n",
       "13      -76.9101       24013      Carroll         24         MD    Maryland   \n",
       "51   -123.045466       41047       Marion         41         OR      Oregon   \n",
       "35   -125.270303        None         None       None       None      FAILED   \n",
       "147   -88.006429       55079    Milwaukee         55         WI   Wisconsin   \n",
       "86      -75.5069       10003   New Castle         10         DE    Delaware   \n",
       "\n",
       "    weather  \n",
       "17       50  \n",
       "60       59  \n",
       "116      59  \n",
       "29     None  \n",
       "81       43  \n",
       "13       56  \n",
       "51       50  \n",
       "35     None  \n",
       "147      45  \n",
       "86       54  \n",
       "\n",
       "[10 rows x 26 columns]"
      ]
     },
     "execution_count": 11,
     "metadata": {},
     "output_type": "execute_result"
    }
   ],
   "source": [
    "vehicle_listings.sample(False,0.0001,10).toPandas().sample(10)"
   ]
  },
  {
   "cell_type": "markdown",
   "metadata": {},
   "source": [
    "Basic statistics on raw dataset columns:"
   ]
  },
  {
   "cell_type": "code",
   "execution_count": 12,
   "metadata": {
    "scrolled": true
   },
   "outputs": [
    {
     "name": "stdout",
     "output_type": "stream",
     "text": [
      "+-------+----------+------------------+------------------+--------------------+------------------+\n",
      "|summary|      city|        state_code|              year|                 lat|              long|\n",
      "+-------+----------+------------------+------------------+--------------------+------------------+\n",
      "|  count|   1723065|           1664232|           1716750|             1723065|           1723063|\n",
      "|   mean|      null|              28.4|2004.8408405417213|  38.781324850962136|-93.60776402344794|\n",
      "| stddev|      null|11.749231653365442|  12.0877162743775|   5.983397428918304| 67.11417142134626|\n",
      "|    min|abbotsford|                17|              1553|           -0.201001|         -0.072901|\n",
      "|    max|zanesville|                WY|               718|https://images.cr...|              9009|\n",
      "+-------+----------+------------------+------------------+--------------------+------------------+\n",
      "\n",
      "+-------+------------+--------------------+--------------------+---------+------------------+\n",
      "|summary|manufacturer|                make|               price|condition|          odometer|\n",
      "+-------+------------+--------------------+--------------------+---------+------------------+\n",
      "|  count|     1586651|             1653476|             1723065|  1022285|           1159007|\n",
      "|   mean|        null|2.0412982685270864E8|  107554.03791615523|     null|113638.96127165236|\n",
      "| stddev|        null|5.219260906638930...|1.0044387316232303E7|     null| 136861.0463338454|\n",
      "|    min|       acura|        ! ton pickup|                   1|     4x4\"|                 0|\n",
      "|    max|          vw|                   ∞|           999999999|  salvage|               gas|\n",
      "+-------+------------+--------------------+--------------------+---------+------------------+\n",
      "\n",
      "+-------+------------+------------------+-----------------+-----------------+-----------+-----------------+\n",
      "|summary|   cylinders|              fuel|     transmission|            drive|       size|             type|\n",
      "+-------+------------+------------------+-----------------+-----------------+-----------+-----------------+\n",
      "|  count|     1031768|           1712702|          1714034|          1061178|     599110|          1020129|\n",
      "|   mean|        null|120491.66666666667|             null|             null|       null|         34.80225|\n",
      "| stddev|        null|44637.820025922716|             null|             null|       null|6.530767520360834|\n",
      "|    min|10 cylinders|            135000|1G2WP52K7XF291710|1GBJK34G05E297566|        4wd|          30.1843|\n",
      "|    max|  parts only|             other|          rebuilt|              rwd|sub-compact|            wagon|\n",
      "+-------+------------+------------------+-----------------+-----------------+-----------+-----------------+\n",
      "\n",
      "+-------+--------------------+-----------------+--------------------+------------------+------------------+\n",
      "|summary|                 url|     title_status|                 vin|       paint_color|         image_url|\n",
      "+-------+--------------------+-----------------+--------------------+------------------+------------------+\n",
      "|  count|             1723065|          1720508|              605345|           1027421|           1723060|\n",
      "|   mean|                null|69335.88888888889|2.329898077722364E15|         -92.24275|      5156.2716049|\n",
      "| stddev|                null|40424.25247127164|1.221077550015922...|0.2730139282161253|10912.512283606751|\n",
      "|    min|https://abbotsfor...|           166730|                 !!!|          -92.0497|             22055|\n",
      "|    max|https://zanesvill...|          salvage|                   ∞|            yellow|             white|\n",
      "+-------+--------------------+-----------------+--------------------+------------------+------------------+\n",
      "\n",
      "+-------+-----------------+------------------+-----------------+------------------+------------------+\n",
      "|summary|      county_fips|        state_fips|          weather|        state_code|        state_name|\n",
      "+-------+-----------------+------------------+-----------------+------------------+------------------+\n",
      "|  count|          1664232|           1664232|          1663629|           1664232|           1723061|\n",
      "|   mean|28430.36144109112| 28.34413681877833| 53.7870443893704|              28.4|54.833333333333336|\n",
      "| stddev|16054.35450578523|16.032296397585032|7.799403370681863|11.749231653365442|2.7141603981096374|\n",
      "|    min|         -117.381|                 1|               29|                17|                51|\n",
      "|    max|          Ventura|              York|       Washington|                WY|           Wyoming|\n",
      "+-------+-----------------+------------------+-----------------+------------------+------------------+\n",
      "\n"
     ]
    }
   ],
   "source": [
    "vehicle_listings.select(\"city\",\"state_code\",\"year\",\"lat\",\"long\").describe().show()\n",
    "vehicle_listings.select(\"manufacturer\",\"make\",\"price\",\"condition\",\"odometer\").describe().show()\n",
    "vehicle_listings.select(\"cylinders\",\"fuel\",\"transmission\",\"drive\",\"size\",\"type\").describe().show()\n",
    "vehicle_listings.select(\"url\",\"title_status\",\"vin\",\"paint_color\",\"image_url\").describe().show()\n",
    "vehicle_listings.select(\"county_fips\",\"state_fips\",\"weather\",\"state_code\",\"state_name\").describe().show()"
   ]
  },
  {
   "cell_type": "markdown",
   "metadata": {},
   "source": [
    "Generally, the `.describe()` or `.explain()` method is a good way to start exploring a dataset. For this dataset, there are too many columns, some very unclean, and it is hard to decipher much from the above results. <br>\n",
    "\n",
    "For this project, we will perform cleaning twice. The Extract stage has a basic cleaning section to remove duplicates and to obtain numerical features (notice in the schema above, all columns are *String* by default). We can cache the Extracted Data in a compressed format such as parquet, so it can be used for different pipelines. <br>\n",
    "\n",
    "The main cleaning section is performed during the [Transform Stage](#Transform-Data).<br>\n",
    "\n"
   ]
  },
  {
   "cell_type": "markdown",
   "metadata": {},
   "source": [
    "## Cleaning Data (Basic)"
   ]
  },
  {
   "cell_type": "markdown",
   "metadata": {},
   "source": [
    "The goal of **Extract Stage** cleaning is to find a balance between cleaning the data and maintaining the maximum amount of raw data. This optimizes usability for other pipelines. <br>"
   ]
  },
  {
   "cell_type": "markdown",
   "metadata": {},
   "source": [
    "### Removing Duplicates"
   ]
  },
  {
   "cell_type": "markdown",
   "metadata": {},
   "source": [
    "The raw dataset was obtained using a scraper from Craiglist. This means that each post will have a unique url."
   ]
  },
  {
   "cell_type": "code",
   "execution_count": 13,
   "metadata": {},
   "outputs": [
    {
     "name": "stdout",
     "output_type": "stream",
     "text": [
      "1723065\n",
      "1723065\n"
     ]
    }
   ],
   "source": [
    "print(vehicle_listings.select(\"url\").count())\n",
    "print(vehicle_listings.select(\"url\").distinct().count())"
   ]
  },
  {
   "cell_type": "markdown",
   "metadata": {},
   "source": [
    "The scraper can't find duplicate recors because of various reasons. Each duplicate is more likely the result of people posting multiple times or other errors. Therefore no record from the raw dataset can be found to be a complete duplicate."
   ]
  },
  {
   "cell_type": "markdown",
   "metadata": {},
   "source": [
    "However, duplicates can be removed by excluding `url` when calling .drop_duplicates() on **`vehicle_listings`**."
   ]
  },
  {
   "cell_type": "code",
   "execution_count": 14,
   "metadata": {},
   "outputs": [
    {
     "name": "stdout",
     "output_type": "stream",
     "text": [
      "['url', 'city', 'price', 'year', 'manufacturer', 'make', 'condition', 'cylinders', 'fuel', 'odometer', 'title_status', 'transmission', 'vin', 'drive', 'size', 'type', 'paint_color', 'image_url', 'lat', 'long', 'county_fips', 'county_name', 'state_fips', 'state_code', 'state_name', 'weather']\n"
     ]
    }
   ],
   "source": [
    "print(vehicle_listings.columns)"
   ]
  },
  {
   "cell_type": "code",
   "execution_count": 16,
   "metadata": {},
   "outputs": [],
   "source": [
    "vehicle_listings_clean=vehicle_listings.drop_duplicates(['city', 'price', 'year', 'manufacturer', 'make', 'condition', 'cylinders', 'fuel', 'odometer', 'title_status', 'transmission', 'vin', 'drive', 'size', 'type', 'paint_color', 'image_url', 'lat', 'long', 'county_fips', 'county_name', 'state_fips', 'state_code', 'state_name', 'weather'])\n",
    "                                                   "
   ]
  },
  {
   "cell_type": "code",
   "execution_count": 17,
   "metadata": {},
   "outputs": [
    {
     "name": "stdout",
     "output_type": "stream",
     "text": [
      "Original Dimensions -  1723065 * 26\n",
      "New Dimensions -  1537438 * 26\n",
      "Data kept through Extract: 89 percent of records\n",
      "-----------------\n"
     ]
    }
   ],
   "source": [
    "old_col=vehicle_listings.count()\n",
    "old_row=len(vehicle_listings.columns)\n",
    "new_col=vehicle_listings_clean.count()\n",
    "new_row=len(vehicle_listings_clean.columns)\n",
    "\n",
    "print(\"Original Dimensions - \",old_col,\"*\",old_row)\n",
    "print(\"New Dimensions - \",new_col,\"*\",new_row)\n",
    "\n",
    "\n",
    "print(\"Data kept through Extract: %d percent of records\\n-----------------\" % (100 * new_col / old_col))\n"
   ]
  },
  {
   "cell_type": "markdown",
   "metadata": {},
   "source": [
    "### Obtain Numerical Columns\n",
    "Convert *numerical feature types* from string to float to obtain **Numerical** data columns."
   ]
  },
  {
   "cell_type": "code",
   "execution_count": 18,
   "metadata": {},
   "outputs": [
    {
     "name": "stdout",
     "output_type": "stream",
     "text": [
      "root\n",
      " |-- url: string (nullable = true)\n",
      " |-- city: string (nullable = true)\n",
      " |-- price: float (nullable = true)\n",
      " |-- year: float (nullable = true)\n",
      " |-- manufacturer: string (nullable = true)\n",
      " |-- make: string (nullable = true)\n",
      " |-- condition: string (nullable = true)\n",
      " |-- cylinders: string (nullable = true)\n",
      " |-- fuel: string (nullable = true)\n",
      " |-- odometer: float (nullable = true)\n",
      " |-- title_status: string (nullable = true)\n",
      " |-- transmission: string (nullable = true)\n",
      " |-- vin: string (nullable = true)\n",
      " |-- drive: string (nullable = true)\n",
      " |-- size: string (nullable = true)\n",
      " |-- type: string (nullable = true)\n",
      " |-- paint_color: string (nullable = true)\n",
      " |-- image_url: string (nullable = true)\n",
      " |-- lat: string (nullable = true)\n",
      " |-- long: string (nullable = true)\n",
      " |-- county_fips: string (nullable = true)\n",
      " |-- county_name: string (nullable = true)\n",
      " |-- state_fips: string (nullable = true)\n",
      " |-- state_code: string (nullable = true)\n",
      " |-- state_name: string (nullable = true)\n",
      " |-- weather: string (nullable = true)\n",
      "\n"
     ]
    }
   ],
   "source": [
    "from functools import reduce\n",
    "\n",
    "cols=[\"price\",\"year\",\"odometer\"]\n",
    "\n",
    "vehicle_listings_clean = (reduce(\n",
    "            lambda memo_df, col_name: memo_df.withColumn(col_name, vehicle_listings[col_name].cast(\"float\")),\n",
    "            cols,\n",
    "            vehicle_listings_clean))\n",
    "\n",
    "vehicle_listings_clean.printSchema()"
   ]
  },
  {
   "cell_type": "markdown",
   "metadata": {},
   "source": [
    "## Caching Extract Data on S3"
   ]
  },
  {
   "cell_type": "markdown",
   "metadata": {},
   "source": [
    "After cleaning, the final task in the **Extract** stage is to cache the data. I will store the cleaned dataset as a parquet file on Amazon S3. We can return to this file without having to run the Extract pipeline again, and attach other pipelines from this point as well. <br>"
   ]
  },
  {
   "cell_type": "markdown",
   "metadata": {},
   "source": [
    "<div class=\"alert alert-warning\">\n",
    "<b>NOTE</b> This implementation uses .coalesce(4) before .write() to optimize read/write performance on S3.\n",
    "</div>"
   ]
  },
  {
   "cell_type": "code",
   "execution_count": 19,
   "metadata": {},
   "outputs": [],
   "source": [
    "#vehicle_listings_clean.write.parquet(\"s3a://deveshetl/usedcars/extract\",mode=\"overwrite\")\n",
    "vehicle_listings_clean.coalesce(4).write.parquet(\"../data/vehicle_listings_extract.parquet\",mode='overwrite')"
   ]
  },
  {
   "cell_type": "markdown",
   "metadata": {},
   "source": [
    "Unable to connect to S3 directly using SparkSession due to Spark generating its credentials, possibly due to versioning... <br>\n",
    "Instead, we can connect to S3 using a bash script.<br>\n",
    "The parquet compression brings the file size down to *<30MB*, so this doesn't cause performance issues here.<br>"
   ]
  },
  {
   "cell_type": "code",
   "execution_count": 20,
   "metadata": {},
   "outputs": [
    {
     "name": "stdout",
     "output_type": "stream",
     "text": [
      "Connecting to AWS S3...\n",
      "Object Written to S3.\n"
     ]
    }
   ],
   "source": [
    "print (\"Connecting to AWS S3...\")\n",
    "subprocess.Popen(['./S3_connect.command','write_extract'])\n",
    "print (\"Object Written to S3.\")"
   ]
  },
  {
   "cell_type": "markdown",
   "metadata": {},
   "source": [
    "This completes the **Extract Stage**. <br>\n",
    "\n",
    "We clean, sample and explore the data in the **Transform Stage**. The data available on S3 is clean but as close to the raw data as possible. <br>"
   ]
  },
  {
   "cell_type": "markdown",
   "metadata": {},
   "source": [
    "# Transform Stage"
   ]
  },
  {
   "cell_type": "markdown",
   "metadata": {},
   "source": [
    "*First we obtain the working dataset from the cached source on S3.* <br>"
   ]
  },
  {
   "cell_type": "code",
   "execution_count": 21,
   "metadata": {},
   "outputs": [
    {
     "name": "stdout",
     "output_type": "stream",
     "text": [
      "Connecting to AWS S3...\n",
      "Object Read from S3 to ../data.\n"
     ]
    }
   ],
   "source": [
    "print (\"Connecting to AWS S3...\")\n",
    "subprocess.Popen(['./S3_connect.command','read_extract'])\n",
    "print (\"Object Read from S3 to ../data.\")"
   ]
  },
  {
   "cell_type": "code",
   "execution_count": 32,
   "metadata": {},
   "outputs": [
    {
     "data": {
      "text/plain": [
       "pyspark.sql.dataframe.DataFrame"
      ]
     },
     "execution_count": 32,
     "metadata": {},
     "output_type": "execute_result"
    }
   ],
   "source": [
    "#vehicles_listings_read=spark.read.parquet(\"s3a://s3://deveshetl/usedcars/extract\")\n",
    "#vehicle_listings_read=spark.read.parquet(\"../data/vehicle_listings_read.parquet\")\n",
    "\n",
    "vehicle_listings_clean = spark.read.format(\"parquet\").option(\"inferschema\",\"true\").load(\"../data/vehicle_listings_read_extract.parquet\")\n",
    "type(vehicle_listings_clean)\n"
   ]
  },
  {
   "cell_type": "code",
   "execution_count": 33,
   "metadata": {},
   "outputs": [
    {
     "name": "stdout",
     "output_type": "stream",
     "text": [
      "1537438 26\n"
     ]
    }
   ],
   "source": [
    "print(vehicle_listings_clean.count(),len(vehicle_listings_clean.columns))"
   ]
  },
  {
   "cell_type": "markdown",
   "metadata": {},
   "source": [
    "There are over 1.5 million records, and 26 columns. The dataset is too large to perform EDA (Exploratory Data Analysis) comfortably. <br>\n",
    "The final data after *Cleaning* should be as clean as possible without redundant data.<br>"
   ]
  },
  {
   "cell_type": "markdown",
   "metadata": {},
   "source": [
    "## Cleaning Data"
   ]
  },
  {
   "cell_type": "markdown",
   "metadata": {},
   "source": [
    "Cleaning is essential during the **Transform Stage** of the ETL pipeline. The main goal here is to optimize the dataset for the endgoal of the project - Creating a machine learning pipeline to predict the target varibale **Price**. <br>\n",
    "\n",
    "We can also cache the cleaned data set before sampling and exploration for other machine learning project using the same dataset.<br>"
   ]
  },
  {
   "cell_type": "markdown",
   "metadata": {},
   "source": [
    "### Cleaning Checkpoints\n",
    "\n",
    "+  General\n",
    "    +  Drop Columns\n",
    "    +  Drop Rows (Null Price)\n",
    "+  Numerical \n",
    "    +  Apply Reasonable Ranges\n",
    "        +  Kept Odometer Null Values\n",
    "+  Ordinal\n",
    "    +  Narrow down relevant options\n",
    "    +  Remove errors in columns\n",
    "    +  Keep countable ordinal values\n",
    "+  Categorical\n",
    "    +  State_code + State_name (Extract Stage)\n",
    "        +  Removed State_name"
   ]
  },
  {
   "cell_type": "markdown",
   "metadata": {},
   "source": [
    "#### Drop Columns\n",
    "\n",
    "Some Columns are redundant, we can remove them before moving forward.<br>"
   ]
  },
  {
   "cell_type": "code",
   "execution_count": 34,
   "metadata": {},
   "outputs": [
    {
     "name": "stdout",
     "output_type": "stream",
     "text": [
      "Remaining columns- ['city', 'price', 'year', 'manufacturer', 'make', 'condition', 'cylinders', 'fuel', 'odometer', 'title_status', 'transmission', 'drive', 'size', 'type', 'county_name', 'state_code', 'state_name']\n"
     ]
    }
   ],
   "source": [
    "vehicle_listings_clean=vehicle_listings_clean.drop('url','vin', 'paint_color', 'image_url', \\\n",
    "                                       'lat', 'long', 'county_fips', 'state_fips','weather')\n",
    "print(\"Remaining columns-\",vehicle_listings_clean.columns)"
   ]
  },
  {
   "cell_type": "markdown",
   "metadata": {},
   "source": [
    "'lat' and 'long' provide no more useful information than ('city','county_name', 'state_code', 'state_name'), and are therefore not needed.<br>\n",
    "The other dropped columns are not helpful to the analysis."
   ]
  },
  {
   "cell_type": "markdown",
   "metadata": {},
   "source": [
    "The remaining attribute characteristics are varied, we have three types of features available in our data -\n",
    "**Numerical**, **Ordinal**, **Categorical**<br>"
   ]
  },
  {
   "cell_type": "markdown",
   "metadata": {},
   "source": [
    "**Potential Column Types -** <br>\n",
    "Numerical - price, year, odometer <br>\n",
    "Ordinal - condition, cylinders, fuel, title_status, transmission, drive, size, type <br>\n",
    "Categorical - city, manufacturer, make, county_name, state_code, state_name <br>"
   ]
  },
  {
   "cell_type": "markdown",
   "metadata": {},
   "source": [
    "The target variable of this project is **Price**. Therefore, any records where price is null would be irrelevant. Check to see if the dataset contains null prices."
   ]
  },
  {
   "cell_type": "code",
   "execution_count": 36,
   "metadata": {},
   "outputs": [
    {
     "data": {
      "text/plain": [
       "0"
      ]
     },
     "execution_count": 36,
     "metadata": {},
     "output_type": "execute_result"
    }
   ],
   "source": [
    "vehicle_listings_clean.filter(vehicle_listings_clean.price.isNull()).count()"
   ]
  },
  {
   "cell_type": "markdown",
   "metadata": {},
   "source": [
    "### Numerical Data Columns"
   ]
  },
  {
   "cell_type": "code",
   "execution_count": 37,
   "metadata": {},
   "outputs": [],
   "source": [
    "basics=[\"price\",\"manufacturer\",\"make\",\"city\",\"odometer\",\"year\"]\n",
    "#Smaller subset to take quick look at records"
   ]
  },
  {
   "cell_type": "markdown",
   "metadata": {},
   "source": [
    "#### Applying a Reasonable Range on Continuous Types"
   ]
  },
  {
   "cell_type": "markdown",
   "metadata": {},
   "source": [
    "Website postings that advertise items for sale often manipulate search algorithms to get more hits. For example, thousands of posts are spammed with a price of $1 (minimum allowed), to get more visibility through the 'search by price' filter. To ensure that our working dataset is within reasonable boundaries, we apply restrictions on the *Continuous* data columns."
   ]
  },
  {
   "cell_type": "code",
   "execution_count": 38,
   "metadata": {},
   "outputs": [
    {
     "name": "stdout",
     "output_type": "stream",
     "text": [
      "Too new: 2571\n",
      "Too old: 2187\n",
      "Too expensive: 824\n",
      "Too cheap: 20299\n",
      "Too many miles: 27155\n",
      "Too few miles: 9989\n"
     ]
    }
   ],
   "source": [
    "print(\"Too new: %d\" %vehicle_listings_clean.where(\"year >= 2019\").count())\n",
    "print(\"Too old: %d\" %vehicle_listings_clean.where(\"year < 1930\").count())\n",
    "print(\"Too expensive: %d\" %vehicle_listings_clean.where(\"price > 300000\").count())\n",
    "print(\"Too cheap: %d\" %vehicle_listings_clean.where(\"price < 50\").count())\n",
    "print(\"Too many miles: %d\" %vehicle_listings_clean.where(\"odometer > 250000\").count())\n",
    "print(\"Too few miles: %d\" %vehicle_listings_clean.where(\"odometer < 50\").count())\n"
   ]
  },
  {
   "cell_type": "markdown",
   "metadata": {},
   "source": [
    "Before removing 20k+ records due to price, let's confirm if the spame hypothesis is true:"
   ]
  },
  {
   "cell_type": "code",
   "execution_count": 39,
   "metadata": {},
   "outputs": [
    {
     "name": "stdout",
     "output_type": "stream",
     "text": [
      "+-----+------------+--------------------+------------+--------+------+\n",
      "|price|manufacturer|                make|        city|odometer|  year|\n",
      "+-----+------------+--------------------+------------+--------+------+\n",
      "|  4.0|        ford|            f150 4x4|     buffalo|    null|1977.0|\n",
      "|  1.0|        ford|              bronco|    greenbay|    null|1995.0|\n",
      "| 20.0|         gmc|             topkick|jacksonville|    null|1995.0|\n",
      "| 11.0|     hyundai|  genesis coupe 2.0t|     kelowna|    null|2010.0|\n",
      "|  1.0|       honda|               s2000|    columbia|    null|2001.0|\n",
      "| 11.0|  volkswagen|              routan|   charlotte| 64256.0|2013.0|\n",
      "|  1.0|       dodge|            1500 slt|   brunswick|    null|2004.0|\n",
      "|  1.0|        ford|f-150 xlt superca...|    annarbor|177000.0|2007.0|\n",
      "|  1.0|       honda|              accord|   allentown|    null|1997.0|\n",
      "|  1.0|        ford|              ranger|   tricities|    null|2002.0|\n",
      "|  1.0|      nissan|              murano|       tampa| 41847.0|2016.0|\n",
      "|  1.0|         kia|           soul 2.0l|       fayar| 32000.0|2014.0|\n",
      "|  1.0|       chevy|              malibu|  youngstown|    null|2011.0|\n",
      "|  1.0|        ford|           expeditio|oklahomacity|    null|2000.0|\n",
      "|  1.0|      toyota|               camry|     visalia|    null|1987.0|\n",
      "|  4.0|   chevrolet|              impala|  sacramento|    null|2007.0|\n",
      "|  1.0|         gmc| sierra 1500 classic|      mobile|    null|2007.0|\n",
      "| 10.0|        jeep|                cj-7|       ocala|120000.0|1977.0|\n",
      "|  1.0|        ford|            f150 4x4| southjersey|200000.0|2000.0|\n",
      "| 39.0|       honda|              accord|  neworleans|    null|2010.0|\n",
      "+-----+------------+--------------------+------------+--------+------+\n",
      "only showing top 20 rows\n",
      "\n"
     ]
    }
   ],
   "source": [
    "vehicle_listings_clean.sample(False,0.001,100).where(\"price<50\").select(basics).show()"
   ]
  },
  {
   "cell_type": "markdown",
   "metadata": {},
   "source": [
    "As expected, these randomly obtained results show us that \"price<50\" is not very useful to the study. <br>\n"
   ]
  },
  {
   "cell_type": "code",
   "execution_count": 41,
   "metadata": {},
   "outputs": [
    {
     "name": "stdout",
     "output_type": "stream",
     "text": [
      "Null odometer -  517952\n",
      "Null price -  0\n",
      "Null year -  5817\n"
     ]
    }
   ],
   "source": [
    "print(\"Null odometer - \",vehicle_listings_clean.filter(vehicle_listings_clean.odometer.isNull()).count())\n",
    "print(\"Null price - \",vehicle_listings_clean.filter(vehicle_listings_clean.price.isNull()).count())\n",
    "print(\"Null year - \",vehicle_listings_clean.filter(vehicle_listings_clean.year.isNull()).count())"
   ]
  },
  {
   "cell_type": "markdown",
   "metadata": {},
   "source": [
    "The Null counts shows us that a lot of listings have not reported Odometer values, perhaps to increase chances of selling a car or maybe due to lack of info. The question is, do we remove all these records altogether?<br>\n",
    "I would rather keep these records because the 50k+ rows will still provide useful information about other attributes. Removing these values would reduce the dataset by 35%, which is too high.<br>\n",
    "<br>Apply the restrictions to vehicle_listings_clean.<br>\n",
    "Note- The Spark environment allows me to use a direct SQL query to restrict odometer values. This is better suited because the **`pyspark.sql.dataframe`** library treats \"null\" values as false when evaluating the `.where()` function."
   ]
  },
  {
   "cell_type": "code",
   "execution_count": 42,
   "metadata": {
    "scrolled": true
   },
   "outputs": [
    {
     "name": "stdout",
     "output_type": "stream",
     "text": [
      "-----------------\n",
      "Original No. of Records -  1723065\n",
      "Within Reasonable Range -  1470500\n",
      "Data kept for analysis: 85 percent of records\n",
      "-----------------\n",
      "+-------+------------------+------------------+------------------+\n",
      "|summary|             price|              year|          odometer|\n",
      "+-------+------------------+------------------+------------------+\n",
      "|  count|           1470500|           1470500|            970988|\n",
      "|   mean|10841.028629037743|2004.8051193471608|106333.99521209324|\n",
      "| stddev|11492.387883154905|11.587408041215316| 59834.98816437917|\n",
      "|    min|              50.0|            1930.0|              50.0|\n",
      "|    max|          300000.0|            2018.0|          250000.0|\n",
      "+-------+------------------+------------------+------------------+\n",
      "\n"
     ]
    }
   ],
   "source": [
    "vehicle_listings_clean = vehicle_listings_clean.where(\"price>=50 and price<=300000\") \\\n",
    "                    .where(\"year>=1930 and year<2019\") \\\n",
    "                    #.where(\"odometer<=350000\")\n",
    "                    #.where(vehicle_listings_clean.odometer.isNull()) \\\n",
    "\n",
    "vehicle_listings_clean.registerTempTable(\"df_temp\")\n",
    "\n",
    "vehicle_listings_clean=spark.sql(\"SELECT * FROM df_temp WHERE (odometer>=50 AND odometer<=250000) OR (odometer IS NULL)\")\n",
    "\n",
    "\n",
    "\n",
    "'''\n",
    "Other implementation - \n",
    "Replace null with value such as \"not_reported\". \n",
    "Problem - Odometer then can't be treated as continuous data.\n",
    "'''\n",
    "\n",
    "org=vehicle_listings.count()\n",
    "new=vehicle_listings_clean.count()\n",
    "\n",
    "print(\"-----------------\\nOriginal No. of Records - \",org)\n",
    "print(\"Within Reasonable Range - \",new)\n",
    "print(\"Data kept for analysis: %d percent of records\\n-----------------\" % (100 * new / org))\n",
    "\n",
    "\n",
    "vehicle_listings_clean.select(\"price\",\"year\",\"odometer\").describe().show()\n"
   ]
  },
  {
   "cell_type": "markdown",
   "metadata": {},
   "source": [
    "Although only 3 attributes, **price, year, odometer**, can be directly converted to numerical value, other attributes can be be transformed to fit the Categorical and Ordinal labels. The difference between categorical and ordinal values is that ordinal values have a clear and restricted ordering of types. For example, *'condition'* would be ordinal, ranging from excellent to poor."
   ]
  },
  {
   "cell_type": "markdown",
   "metadata": {},
   "source": [
    "### Ordinal Data Columns"
   ]
  },
  {
   "cell_type": "markdown",
   "metadata": {},
   "source": [
    "Ordinal data will play an important role in learning about price. An ordinal data type is a variable that has a limited number of options, which can be ordered. For example, `\"condition\"` should range from excellent to bad (or in this case, \"salvage\"."
   ]
  },
  {
   "cell_type": "markdown",
   "metadata": {},
   "source": [
    "The following columns are of the **Ordinal** types -  <br>\n",
    "(condition, cylinders, fuel, title_status, transmission, drive, size, type) <br>"
   ]
  },
  {
   "cell_type": "markdown",
   "metadata": {},
   "source": [
    "**`ordinals_options_all`** is a map linking each ordinal to each distinct value provided for it. This will help cleaning the dataset faster."
   ]
  },
  {
   "cell_type": "code",
   "execution_count": 43,
   "metadata": {},
   "outputs": [
    {
     "name": "stdout",
     "output_type": "stream",
     "text": [
      "Distinct  condition  options- ['new', ' 84.9\"\" ca wt\"', ' 59.5\"\" ca lt2\"', ' 84.9\"\" ca 4wd ls\"', ' 4x4\"', ' auto\"', 'excellent', '6 cylinders', 'audio controls\"', 'salvage', 'like new', 'good', ' 84.0\"\" ca c5b\"', 'fair', '\",,\"6 cylinders\"']\n",
      "-----------------\n",
      "Distinct  cylinders  options- ['gas', '3 cylinders', 'other', 'diesel', '10 cylinders', '6 cylinders', 'clean', '4 cylinders', '12 cylinders', 'good', '5 cylinders', '8 cylinders', 'parts only']\n",
      "-----------------\n",
      "Distinct  fuel  options- ['gas', 'automatic', 'other', 'diesel', '135000', '178000', '74180', 'hybrid', '4 cylinders', '138000', '8 cylinders', '59770', 'electric']\n",
      "-----------------\n",
      "Distinct  title_status  options- ['43742', 'automatic', '45483', 'lien', '44001', '166730', 'missing', 'manual', 'clean', 'salvage', '60664', 'rebuilt', 'parts only', '98333']\n",
      "-----------------\n",
      "Distinct  transmission  options- ['automatic', 'other', 'manual', 'clean', 'rebuilt', '1G2WP52K7XF291710']\n",
      "-----------------\n",
      "Distinct  drive  options- ['compact', 'full-size', 'fwd', '1GDJC34U85E329724', 'rwd', '1GCEK14VX2Z244409', '3GBKC34G72M110010', '4wd', '1GBJK39608E216926', '1GBJK34G05E297566']\n",
      "-----------------\n",
      "Distinct  size  options- ['mini-van', 'compact', 'full-size', 'SUV', 'fwd', 'rwd', 'mid-size', 'https://images.craigslist.org/00k0k_9EJzf6hJHYQ_600x450.jpg', 'sedan', 'pickup', 'https://images.craigslist.org/00606_kBUK1UvzUnA_600x450.jpg', 'sub-compact', '4wd']\n",
      "-----------------\n",
      "Distinct  type  options- ['van', 'mini-van', 'offroad', 'grey', 'compact', 'wagon', 'full-size', 'coupe', 'bus', '39.4202', 'SUV', 'other', 'convertible', '30.1843', 'sedan', 'hatchback', 'black', 'truck', 'pickup', 'blue']\n",
      "-----------------\n"
     ]
    }
   ],
   "source": [
    "ordinals=['condition', 'cylinders', 'fuel', 'title_status', 'transmission', 'drive', 'size', 'type']\n",
    "ordinals_options_all={}\n",
    "#ordinals_options_all[ordinal]=[x[ordinal] for x in vehicle_listings_clean.select(ordinal).distinct().collect()]\n",
    "for ordinal in ordinals: \n",
    "    ordinals_options_all[ordinal]=list(filter(None, [x[ordinal] for x in vehicle_listings_clean.select(ordinal).distinct().collect()]))\n",
    "    print(\"Distinct \",ordinal,\" options-\", ordinals_options_all[ordinal])\n",
    "    print(\"-----------------\")\n",
    "    \n",
    "    \n",
    "#Used filter(None,list) because we are only replacing wrong values here, not empty value"
   ]
  },
  {
   "cell_type": "markdown",
   "metadata": {},
   "source": [
    "As expected, all 8 Ordinal columns have values that seem to be errors, or reported incorrectly. For example, let's look into the \"Condition\" reported as 'audio controls\"'. "
   ]
  },
  {
   "cell_type": "code",
   "execution_count": 44,
   "metadata": {},
   "outputs": [
    {
     "name": "stdout",
     "output_type": "stream",
     "text": [
      "+------+------------+------------------+-----------+--------+------+---------------+\n",
      "| price|manufacturer|              make|       city|odometer|  year|      condition|\n",
      "+------+------------+------------------+-----------+--------+------+---------------+\n",
      "|2600.0|        null|\"18\"\" Chrome Alloy|lakecharles|    null|2012.0|audio controls\"|\n",
      "+------+------------+------------------+-----------+--------+------+---------------+\n",
      "\n"
     ]
    }
   ],
   "source": [
    "vehicle_listings_clean.filter(\"condition = 'audio controls\\\"'\" ).select(basics+[\"condition\"]).show()"
   ]
  },
  {
   "cell_type": "markdown",
   "metadata": {},
   "source": [
    "Only 1 record fetched. "
   ]
  },
  {
   "cell_type": "markdown",
   "metadata": {},
   "source": [
    "The next task is to clean these misleading values for each of the ordinal types. Automating this process, at the very least requires two `pyspark.sql.dataframe` library calls for each distinct ordinal option - `count()` and `replace()`. We can count the number of occurences of a value in an ordinal column, if it's less than 10 then it is  irrelevant and will be grouped under \"other\"."
   ]
  },
  {
   "cell_type": "markdown",
   "metadata": {},
   "source": [
    "**`remove_fakes()`** is a function that takes in a column and all distinct values within the column, and evaluates which options are useful. It bunches up other options under \"Other\"."
   ]
  },
  {
   "cell_type": "markdown",
   "metadata": {},
   "source": [
    "Time Cost - Each call to **`remove_fakes()`** will take **O(n)** *(O(2n+1))* where *n* is the length of the column. Because the algorithm needs to call both `count()` and `replace()` for any ordinal/value combination, this is the fastest way to clean the ordinal columns."
   ]
  },
  {
   "cell_type": "code",
   "execution_count": 45,
   "metadata": {},
   "outputs": [],
   "source": [
    "def remove_fakes(column,all_options):\n",
    "    global vehicle_listings_clean\n",
    "    kept_options=[]\n",
    "    for option in all_options:\n",
    "        option_condition = column+\" = \"+\"'\"+option+\"'\"\n",
    "        temp_count=vehicle_listings_clean.where(option_condition).count()\n",
    "        if temp_count<10:\n",
    "            vehicle_listings_clean = vehicle_listings_clean.na.replace(option,'other',column)\n",
    "            print(\"Removed \",option,\" from \",column)\n",
    "        else:\n",
    "            print(\"Kept \",option,\" from \",column)\n",
    "            kept_options.append(option)\n",
    "    print(\"Kept values \",kept_options,\" from column \",column)"
   ]
  },
  {
   "cell_type": "markdown",
   "metadata": {},
   "source": [
    "The above function does not count *null* values. The difference between values printed as a list after the clean versus the final `count()` value are *null* and, in some cases, *other*."
   ]
  },
  {
   "cell_type": "markdown",
   "metadata": {},
   "source": [
    "#### Cleaning column = 'condition'"
   ]
  },
  {
   "cell_type": "code",
   "execution_count": 46,
   "metadata": {},
   "outputs": [
    {
     "name": "stdout",
     "output_type": "stream",
     "text": [
      "Number for 'condition'- 16\n",
      "Kept  new  from  condition\n",
      "Removed   84.9\"\" ca wt\"  from  condition\n",
      "Removed   59.5\"\" ca lt2\"  from  condition\n",
      "Removed   84.9\"\" ca 4wd ls\"  from  condition\n",
      "Removed   4x4\"  from  condition\n",
      "Removed   auto\"  from  condition\n",
      "Kept  excellent  from  condition\n",
      "Removed  6 cylinders  from  condition\n",
      "Removed  audio controls\"  from  condition\n",
      "Kept  salvage  from  condition\n",
      "Kept  like new  from  condition\n",
      "Kept  good  from  condition\n",
      "Removed   84.0\"\" ca c5b\"  from  condition\n",
      "Kept  fair  from  condition\n",
      "Removed  \",,\"6 cylinders\"  from  condition\n",
      "Kept values  ['new', 'excellent', 'salvage', 'like new', 'good', 'fair']  from column  condition\n",
      "Number for 'condition'- 8\n"
     ]
    }
   ],
   "source": [
    "#ordinals=['condition', 'cylinders', 'fuel', 'title_status', 'transmission', 'drive', 'size', 'type']\n",
    "\n",
    "print(\"Number for 'condition'-\",vehicle_listings_clean.select(\"condition\").distinct().count())\n",
    "remove_fakes(\"condition\",ordinals_options_all[\"condition\"])\n",
    "print(\"Number for 'condition'-\",vehicle_listings_clean.select(\"condition\").distinct().count())"
   ]
  },
  {
   "cell_type": "markdown",
   "metadata": {},
   "source": [
    "#### Cleaning column = 'cylinders'"
   ]
  },
  {
   "cell_type": "code",
   "execution_count": 47,
   "metadata": {},
   "outputs": [
    {
     "name": "stdout",
     "output_type": "stream",
     "text": [
      "Number for 'cylinders'- 14\n",
      "Removed  gas  from  cylinders\n",
      "Kept  3 cylinders  from  cylinders\n",
      "Kept  other  from  cylinders\n",
      "Removed  diesel  from  cylinders\n",
      "Kept  10 cylinders  from  cylinders\n",
      "Kept  6 cylinders  from  cylinders\n",
      "Removed  clean  from  cylinders\n",
      "Kept  4 cylinders  from  cylinders\n",
      "Kept  12 cylinders  from  cylinders\n",
      "Removed  good  from  cylinders\n",
      "Kept  5 cylinders  from  cylinders\n",
      "Kept  8 cylinders  from  cylinders\n",
      "Removed  parts only  from  cylinders\n",
      "Kept values  ['3 cylinders', 'other', '10 cylinders', '6 cylinders', '4 cylinders', '12 cylinders', '5 cylinders', '8 cylinders']  from column  cylinders\n",
      "Number for 'cylinders'- 9\n"
     ]
    }
   ],
   "source": [
    "print(\"Number for 'cylinders'-\",vehicle_listings_clean.select(\"cylinders\").distinct().count())\n",
    "remove_fakes(\"cylinders\",ordinals_options_all[\"cylinders\"])\n",
    "print(\"Number for 'cylinders'-\",vehicle_listings_clean.select(\"cylinders\").distinct().count())"
   ]
  },
  {
   "cell_type": "markdown",
   "metadata": {},
   "source": [
    "#### Cleaning column = 'fuel'"
   ]
  },
  {
   "cell_type": "code",
   "execution_count": 48,
   "metadata": {},
   "outputs": [
    {
     "name": "stdout",
     "output_type": "stream",
     "text": [
      "Number for 'fuel'- 14\n",
      "Kept  gas  from  fuel\n",
      "Removed  automatic  from  fuel\n",
      "Kept  other  from  fuel\n",
      "Kept  diesel  from  fuel\n",
      "Removed  135000  from  fuel\n",
      "Removed  178000  from  fuel\n",
      "Removed  74180  from  fuel\n",
      "Kept  hybrid  from  fuel\n",
      "Removed  4 cylinders  from  fuel\n",
      "Removed  138000  from  fuel\n",
      "Removed  8 cylinders  from  fuel\n",
      "Removed  59770  from  fuel\n",
      "Kept  electric  from  fuel\n",
      "Kept values  ['gas', 'other', 'diesel', 'hybrid', 'electric']  from column  fuel\n",
      "Number for 'fuel'- 6\n"
     ]
    }
   ],
   "source": [
    "print(\"Number for 'fuel'-\",vehicle_listings_clean.select(\"fuel\").distinct().count())\n",
    "remove_fakes(\"fuel\",ordinals_options_all[\"fuel\"])\n",
    "print(\"Number for 'fuel'-\",vehicle_listings_clean.select(\"fuel\").distinct().count())"
   ]
  },
  {
   "cell_type": "markdown",
   "metadata": {},
   "source": [
    "#### Cleaning column = 'title_status'"
   ]
  },
  {
   "cell_type": "code",
   "execution_count": 49,
   "metadata": {},
   "outputs": [
    {
     "name": "stdout",
     "output_type": "stream",
     "text": [
      "Number for 'title_status'- 15\n",
      "Removed  43742  from  title_status\n",
      "Removed  automatic  from  title_status\n",
      "Removed  45483  from  title_status\n",
      "Kept  lien  from  title_status\n",
      "Removed  44001  from  title_status\n",
      "Removed  166730  from  title_status\n",
      "Kept  missing  from  title_status\n",
      "Removed  manual  from  title_status\n",
      "Kept  clean  from  title_status\n",
      "Kept  salvage  from  title_status\n",
      "Removed  60664  from  title_status\n",
      "Kept  rebuilt  from  title_status\n",
      "Kept  parts only  from  title_status\n",
      "Removed  98333  from  title_status\n",
      "Kept values  ['lien', 'missing', 'clean', 'salvage', 'rebuilt', 'parts only']  from column  title_status\n",
      "Number for 'title_status'- 8\n"
     ]
    }
   ],
   "source": [
    "\n",
    "print(\"Number for 'title_status'-\",vehicle_listings_clean.select(\"title_status\").distinct().count())\n",
    "remove_fakes(\"title_status\",ordinals_options_all[\"title_status\"])\n",
    "print(\"Number for 'title_status'-\",vehicle_listings_clean.select(\"title_status\").distinct().count())\n"
   ]
  },
  {
   "cell_type": "markdown",
   "metadata": {},
   "source": [
    "#### Cleaning column = 'transmission'"
   ]
  },
  {
   "cell_type": "code",
   "execution_count": 50,
   "metadata": {},
   "outputs": [
    {
     "name": "stdout",
     "output_type": "stream",
     "text": [
      "Number for 'transmission'- 7\n",
      "Kept  automatic  from  transmission\n",
      "Kept  other  from  transmission\n",
      "Kept  manual  from  transmission\n",
      "Removed  clean  from  transmission\n",
      "Removed  rebuilt  from  transmission\n",
      "Removed  1G2WP52K7XF291710  from  transmission\n",
      "Kept values  ['automatic', 'other', 'manual']  from column  transmission\n",
      "Number for 'transmission'- 4\n"
     ]
    }
   ],
   "source": [
    "print(\"Number for 'transmission'-\",vehicle_listings_clean.select(\"transmission\").distinct().count())\n",
    "remove_fakes(\"transmission\",ordinals_options_all[\"transmission\"])\n",
    "print(\"Number for 'transmission'-\",vehicle_listings_clean.select(\"transmission\").distinct().count())"
   ]
  },
  {
   "cell_type": "markdown",
   "metadata": {},
   "source": [
    "#### Cleaning column = 'drive'"
   ]
  },
  {
   "cell_type": "code",
   "execution_count": 51,
   "metadata": {},
   "outputs": [
    {
     "name": "stdout",
     "output_type": "stream",
     "text": [
      "Number for 'drive'- 11\n",
      "Removed  compact  from  drive\n",
      "Removed  full-size  from  drive\n",
      "Kept  fwd  from  drive\n",
      "Removed  1GDJC34U85E329724  from  drive\n",
      "Kept  rwd  from  drive\n",
      "Removed  1GCEK14VX2Z244409  from  drive\n",
      "Removed  3GBKC34G72M110010  from  drive\n",
      "Kept  4wd  from  drive\n",
      "Removed  1GBJK39608E216926  from  drive\n",
      "Removed  1GBJK34G05E297566  from  drive\n",
      "Kept values  ['fwd', 'rwd', '4wd']  from column  drive\n",
      "Number for 'drive'- 5\n"
     ]
    }
   ],
   "source": [
    "print(\"Number for 'drive'-\",vehicle_listings_clean.select(\"drive\").distinct().count())\n",
    "remove_fakes(\"drive\",ordinals_options_all[\"drive\"])\n",
    "print(\"Number for 'drive'-\",vehicle_listings_clean.select(\"drive\").distinct().count())"
   ]
  },
  {
   "cell_type": "markdown",
   "metadata": {},
   "source": [
    "#### Cleaning column = 'size'"
   ]
  },
  {
   "cell_type": "code",
   "execution_count": 52,
   "metadata": {},
   "outputs": [
    {
     "name": "stdout",
     "output_type": "stream",
     "text": [
      "Number for 'size'- 14\n",
      "Removed  mini-van  from  size\n",
      "Kept  compact  from  size\n",
      "Kept  full-size  from  size\n",
      "Removed  SUV  from  size\n",
      "Removed  fwd  from  size\n",
      "Removed  rwd  from  size\n",
      "Kept  mid-size  from  size\n",
      "Removed  https://images.craigslist.org/00k0k_9EJzf6hJHYQ_600x450.jpg  from  size\n",
      "Removed  sedan  from  size\n",
      "Removed  pickup  from  size\n",
      "Removed  https://images.craigslist.org/00606_kBUK1UvzUnA_600x450.jpg  from  size\n",
      "Kept  sub-compact  from  size\n",
      "Removed  4wd  from  size\n",
      "Kept values  ['compact', 'full-size', 'mid-size', 'sub-compact']  from column  size\n",
      "Number for 'size'- 6\n"
     ]
    }
   ],
   "source": [
    "print(\"Number for 'size'-\",vehicle_listings_clean.select(\"size\").distinct().count())\n",
    "remove_fakes(\"size\",ordinals_options_all[\"size\"])\n",
    "print(\"Number for 'size'-\",vehicle_listings_clean.select(\"size\").distinct().count())"
   ]
  },
  {
   "cell_type": "markdown",
   "metadata": {},
   "source": [
    "#### Cleaning column = 'type'"
   ]
  },
  {
   "cell_type": "code",
   "execution_count": 53,
   "metadata": {},
   "outputs": [
    {
     "name": "stdout",
     "output_type": "stream",
     "text": [
      "Number for 'type'- 21\n",
      "Kept  van  from  type\n",
      "Kept  mini-van  from  type\n",
      "Kept  offroad  from  type\n",
      "Removed  grey  from  type\n",
      "Removed  compact  from  type\n",
      "Kept  wagon  from  type\n",
      "Removed  full-size  from  type\n",
      "Kept  coupe  from  type\n",
      "Kept  bus  from  type\n",
      "Removed  39.4202  from  type\n",
      "Kept  SUV  from  type\n",
      "Kept  other  from  type\n",
      "Kept  convertible  from  type\n",
      "Removed  30.1843  from  type\n",
      "Kept  sedan  from  type\n",
      "Kept  hatchback  from  type\n",
      "Removed  black  from  type\n",
      "Kept  truck  from  type\n",
      "Kept  pickup  from  type\n",
      "Removed  blue  from  type\n",
      "Kept values  ['van', 'mini-van', 'offroad', 'wagon', 'coupe', 'bus', 'SUV', 'other', 'convertible', 'sedan', 'hatchback', 'truck', 'pickup']  from column  type\n",
      "Number for 'type'- 14\n"
     ]
    }
   ],
   "source": [
    "print(\"Number for 'type'-\",vehicle_listings_clean.select(\"type\").distinct().count())\n",
    "remove_fakes(\"type\",ordinals_options_all[\"type\"])\n",
    "print(\"Number for 'type'-\",vehicle_listings_clean.select(\"type\").distinct().count())"
   ]
  },
  {
   "cell_type": "markdown",
   "metadata": {},
   "source": [
    "### Categorical Data Columns"
   ]
  },
  {
   "cell_type": "markdown",
   "metadata": {},
   "source": [
    "Categorical - city, manufacturer, make, county_name, state_code, state_name <br>\n",
    "\n",
    "During the **Transform** stage, categorical columns will help with *Stratified Sampling* before beginning with Exploratory Data Analysis... "
   ]
  },
  {
   "cell_type": "markdown",
   "metadata": {},
   "source": [
    "There isn't much cleaning to be done with categorical data. An easy observation is that this set of columns give us insight about location unlike other column types. There might be a way to combine state_code and state_name."
   ]
  },
  {
   "cell_type": "code",
   "execution_count": 54,
   "metadata": {},
   "outputs": [
    {
     "name": "stdout",
     "output_type": "stream",
     "text": [
      "+--------------+------------+----------+----------+\n",
      "|          city| county_name|state_code|state_name|\n",
      "+--------------+------------+----------+----------+\n",
      "|           kpr|      Benton|        WA|Washington|\n",
      "|     vancouver|        null|      null|    FAILED|\n",
      "|    cincinnati|      Butler|        OH|      Ohio|\n",
      "|fredericksburg|Spotsylvania|        VA|  Virginia|\n",
      "|       nanaimo|        null|      null|    FAILED|\n",
      "|         ocala|      Citrus|        FL|   Florida|\n",
      "|       mcallen|     Hidalgo|        TX|     Texas|\n",
      "|        tucson|        Pima|        AZ|   Arizona|\n",
      "|     newjersey|      Bergen|        NJ|New Jersey|\n",
      "|    janesville|        Rock|        WI| Wisconsin|\n",
      "|        muncie|       Grant|        IN|   Indiana|\n",
      "|     baltimore|     Harford|        MD|  Maryland|\n",
      "|     milwaukee|       Dodge|        WI| Wisconsin|\n",
      "|    louisville|   Jefferson|        KY|  Kentucky|\n",
      "|      monterey|    Monterey|        CA|California|\n",
      "|    terrehaute|        Vigo|        IN|   Indiana|\n",
      "|     eauclaire| Trempealeau|        WI| Wisconsin|\n",
      "|   albuquerque|  Bernalillo|        NM|New Mexico|\n",
      "|       augusta|    Columbia|        GA|   Georgia|\n",
      "|      delaware|        null|      null|    FAILED|\n",
      "+--------------+------------+----------+----------+\n",
      "only showing top 20 rows\n",
      "\n"
     ]
    }
   ],
   "source": [
    "vehicle_listings_clean.select(\"city\",\"county_name\",\"state_code\",\"state_name\").sample(False,0.0001,100).show()"
   ]
  },
  {
   "cell_type": "markdown",
   "metadata": {},
   "source": [
    "We can see that when state_code is *null*, the matching state_name is *Failed*. Since the state_name appears to be generated by state_code, there isn't any point in keeping both. Let's remove state_name. Our total columns are now 16."
   ]
  },
  {
   "cell_type": "code",
   "execution_count": 55,
   "metadata": {},
   "outputs": [],
   "source": [
    "vehicle_listings_clean=vehicle_listings_clean.drop('state_name')"
   ]
  },
  {
   "cell_type": "code",
   "execution_count": 56,
   "metadata": {},
   "outputs": [
    {
     "name": "stdout",
     "output_type": "stream",
     "text": [
      "Original Dimensions -  1723065 * 26\n",
      "New Dimensions -  1470500 * 16\n"
     ]
    }
   ],
   "source": [
    "print(\"Original Dimensions - \",vehicle_listings.count(),\"*\",len(vehicle_listings.columns))\n",
    "print(\"New Dimensions - \",vehicle_listings_clean.count(),\"*\",len(vehicle_listings_clean.columns))"
   ]
  },
  {
   "cell_type": "markdown",
   "metadata": {},
   "source": [
    "#### Final dataset size:"
   ]
  },
  {
   "cell_type": "code",
   "execution_count": 57,
   "metadata": {},
   "outputs": [
    {
     "name": "stdout",
     "output_type": "stream",
     "text": [
      "Original Dimensions -  1723065 * 26\n",
      "New Dimensions -  1470500 * 16\n",
      "Data kept for analysis: 85 percent of records\n",
      "-----------------\n"
     ]
    }
   ],
   "source": [
    "old_col=vehicle_listings.count()\n",
    "old_row=len(vehicle_listings.columns)\n",
    "new_col=vehicle_listings_clean.count()\n",
    "new_row=len(vehicle_listings_clean.columns)\n",
    "\n",
    "print(\"Original Dimensions - \",old_col,\"*\",old_row)\n",
    "print(\"New Dimensions - \",new_col,\"*\",new_row)\n",
    "\n",
    "\n",
    "print(\"Data kept for analysis: %d percent of records\\n-----------------\" % (100 * new_col / old_col))\n",
    "\n"
   ]
  },
  {
   "cell_type": "markdown",
   "metadata": {},
   "source": [
    "The used cars dataset is now cleaned and ready for analysis. We can cache this version on S3."
   ]
  },
  {
   "cell_type": "code",
   "execution_count": 61,
   "metadata": {},
   "outputs": [],
   "source": [
    "#vehicle_listings_clean.write.parquet(\"s3a://deveshetl/usedcars/transform\",mode=\"overwrite\")\n",
    "vehicle_listings_clean.coalesce(4).write.parquet(\"../data/vehicle_listings_transform.parquet\",mode='overwrite')"
   ]
  },
  {
   "cell_type": "code",
   "execution_count": 63,
   "metadata": {},
   "outputs": [
    {
     "name": "stdout",
     "output_type": "stream",
     "text": [
      "Connecting to AWS S3...\n",
      "Object Written to S3.\n"
     ]
    }
   ],
   "source": [
    "print (\"Connecting to AWS S3...\")\n",
    "subprocess.Popen(['./S3_connect.command','write_transform'])\n",
    "print (\"Object Written to S3.\")"
   ]
  },
  {
   "cell_type": "markdown",
   "metadata": {},
   "source": [
    "## Sampling Data"
   ]
  },
  {
   "cell_type": "code",
   "execution_count": 65,
   "metadata": {},
   "outputs": [
    {
     "name": "stdout",
     "output_type": "stream",
     "text": [
      "['city', 'price', 'year', 'manufacturer', 'make', 'condition', 'cylinders', 'fuel', 'odometer', 'title_status', 'transmission', 'drive', 'size', 'type', 'county_name', 'state_code']\n"
     ]
    }
   ],
   "source": [
    "print(vehicle_listings_clean.columns)"
   ]
  },
  {
   "cell_type": "code",
   "execution_count": 66,
   "metadata": {},
   "outputs": [
    {
     "name": "stdout",
     "output_type": "stream",
     "text": [
      "+-------+----------+------------------+------------------+------------+--------------------+---------+\n",
      "|summary|      city|             price|              year|manufacturer|                make|condition|\n",
      "+-------+----------+------------------+------------------+------------+--------------------+---------+\n",
      "|  count|   1470500|           1470500|           1470500|     1356415|             1410233|   883796|\n",
      "|   mean|      null|10841.028629037743|2004.8051193471608|        null|2.3986565421034008E8|     null|\n",
      "| stddev|      null|11492.387883154905|11.587408041215316|        null|5.657704109406508E10|     null|\n",
      "|    min|abbotsford|              50.0|            1930.0|       acura|        ! ton pickup|excellent|\n",
      "|    max|zanesville|          300000.0|            2018.0|          vw|                   ∞|  salvage|\n",
      "+-------+----------+------------------+------------------+------------+--------------------+---------+\n",
      "\n",
      "+-------+------------+-------+------------------+------------+------------+\n",
      "|summary|   cylinders|   fuel|          odometer|title_status|transmission|\n",
      "+-------+------------+-------+------------------+------------+------------+\n",
      "|  count|      883334|1462734|            970988|     1468353|     1463526|\n",
      "|   mean|        null|   null|106333.99521209324|        null|        null|\n",
      "| stddev|        null|   null| 59834.98816437917|        null|        null|\n",
      "|    min|10 cylinders| diesel|              50.0|       clean|   automatic|\n",
      "|    max|       other|  other|          250000.0|     salvage|       other|\n",
      "+-------+------------+-------+------------------+------------+------------+\n",
      "\n",
      "+-------+------+-----------+------+------------------+------------------+\n",
      "|summary| drive|       size|  type|       county_name|        state_code|\n",
      "+-------+------+-----------+------+------------------+------------------+\n",
      "|  count|903049|     514555|862449|           1421996|           1421996|\n",
      "|   mean|  null|       null|  null|16912.785714285714|              29.5|\n",
      "| stddev|  null|       null|  null| 17953.76351880048|13.060299712159312|\n",
      "|    min|   4wd|    compact|   SUV|             17085|                17|\n",
      "|    max|   rwd|sub-compact| wagon|            Zavala|                WY|\n",
      "+-------+------+-----------+------+------------------+------------------+\n",
      "\n"
     ]
    }
   ],
   "source": [
    "vehicle_listings_clean.select('city', 'price', 'year', 'manufacturer', 'make', 'condition').describe().show()\n",
    "vehicle_listings_clean.select('cylinders', 'fuel', 'odometer', 'title_status', 'transmission').describe().show()\n",
    "vehicle_listings_clean.select('drive', 'size', 'type', 'county_name', 'state_code').describe().show()"
   ]
  },
  {
   "cell_type": "code",
   "execution_count": 67,
   "metadata": {},
   "outputs": [
    {
     "name": "stdout",
     "output_type": "stream",
     "text": [
      "54\n",
      "102166\n",
      "109312\n"
     ]
    }
   ],
   "source": [
    "print(vehicle_listings_clean.select(\"manufacturer\").distinct().count())\n",
    "print(vehicle_listings_clean.select(\"make\").distinct().count())\n",
    "print(vehicle_listings_clean.select(\"manufacturer\",\"make\").distinct().count())"
   ]
  },
  {
   "cell_type": "code",
   "execution_count": 69,
   "metadata": {},
   "outputs": [
    {
     "name": "stdout",
     "output_type": "stream",
     "text": [
      "+-------------+-----+\n",
      "| manufacturer|Index|\n",
      "+-------------+-----+\n",
      "|         ford|  0.0|\n",
      "|    chevrolet|  1.0|\n",
      "|       toyota|  2.0|\n",
      "|        honda|  3.0|\n",
      "|       nissan|  4.0|\n",
      "|        dodge|  5.0|\n",
      "|         jeep|  6.0|\n",
      "|          gmc|  7.0|\n",
      "|          ram|  8.0|\n",
      "|          bmw|  9.0|\n",
      "|        chevy| 10.0|\n",
      "|   volkswagen| 11.0|\n",
      "|      hyundai| 12.0|\n",
      "|     chrysler| 13.0|\n",
      "|       subaru| 14.0|\n",
      "|     cadillac| 15.0|\n",
      "|          kia| 16.0|\n",
      "|mercedes-benz| 17.0|\n",
      "|        mazda| 18.0|\n",
      "|        buick| 19.0|\n",
      "+-------------+-----+\n",
      "only showing top 20 rows\n",
      "\n"
     ]
    }
   ],
   "source": [
    "from pyspark.ml.feature import StringIndexer\n",
    "\n",
    "indexer = StringIndexer(inputCol=\"manufacturer\", outputCol=\"Index\",).setHandleInvalid(\"skip\")\n",
    "indexed = indexer.fit(vehicle_listings_clean).transform(vehicle_listings_clean)\n",
    "indexed.select(\"manufacturer\",\"Index\").distinct().orderBy(\"Index\").show()"
   ]
  },
  {
   "cell_type": "code",
   "execution_count": 70,
   "metadata": {},
   "outputs": [
    {
     "data": {
      "text/plain": [
       "-0.07029418372624688"
      ]
     },
     "execution_count": 70,
     "metadata": {},
     "output_type": "execute_result"
    }
   ],
   "source": [
    "indexed.corr(\"price\",\"Index\")"
   ]
  },
  {
   "cell_type": "code",
   "execution_count": 72,
   "metadata": {},
   "outputs": [
    {
     "data": {
      "text/plain": [
       "[Row(condition='new', count(1)=6104),\n",
       " Row(condition=None, count(1)=586704),\n",
       " Row(condition='other', count(1)=16),\n",
       " Row(condition='excellent', count(1)=378050),\n",
       " Row(condition='salvage', count(1)=5065),\n",
       " Row(condition='like new', count(1)=95240),\n",
       " Row(condition='good', count(1)=334656),\n",
       " Row(condition='fair', count(1)=64665)]"
      ]
     },
     "execution_count": 72,
     "metadata": {},
     "output_type": "execute_result"
    }
   ],
   "source": [
    "vehicle_listings_clean.groupBy(\"condition\").agg({\"*\": \"count\"}).collect()"
   ]
  },
  {
   "cell_type": "markdown",
   "metadata": {},
   "source": [
    "## Exploratory Data Analysis"
   ]
  },
  {
   "cell_type": "markdown",
   "metadata": {},
   "source": [
    "To start the *EDA*, focus on the target variable, i.e. the variable we want our model to be able to predict - **price** "
   ]
  },
  {
   "cell_type": "markdown",
   "metadata": {},
   "source": [
    "To explore the dataset for analysis, create a **sample pandas dataframe** from the dataframe:"
   ]
  },
  {
   "cell_type": "markdown",
   "metadata": {},
   "source": [
    "Pandas `dataframe.describe` gives us basic statistics but it is hard to determine how well distributed the sample is across the dataset. One way to figure this out is to observe the distibution of one column. As an example, let us use the *\"city\"* column for this."
   ]
  },
  {
   "cell_type": "markdown",
   "metadata": {},
   "source": [
    "*Random Sampling* like above works well for simple use cases. However, the car records are probably not evenly distributed. <br>"
   ]
  },
  {
   "cell_type": "markdown",
   "metadata": {},
   "source": [
    "Compared to simple random sampling, *Stratified sampling* has some advantages. Stratified sampling\n",
    "makes sure every strata will be represented in the sample of the entire population. Stratified sampling\n",
    "method is possible to increase the precision with the same sample size or reduce the sample size with a\n",
    "given precision. Stratified sampling method works well for population with variety attributes. This use\n",
    "case will implement **Proportionate Stratified Sampling**"
   ]
  },
  {
   "cell_type": "markdown",
   "metadata": {},
   "source": [
    "## Caching Transform Data on S3"
   ]
  },
  {
   "cell_type": "markdown",
   "metadata": {},
   "source": [
    "# Load Stage"
   ]
  },
  {
   "cell_type": "markdown",
   "metadata": {},
   "source": [
    "## Preprocessing Data for Learning Model"
   ]
  },
  {
   "cell_type": "markdown",
   "metadata": {},
   "source": [
    "## Migrate Data to Database"
   ]
  },
  {
   "cell_type": "code",
   "execution_count": null,
   "metadata": {},
   "outputs": [],
   "source": []
  }
 ],
 "metadata": {
  "kernelspec": {
   "display_name": "Python 3",
   "language": "python",
   "name": "python3"
  },
  "language_info": {
   "codemirror_mode": {
    "name": "ipython",
    "version": 3
   },
   "file_extension": ".py",
   "mimetype": "text/x-python",
   "name": "python",
   "nbconvert_exporter": "python",
   "pygments_lexer": "ipython3",
   "version": "3.7.3"
  }
 },
 "nbformat": 4,
 "nbformat_minor": 2
}
