{
 "cells": [
  {
   "cell_type": "markdown",
   "metadata": {},
   "source": [
    "# Problem Definition\n",
    "#### How to determine the *price* of a used car?"
   ]
  },
  {
   "cell_type": "markdown",
   "metadata": {},
   "source": [
    "## Contents\n",
    "\n",
    "[Installation Setup](#Installation-Setup) <br>\n",
    "+   [Environment Config](#Environment-Configuration) <br>\n",
    "+   [Python Packages](#Loading-Packages) <br>\n",
    "+   [Apache Spark](#Creating-SparkSession) <br>\n",
    "\n",
    "[Extract, Transform, Load](#Extract-Data) <br>\n",
    "This includes the various stages of the ETL Pipeline <br>\n",
    "+   [Extract](#Extract-Data) <br>\n",
    "    +   [Kaggle Dataset](#Kaggle-Dataset) <br>\n",
    "    +   [Cleaning Data](#Cleaning-Data) <br>\n",
    "    +   [Caching Data on S3](#Caching-Data-on-S3) <br>\n",
    "+   [Transform](#Transform-Data) <br>\n",
    "    +   [Sampling Data](#Sampling-Data) <br>\n",
    "    +   [Exploratory Data Analysis using Pandas and Matplotlib](#Exploratory-Data-Analysis) <br>\n",
    "    +   [Transformations](#Transformations) <br>\n",
    "    +   [Cache Data](#Caching-Data-on-S3) <br>\n",
    "+   [Load](#Load-Data) <br>\n",
    "    +   [Preprocessing Data for Learning Model](#Load-Data)\n",
    "    +   \n",
    "    \n",
    "[Predicting Used Car Price](#Machine-Learning)\n",
    "+   Implementing Linear Regression"
   ]
  },
  {
   "cell_type": "markdown",
   "metadata": {},
   "source": [
    "# Installation Setup\n",
    "\n",
    "## Tool Versions\n",
    "\n",
    "```\n",
    "Apache Spark - 2.4.3\n",
    "Jupyter Notebook - 4.4.0\n",
    "AirFlow - ?\n",
    "```\n",
    "    \n",
    "## Environment Configuration\n",
    "\n",
    "#### Configuring ~/.bash_profile\n",
    "\n",
    "```\n",
    "export PATH=\"/usr/local/bin:$PATH\"\n",
    "PATH=\"/Library/Frameworks/Python.framework/Versions/3.7/bin:${PATH}\"\n",
    "export PATH=/usr/local/scala/bin:$PATH\n",
    "export PATH=/usr/local/spark/bin:$PATH\n",
    "export JAVA_HOME=$(/usr/libexec/java_home -v 1.8)\n",
    "export PYSPARK_PYTHON=python3.7\n",
    "```\n",
    "\n",
    "#### Configuring ~/.bashrc\n",
    "\n",
    "```\n",
    "export PYSPARK_PYTHON=/usr/local/bin/python3.7\n",
    "export PYSPARK_DRIVER_PYTHON=/usr/local/bin/python3.7\n",
    "```\n",
    "\n"
   ]
  },
  {
   "cell_type": "markdown",
   "metadata": {},
   "source": [
    "### Findspark\n",
    "\n",
    "Use `findspark` to be able to find and import **Pyspark** module, while correctly setting environmental variables and dependencies."
   ]
  },
  {
   "cell_type": "code",
   "execution_count": 1,
   "metadata": {},
   "outputs": [],
   "source": [
    "import traceback\n",
    "import findspark\n",
    "try:\n",
    "    findspark.init('/usr/local/spark/')\n",
    "except:\n",
    "    print (\"Error:\", ''.join(traceback.format_stack()))"
   ]
  },
  {
   "cell_type": "markdown",
   "metadata": {},
   "source": [
    "Check paths before Executing PySpark Session:"
   ]
  },
  {
   "cell_type": "code",
   "execution_count": 2,
   "metadata": {},
   "outputs": [
    {
     "name": "stdout",
     "output_type": "stream",
     "text": [
      "PATH: /Library/Frameworks/Python.framework/Versions/3.7/bin:/usr/local/spark/bin:/usr/local/scala/bin:/Library/Frameworks/Python.framework/Versions/3.7/bin:/usr/local/bin:/usr/local/spark/bin:/usr/local/scala/bin:/Library/Frameworks/Python.framework/Versions/3.7/bin:/usr/local/bin:/usr/local/spark/bin:/usr/local/scala/bin:/Library/Frameworks/Python.framework/Versions/3.7/bin:/usr/local/bin:/usr/local/spark/bin:/usr/local/scala/bin:/Library/Frameworks/Python.framework/Versions/3.7/bin:/usr/local/bin:/usr/local/bin:/usr/bin:/bin:/usr/sbin:/sbin\n",
      "\n",
      "SPARK_HOME: /usr/local/spark/\n",
      "PYSPARK_PYTHON: /usr/local/bin/python3.7\n",
      "PYSPARK_DRIVER_PYTHON: /usr/local/bin/python3.7\n"
     ]
    }
   ],
   "source": [
    "import os\n",
    "import sys\n",
    "print(\"PATH: %s\\n\" % os.environ['PATH'])\n",
    "print(\"SPARK_HOME: %s\" % os.environ['SPARK_HOME'])\n",
    "print(\"PYSPARK_PYTHON: %s\" % os.environ['PYSPARK_PYTHON'])\n",
    "print(\"PYSPARK_DRIVER_PYTHON: %s\" % os.environ['PYSPARK_DRIVER_PYTHON'])"
   ]
  },
  {
   "cell_type": "markdown",
   "metadata": {},
   "source": [
    "## Loading Packages "
   ]
  },
  {
   "cell_type": "code",
   "execution_count": 3,
   "metadata": {},
   "outputs": [],
   "source": [
    "#import libraries\n",
    "from pyspark.sql import SparkSession\n",
    "import pandas as pd\n",
    "import numpy as np\n",
    "import matplotlib\n",
    "import sklearn\n",
    "import scipy\n",
    "import matplotlib.pyplot as plt\n",
    "import matplotlib.pylab as pylab\n",
    "import subprocess\n",
    "from pyspark.sql.functions import *"
   ]
  },
  {
   "cell_type": "markdown",
   "metadata": {},
   "source": [
    "### Package Versions"
   ]
  },
  {
   "cell_type": "code",
   "execution_count": 4,
   "metadata": {},
   "outputs": [
    {
     "name": "stdout",
     "output_type": "stream",
     "text": [
      "matplotlib: 3.0.3\n",
      "sklearn: 0.19.2\n",
      "scipy: 1.2.1\n",
      "pandas: 0.24.2\n",
      "numpy: 1.16.3\n",
      "Python: 3.7.3 (v3.7.3:ef4ec6ed12, Mar 25 2019, 16:52:21) \n",
      "[Clang 6.0 (clang-600.0.57)]\n"
     ]
    }
   ],
   "source": [
    "print('matplotlib: {}'.format(matplotlib.__version__))\n",
    "print('sklearn: {}'.format(sklearn.__version__))\n",
    "print('scipy: {}'.format(scipy.__version__))\n",
    "print('pandas: {}'.format(pd.__version__))\n",
    "print('numpy: {}'.format(np.__version__))\n",
    "print('Python: {}'.format(sys.version))"
   ]
  },
  {
   "cell_type": "markdown",
   "metadata": {},
   "source": [
    "## Creating SparkSession\n",
    "Get package to handle aws to access S3:"
   ]
  },
  {
   "cell_type": "code",
   "execution_count": 5,
   "metadata": {},
   "outputs": [
    {
     "name": "stdout",
     "output_type": "stream",
     "text": [
      "env: PYSPARK_SUBMIT_ARGS=--packages=org.apache.hadoop:hadoop-aws:2.7.3 pyspark-shell\n"
     ]
    }
   ],
   "source": [
    "%set_env PYSPARK_SUBMIT_ARGS=--packages=org.apache.hadoop:hadoop-aws:2.7.3 pyspark-shell\n"
   ]
  },
  {
   "cell_type": "markdown",
   "metadata": {},
   "source": [
    "Creating Spark Session, hosted across all local nodes on a **Standalone Cluster**:"
   ]
  },
  {
   "cell_type": "code",
   "execution_count": 6,
   "metadata": {},
   "outputs": [],
   "source": [
    "spark = SparkSession \\\n",
    "    .builder \\\n",
    "    .master(\"local[*]\") \\\n",
    "    .appName(\"PySpark Craigslist\") \\\n",
    "    .config(\"spark.some.config.option\", \"some-value\") \\\n",
    "    .getOrCreate()\n",
    "\n",
    "sc = spark.sparkContext"
   ]
  },
  {
   "cell_type": "markdown",
   "metadata": {},
   "source": [
    "Configure Hadoop connection:"
   ]
  },
  {
   "cell_type": "code",
   "execution_count": 7,
   "metadata": {},
   "outputs": [],
   "source": [
    "hadoopConf=spark.sparkContext._jsc.hadoopConfiguration()\n",
    "hadoopConf.set(\"fs.s3a.access.key\", \"AWS_ACCESS_KEY_ID\")\n",
    "hadoopConf.set(\"fs.s3a.secret.key\", \"AWS_SECRET_ACCESS_KEY\")"
   ]
  },
  {
   "cell_type": "markdown",
   "metadata": {},
   "source": [
    "Monitoring Spark instrumentation through the WebUI available through `localhost:4040/`"
   ]
  },
  {
   "cell_type": "markdown",
   "metadata": {},
   "source": [
    "# Extract Data"
   ]
  },
  {
   "cell_type": "markdown",
   "metadata": {},
   "source": [
    "## Kaggle Dataset\n",
    "\n",
    "Available from [kaggle.com/austinreese/](https://www.kaggle.com/austinreese/craigslist-carstrucks-data)"
   ]
  },
  {
   "cell_type": "code",
   "execution_count": 8,
   "metadata": {},
   "outputs": [
    {
     "data": {
      "text/plain": [
       "pyspark.sql.dataframe.DataFrame"
      ]
     },
     "execution_count": 8,
     "metadata": {},
     "output_type": "execute_result"
    }
   ],
   "source": [
    "vehicle_listings = spark.read.format(\"csv\").option(\"header\", \"true\").load(\"../data/craigslistVehiclesFull.csv\")\n",
    "type(vehicle_listings)"
   ]
  },
  {
   "cell_type": "markdown",
   "metadata": {},
   "source": [
    "Now that the data is available as a local Dataframe, let's look at the schema, size, samples and statistics of our working data - "
   ]
  },
  {
   "cell_type": "code",
   "execution_count": 9,
   "metadata": {},
   "outputs": [
    {
     "name": "stdout",
     "output_type": "stream",
     "text": [
      "root\n",
      " |-- url: string (nullable = true)\n",
      " |-- city: string (nullable = true)\n",
      " |-- price: string (nullable = true)\n",
      " |-- year: string (nullable = true)\n",
      " |-- manufacturer: string (nullable = true)\n",
      " |-- make: string (nullable = true)\n",
      " |-- condition: string (nullable = true)\n",
      " |-- cylinders: string (nullable = true)\n",
      " |-- fuel: string (nullable = true)\n",
      " |-- odometer: string (nullable = true)\n",
      " |-- title_status: string (nullable = true)\n",
      " |-- transmission: string (nullable = true)\n",
      " |-- vin: string (nullable = true)\n",
      " |-- drive: string (nullable = true)\n",
      " |-- size: string (nullable = true)\n",
      " |-- type: string (nullable = true)\n",
      " |-- paint_color: string (nullable = true)\n",
      " |-- image_url: string (nullable = true)\n",
      " |-- lat: string (nullable = true)\n",
      " |-- long: string (nullable = true)\n",
      " |-- county_fips: string (nullable = true)\n",
      " |-- county_name: string (nullable = true)\n",
      " |-- state_fips: string (nullable = true)\n",
      " |-- state_code: string (nullable = true)\n",
      " |-- state_name: string (nullable = true)\n",
      " |-- weather: string (nullable = true)\n",
      "\n"
     ]
    }
   ],
   "source": [
    "vehicle_listings.printSchema()"
   ]
  },
  {
   "cell_type": "markdown",
   "metadata": {},
   "source": [
    "Dimensions of Raw Dataset:"
   ]
  },
  {
   "cell_type": "code",
   "execution_count": 10,
   "metadata": {
    "scrolled": true
   },
   "outputs": [
    {
     "name": "stdout",
     "output_type": "stream",
     "text": [
      "1723065 26\n"
     ]
    }
   ],
   "source": [
    "print(vehicle_listings.count(),len(vehicle_listings.columns))"
   ]
  },
  {
   "cell_type": "markdown",
   "metadata": {},
   "source": [
    "Collecting random sample to see what kind of data populates each column:"
   ]
  },
  {
   "cell_type": "code",
   "execution_count": 11,
   "metadata": {},
   "outputs": [
    {
     "data": {
      "text/html": [
       "<div>\n",
       "<style scoped>\n",
       "    .dataframe tbody tr th:only-of-type {\n",
       "        vertical-align: middle;\n",
       "    }\n",
       "\n",
       "    .dataframe tbody tr th {\n",
       "        vertical-align: top;\n",
       "    }\n",
       "\n",
       "    .dataframe thead th {\n",
       "        text-align: right;\n",
       "    }\n",
       "</style>\n",
       "<table border=\"1\" class=\"dataframe\">\n",
       "  <thead>\n",
       "    <tr style=\"text-align: right;\">\n",
       "      <th></th>\n",
       "      <th>url</th>\n",
       "      <th>city</th>\n",
       "      <th>price</th>\n",
       "      <th>year</th>\n",
       "      <th>manufacturer</th>\n",
       "      <th>make</th>\n",
       "      <th>condition</th>\n",
       "      <th>cylinders</th>\n",
       "      <th>fuel</th>\n",
       "      <th>odometer</th>\n",
       "      <th>...</th>\n",
       "      <th>paint_color</th>\n",
       "      <th>image_url</th>\n",
       "      <th>lat</th>\n",
       "      <th>long</th>\n",
       "      <th>county_fips</th>\n",
       "      <th>county_name</th>\n",
       "      <th>state_fips</th>\n",
       "      <th>state_code</th>\n",
       "      <th>state_name</th>\n",
       "      <th>weather</th>\n",
       "    </tr>\n",
       "  </thead>\n",
       "  <tbody>\n",
       "    <tr>\n",
       "      <th>1</th>\n",
       "      <td>https://collegestation.craigslist.org/cto/d/19...</td>\n",
       "      <td>collegestation</td>\n",
       "      <td>39500</td>\n",
       "      <td>1940</td>\n",
       "      <td>ford</td>\n",
       "      <td>deluxe coupe</td>\n",
       "      <td>excellent</td>\n",
       "      <td>8 cylinders</td>\n",
       "      <td>gas</td>\n",
       "      <td>None</td>\n",
       "      <td>...</td>\n",
       "      <td>red</td>\n",
       "      <td>https://images.craigslist.org/00d0d_i9vX9Ywpau...</td>\n",
       "      <td>29.3891</td>\n",
       "      <td>-94.9942</td>\n",
       "      <td>48167</td>\n",
       "      <td>Galveston</td>\n",
       "      <td>48</td>\n",
       "      <td>TX</td>\n",
       "      <td>Texas</td>\n",
       "      <td>67</td>\n",
       "    </tr>\n",
       "    <tr>\n",
       "      <th>77</th>\n",
       "      <td>https://newhaven.craigslist.org/cto/d/toyota-c...</td>\n",
       "      <td>newhaven</td>\n",
       "      <td>1000</td>\n",
       "      <td>2000</td>\n",
       "      <td>toyota</td>\n",
       "      <td>celica</td>\n",
       "      <td>fair</td>\n",
       "      <td>4 cylinders</td>\n",
       "      <td>gas</td>\n",
       "      <td>None</td>\n",
       "      <td>...</td>\n",
       "      <td>black</td>\n",
       "      <td>https://images.craigslist.org/00101_6wiNROHq20...</td>\n",
       "      <td>41.082196</td>\n",
       "      <td>-73.533067</td>\n",
       "      <td>9001</td>\n",
       "      <td>Fairfield</td>\n",
       "      <td>9</td>\n",
       "      <td>CT</td>\n",
       "      <td>Connecticut</td>\n",
       "      <td>51</td>\n",
       "    </tr>\n",
       "    <tr>\n",
       "      <th>92</th>\n",
       "      <td>https://nashville.craigslist.org/ctd/d/2014-fo...</td>\n",
       "      <td>nashville</td>\n",
       "      <td>11875</td>\n",
       "      <td>2014</td>\n",
       "      <td>ford</td>\n",
       "      <td>transit connect</td>\n",
       "      <td>excellent</td>\n",
       "      <td>other</td>\n",
       "      <td>gas</td>\n",
       "      <td>115664</td>\n",
       "      <td>...</td>\n",
       "      <td>white</td>\n",
       "      <td>https://images.craigslist.org/00X0X_1NlwBqmRbu...</td>\n",
       "      <td>35.880584</td>\n",
       "      <td>-86.429405</td>\n",
       "      <td>47149</td>\n",
       "      <td>Rutherford</td>\n",
       "      <td>47</td>\n",
       "      <td>TN</td>\n",
       "      <td>Tennessee</td>\n",
       "      <td>59</td>\n",
       "    </tr>\n",
       "    <tr>\n",
       "      <th>58</th>\n",
       "      <td>https://losangeles.craigslist.org/sgv/cto/d/20...</td>\n",
       "      <td>losangeles</td>\n",
       "      <td>6990</td>\n",
       "      <td>2009</td>\n",
       "      <td>ford</td>\n",
       "      <td>mustang</td>\n",
       "      <td>None</td>\n",
       "      <td>6 cylinders</td>\n",
       "      <td>gas</td>\n",
       "      <td>72000</td>\n",
       "      <td>...</td>\n",
       "      <td>None</td>\n",
       "      <td>https://images.craigslist.org/00G0G_ciq5UdmFoY...</td>\n",
       "      <td>34.1243</td>\n",
       "      <td>-118.0515</td>\n",
       "      <td>6037</td>\n",
       "      <td>Los Angeles</td>\n",
       "      <td>6</td>\n",
       "      <td>CA</td>\n",
       "      <td>California</td>\n",
       "      <td>59</td>\n",
       "    </tr>\n",
       "    <tr>\n",
       "      <th>17</th>\n",
       "      <td>https://lexington.craigslist.org/cto/d/2007-me...</td>\n",
       "      <td>lexington</td>\n",
       "      <td>3950</td>\n",
       "      <td>2007</td>\n",
       "      <td>mercury</td>\n",
       "      <td>grand marquis ls</td>\n",
       "      <td>excellent</td>\n",
       "      <td>8 cylinders</td>\n",
       "      <td>gas</td>\n",
       "      <td>74850</td>\n",
       "      <td>...</td>\n",
       "      <td>blue</td>\n",
       "      <td>https://images.craigslist.org/01414_dqw8XgIfcQ...</td>\n",
       "      <td>38.257397</td>\n",
       "      <td>-83.559598</td>\n",
       "      <td>21069</td>\n",
       "      <td>Fleming</td>\n",
       "      <td>21</td>\n",
       "      <td>KY</td>\n",
       "      <td>Kentucky</td>\n",
       "      <td>50</td>\n",
       "    </tr>\n",
       "    <tr>\n",
       "      <th>90</th>\n",
       "      <td>https://huntsville.craigslist.org/ctd/d/2010-h...</td>\n",
       "      <td>huntsville</td>\n",
       "      <td>4845</td>\n",
       "      <td>2010</td>\n",
       "      <td>hyundai</td>\n",
       "      <td>accent</td>\n",
       "      <td>None</td>\n",
       "      <td>None</td>\n",
       "      <td>other</td>\n",
       "      <td>98712</td>\n",
       "      <td>...</td>\n",
       "      <td>None</td>\n",
       "      <td>https://images.craigslist.org/00V0V_4CDbDGnzOq...</td>\n",
       "      <td>35.638878</td>\n",
       "      <td>-87.016869</td>\n",
       "      <td>47119</td>\n",
       "      <td>Maury</td>\n",
       "      <td>47</td>\n",
       "      <td>TN</td>\n",
       "      <td>Tennessee</td>\n",
       "      <td>59</td>\n",
       "    </tr>\n",
       "    <tr>\n",
       "      <th>102</th>\n",
       "      <td>https://miami.craigslist.org/mdc/cto/d/get-aux...</td>\n",
       "      <td>miami</td>\n",
       "      <td>99</td>\n",
       "      <td>2006</td>\n",
       "      <td>honda</td>\n",
       "      <td>odyssey</td>\n",
       "      <td>None</td>\n",
       "      <td>None</td>\n",
       "      <td>gas</td>\n",
       "      <td>None</td>\n",
       "      <td>...</td>\n",
       "      <td>None</td>\n",
       "      <td>https://images.craigslist.org/00o0o_dl3npxIe1r...</td>\n",
       "      <td>25.875874</td>\n",
       "      <td>-80.181141</td>\n",
       "      <td>12086</td>\n",
       "      <td>Miami-Dade</td>\n",
       "      <td>12</td>\n",
       "      <td>FL</td>\n",
       "      <td>Florida</td>\n",
       "      <td>65</td>\n",
       "    </tr>\n",
       "    <tr>\n",
       "      <th>64</th>\n",
       "      <td>https://modesto.craigslist.org/ctd/d/2015-ford...</td>\n",
       "      <td>modesto</td>\n",
       "      <td>46495</td>\n",
       "      <td>2015</td>\n",
       "      <td>ford</td>\n",
       "      <td>f-350sd</td>\n",
       "      <td>None</td>\n",
       "      <td>None</td>\n",
       "      <td>diesel</td>\n",
       "      <td>65987</td>\n",
       "      <td>...</td>\n",
       "      <td>None</td>\n",
       "      <td>https://images.craigslist.org/00H0H_d4ITLrL2VJ...</td>\n",
       "      <td>34.070311</td>\n",
       "      <td>-117.446303</td>\n",
       "      <td>6071</td>\n",
       "      <td>San Bernardino</td>\n",
       "      <td>6</td>\n",
       "      <td>CA</td>\n",
       "      <td>California</td>\n",
       "      <td>59</td>\n",
       "    </tr>\n",
       "    <tr>\n",
       "      <th>152</th>\n",
       "      <td>https://raleigh.craigslist.org/cto/d/2008-ford...</td>\n",
       "      <td>raleigh</td>\n",
       "      <td>6500</td>\n",
       "      <td>2008</td>\n",
       "      <td>ford</td>\n",
       "      <td>escape xlt</td>\n",
       "      <td>excellent</td>\n",
       "      <td>6 cylinders</td>\n",
       "      <td>gas</td>\n",
       "      <td>121000</td>\n",
       "      <td>...</td>\n",
       "      <td>black</td>\n",
       "      <td>https://images.craigslist.org/01616_bQdQSj4LDV...</td>\n",
       "      <td>35.838762</td>\n",
       "      <td>-78.610603</td>\n",
       "      <td>37183</td>\n",
       "      <td>Wake</td>\n",
       "      <td>37</td>\n",
       "      <td>NC</td>\n",
       "      <td>North Carolina</td>\n",
       "      <td>56</td>\n",
       "    </tr>\n",
       "    <tr>\n",
       "      <th>42</th>\n",
       "      <td>https://detroit.craigslist.org/okl/ctd/d/2005-...</td>\n",
       "      <td>detroit</td>\n",
       "      <td>4585</td>\n",
       "      <td>2005</td>\n",
       "      <td>ram</td>\n",
       "      <td>1500</td>\n",
       "      <td>None</td>\n",
       "      <td>8 cylinders</td>\n",
       "      <td>gas</td>\n",
       "      <td>183773</td>\n",
       "      <td>...</td>\n",
       "      <td>white</td>\n",
       "      <td>https://images.craigslist.org/00y0y_ivyXNNFpB1...</td>\n",
       "      <td>41.10094</td>\n",
       "      <td>-81.45528</td>\n",
       "      <td>39153</td>\n",
       "      <td>Summit</td>\n",
       "      <td>39</td>\n",
       "      <td>OH</td>\n",
       "      <td>Ohio</td>\n",
       "      <td>49</td>\n",
       "    </tr>\n",
       "  </tbody>\n",
       "</table>\n",
       "<p>10 rows × 26 columns</p>\n",
       "</div>"
      ],
      "text/plain": [
       "                                                   url            city  price  \\\n",
       "1    https://collegestation.craigslist.org/cto/d/19...  collegestation  39500   \n",
       "77   https://newhaven.craigslist.org/cto/d/toyota-c...        newhaven   1000   \n",
       "92   https://nashville.craigslist.org/ctd/d/2014-fo...       nashville  11875   \n",
       "58   https://losangeles.craigslist.org/sgv/cto/d/20...      losangeles   6990   \n",
       "17   https://lexington.craigslist.org/cto/d/2007-me...       lexington   3950   \n",
       "90   https://huntsville.craigslist.org/ctd/d/2010-h...      huntsville   4845   \n",
       "102  https://miami.craigslist.org/mdc/cto/d/get-aux...           miami     99   \n",
       "64   https://modesto.craigslist.org/ctd/d/2015-ford...         modesto  46495   \n",
       "152  https://raleigh.craigslist.org/cto/d/2008-ford...         raleigh   6500   \n",
       "42   https://detroit.craigslist.org/okl/ctd/d/2005-...         detroit   4585   \n",
       "\n",
       "     year manufacturer              make  condition    cylinders    fuel  \\\n",
       "1    1940         ford      deluxe coupe  excellent  8 cylinders     gas   \n",
       "77   2000       toyota            celica       fair  4 cylinders     gas   \n",
       "92   2014         ford   transit connect  excellent        other     gas   \n",
       "58   2009         ford           mustang       None  6 cylinders     gas   \n",
       "17   2007      mercury  grand marquis ls  excellent  8 cylinders     gas   \n",
       "90   2010      hyundai            accent       None         None   other   \n",
       "102  2006        honda           odyssey       None         None     gas   \n",
       "64   2015         ford           f-350sd       None         None  diesel   \n",
       "152  2008         ford        escape xlt  excellent  6 cylinders     gas   \n",
       "42   2005          ram              1500       None  8 cylinders     gas   \n",
       "\n",
       "    odometer  ... paint_color  \\\n",
       "1       None  ...         red   \n",
       "77      None  ...       black   \n",
       "92    115664  ...       white   \n",
       "58     72000  ...        None   \n",
       "17     74850  ...        blue   \n",
       "90     98712  ...        None   \n",
       "102     None  ...        None   \n",
       "64     65987  ...        None   \n",
       "152   121000  ...       black   \n",
       "42    183773  ...       white   \n",
       "\n",
       "                                             image_url        lat  \\\n",
       "1    https://images.craigslist.org/00d0d_i9vX9Ywpau...    29.3891   \n",
       "77   https://images.craigslist.org/00101_6wiNROHq20...  41.082196   \n",
       "92   https://images.craigslist.org/00X0X_1NlwBqmRbu...  35.880584   \n",
       "58   https://images.craigslist.org/00G0G_ciq5UdmFoY...    34.1243   \n",
       "17   https://images.craigslist.org/01414_dqw8XgIfcQ...  38.257397   \n",
       "90   https://images.craigslist.org/00V0V_4CDbDGnzOq...  35.638878   \n",
       "102  https://images.craigslist.org/00o0o_dl3npxIe1r...  25.875874   \n",
       "64   https://images.craigslist.org/00H0H_d4ITLrL2VJ...  34.070311   \n",
       "152  https://images.craigslist.org/01616_bQdQSj4LDV...  35.838762   \n",
       "42   https://images.craigslist.org/00y0y_ivyXNNFpB1...   41.10094   \n",
       "\n",
       "            long county_fips     county_name state_fips state_code  \\\n",
       "1       -94.9942       48167       Galveston         48         TX   \n",
       "77    -73.533067        9001       Fairfield          9         CT   \n",
       "92    -86.429405       47149      Rutherford         47         TN   \n",
       "58     -118.0515        6037     Los Angeles          6         CA   \n",
       "17    -83.559598       21069         Fleming         21         KY   \n",
       "90    -87.016869       47119           Maury         47         TN   \n",
       "102   -80.181141       12086      Miami-Dade         12         FL   \n",
       "64   -117.446303        6071  San Bernardino          6         CA   \n",
       "152   -78.610603       37183            Wake         37         NC   \n",
       "42     -81.45528       39153          Summit         39         OH   \n",
       "\n",
       "         state_name weather  \n",
       "1             Texas      67  \n",
       "77      Connecticut      51  \n",
       "92        Tennessee      59  \n",
       "58       California      59  \n",
       "17         Kentucky      50  \n",
       "90        Tennessee      59  \n",
       "102         Florida      65  \n",
       "64       California      59  \n",
       "152  North Carolina      56  \n",
       "42             Ohio      49  \n",
       "\n",
       "[10 rows x 26 columns]"
      ]
     },
     "execution_count": 11,
     "metadata": {},
     "output_type": "execute_result"
    }
   ],
   "source": [
    "vehicle_listings.sample(False,0.0001,10).toPandas().sample(10)"
   ]
  },
  {
   "cell_type": "markdown",
   "metadata": {},
   "source": [
    "Basic statistics on raw dataset columns:"
   ]
  },
  {
   "cell_type": "code",
   "execution_count": 12,
   "metadata": {
    "scrolled": true
   },
   "outputs": [
    {
     "name": "stdout",
     "output_type": "stream",
     "text": [
      "+-------+----------+------------------+------------------+--------------------+------------------+\n",
      "|summary|      city|        state_code|              year|                 lat|              long|\n",
      "+-------+----------+------------------+------------------+--------------------+------------------+\n",
      "|  count|   1723065|           1664232|           1716750|             1723065|           1723063|\n",
      "|   mean|      null|              28.4|2004.8408405417213|  38.781324850962136|-93.60776402344794|\n",
      "| stddev|      null|11.749231653365442|  12.0877162743775|   5.983397428918304| 67.11417142134626|\n",
      "|    min|abbotsford|                17|              1553|           -0.201001|         -0.072901|\n",
      "|    max|zanesville|                WY|               718|https://images.cr...|              9009|\n",
      "+-------+----------+------------------+------------------+--------------------+------------------+\n",
      "\n",
      "+-------+------------+--------------------+--------------------+---------+------------------+\n",
      "|summary|manufacturer|                make|               price|condition|          odometer|\n",
      "+-------+------------+--------------------+--------------------+---------+------------------+\n",
      "|  count|     1586651|             1653476|             1723065|  1022285|           1159007|\n",
      "|   mean|        null|2.0412982685270864E8|  107554.03791615523|     null|113638.96127165236|\n",
      "| stddev|        null|5.219260906638930...|1.0044387316232303E7|     null| 136861.0463338454|\n",
      "|    min|       acura|        ! ton pickup|                   1|     4x4\"|                 0|\n",
      "|    max|          vw|                   ∞|           999999999|  salvage|               gas|\n",
      "+-------+------------+--------------------+--------------------+---------+------------------+\n",
      "\n",
      "+-------+------------+------------------+-----------------+-----------------+-----------+-----------------+\n",
      "|summary|   cylinders|              fuel|     transmission|            drive|       size|             type|\n",
      "+-------+------------+------------------+-----------------+-----------------+-----------+-----------------+\n",
      "|  count|     1031768|           1712702|          1714034|          1061178|     599110|          1020129|\n",
      "|   mean|        null|120491.66666666667|             null|             null|       null|         34.80225|\n",
      "| stddev|        null|44637.820025922716|             null|             null|       null|6.530767520360834|\n",
      "|    min|10 cylinders|            135000|1G2WP52K7XF291710|1GBJK34G05E297566|        4wd|          30.1843|\n",
      "|    max|  parts only|             other|          rebuilt|              rwd|sub-compact|            wagon|\n",
      "+-------+------------+------------------+-----------------+-----------------+-----------+-----------------+\n",
      "\n",
      "+-------+--------------------+-----------------+--------------------+------------------+------------------+\n",
      "|summary|                 url|     title_status|                 vin|       paint_color|         image_url|\n",
      "+-------+--------------------+-----------------+--------------------+------------------+------------------+\n",
      "|  count|             1723065|          1720508|              605345|           1027421|           1723060|\n",
      "|   mean|                null|69335.88888888889|2.329898077722364E15|         -92.24275|      5156.2716049|\n",
      "| stddev|                null|40424.25247127164|1.221077550015922...|0.2730139282161253|10912.512283606751|\n",
      "|    min|https://abbotsfor...|           166730|                 !!!|          -92.0497|             22055|\n",
      "|    max|https://zanesvill...|          salvage|                   ∞|            yellow|             white|\n",
      "+-------+--------------------+-----------------+--------------------+------------------+------------------+\n",
      "\n",
      "+-------+-----------------+------------------+-----------------+------------------+------------------+\n",
      "|summary|      county_fips|        state_fips|          weather|        state_code|        state_name|\n",
      "+-------+-----------------+------------------+-----------------+------------------+------------------+\n",
      "|  count|          1664232|           1664232|          1663629|           1664232|           1723061|\n",
      "|   mean|28430.36144109112| 28.34413681877833| 53.7870443893704|              28.4|54.833333333333336|\n",
      "| stddev|16054.35450578523|16.032296397585032|7.799403370681863|11.749231653365442|2.7141603981096374|\n",
      "|    min|         -117.381|                 1|               29|                17|                51|\n",
      "|    max|          Ventura|              York|       Washington|                WY|           Wyoming|\n",
      "+-------+-----------------+------------------+-----------------+------------------+------------------+\n",
      "\n"
     ]
    }
   ],
   "source": [
    "vehicle_listings.select(\"city\",\"state_code\",\"year\",\"lat\",\"long\").describe().show()\n",
    "vehicle_listings.select(\"manufacturer\",\"make\",\"price\",\"condition\",\"odometer\").describe().show()\n",
    "vehicle_listings.select(\"cylinders\",\"fuel\",\"transmission\",\"drive\",\"size\",\"type\").describe().show()\n",
    "vehicle_listings.select(\"url\",\"title_status\",\"vin\",\"paint_color\",\"image_url\").describe().show()\n",
    "vehicle_listings.select(\"county_fips\",\"state_fips\",\"weather\",\"state_code\",\"state_name\").describe().show()"
   ]
  },
  {
   "cell_type": "markdown",
   "metadata": {},
   "source": [
    "Generally, the `.describe()` or `.explain()` method is a good way to start exploring a dataset. For this dataset, there are too many columns, some very unclean, and it is hard to decipher much from the above results. <br>"
   ]
  },
  {
   "cell_type": "markdown",
   "metadata": {},
   "source": [
    "## Cleaning Data"
   ]
  },
  {
   "cell_type": "markdown",
   "metadata": {},
   "source": [
    "There are over 1.7 million records, and 26 columns. As we can observe from a `.describe()` exploration of various attributes, the dataset is too large to perform EDA (Exploratory Data Analysis) comfortably. <br>\n",
    "The final data from the Extract Stage should be as clean as possible without redundant data.<br>"
   ]
  },
  {
   "cell_type": "markdown",
   "metadata": {},
   "source": [
    "Cleaning is essential during the Extract Stage of the ETL pipeline. We want to be able to cache a cleaned dataset that can be used for multiple pipelines later on, without having to perform basic cleaning again.<br>"
   ]
  },
  {
   "cell_type": "markdown",
   "metadata": {},
   "source": [
    "### Cleaning Checkpoints\n",
    "\n",
    "+  General\n",
    "    +  Drop Columns\n",
    "    +  Drop Rows (Null Price)\n",
    "+  Continuous\n",
    "    +  String to Float\n",
    "    +  Apply Reasonable Ranges\n",
    "        +  Kept Odometer Null Values\n",
    "    +  \n",
    "+  Ordinal\n",
    "    +  Narrow down relevant options\n",
    "    +  Remove errors in columns\n",
    "    +  Keep countable ordinal values\n",
    "+  Categorical\n",
    "    +  State_code + State_name\n",
    "        +  Removed State_name\n",
    "    +  \n",
    "+  Remove Duplicates\n",
    "+  "
   ]
  },
  {
   "cell_type": "markdown",
   "metadata": {},
   "source": [
    "#### Drop Columns\n",
    "\n",
    "Some Columns are redundant, we can remove them before moving forward.<br>"
   ]
  },
  {
   "cell_type": "code",
   "execution_count": 13,
   "metadata": {},
   "outputs": [
    {
     "name": "stdout",
     "output_type": "stream",
     "text": [
      "Remaining columns- ['city', 'price', 'year', 'manufacturer', 'make', 'condition', 'cylinders', 'fuel', 'odometer', 'title_status', 'transmission', 'drive', 'size', 'type', 'county_name', 'state_code', 'state_name']\n"
     ]
    }
   ],
   "source": [
    "vehicle_listings_clean=vehicle_listings.drop('url','vin', 'paint_color', 'image_url', \\\n",
    "                                       'lat', 'long', 'county_fips', 'state_fips','weather')\n",
    "print(\"Remaining columns-\",vehicle_listings_clean.columns)"
   ]
  },
  {
   "cell_type": "markdown",
   "metadata": {},
   "source": [
    "'lat' and 'long' provide no more useful information than ('city','county_name', 'state_code', 'state_name'), and are therefore not needed.<br>\n",
    "The other dropped columns are not helpful to the analysis."
   ]
  },
  {
   "cell_type": "markdown",
   "metadata": {},
   "source": [
    "The remaining attribute characteristics are varied, we have three types of features available in our data -\n",
    "**Continuous**, **Ordinal**, **Categorical**<br>"
   ]
  },
  {
   "cell_type": "markdown",
   "metadata": {},
   "source": [
    "**Potential Column Types -** <br>\n",
    "Continuous - price, year, odometer <br>\n",
    "Ordinal - condition, cylinders, fuel, title_status, transmission, drive, size, type <br>\n",
    "Categorical - city, manufacturer, make, county_name, state_code, state_name <br>"
   ]
  },
  {
   "cell_type": "markdown",
   "metadata": {},
   "source": [
    "The target variable of this project is **Price**. Therefore, any records where price is null would be irrelevant. Check to see if the dataset contains null prices."
   ]
  },
  {
   "cell_type": "code",
   "execution_count": 14,
   "metadata": {},
   "outputs": [
    {
     "data": {
      "text/plain": [
       "0"
      ]
     },
     "execution_count": 14,
     "metadata": {},
     "output_type": "execute_result"
    }
   ],
   "source": [
    "vehicle_listings_clean.filter(vehicle_listings.price.isNull()).count()"
   ]
  },
  {
   "cell_type": "markdown",
   "metadata": {},
   "source": [
    "### Continuous Data Columns"
   ]
  },
  {
   "cell_type": "markdown",
   "metadata": {},
   "source": [
    "Convert *numerical feature types* from string to float to obtain **Continuous** data columns."
   ]
  },
  {
   "cell_type": "code",
   "execution_count": 15,
   "metadata": {},
   "outputs": [],
   "source": [
    "from functools import reduce\n",
    "\n",
    "cols=[\"price\",\"year\",\"odometer\",]\n",
    "\n",
    "vehicle_listings_clean = (reduce(\n",
    "            lambda memo_df, col_name: memo_df.withColumn(col_name, vehicle_listings[col_name].cast(\"float\")),\n",
    "            cols,\n",
    "            vehicle_listings_clean))"
   ]
  },
  {
   "cell_type": "code",
   "execution_count": 16,
   "metadata": {},
   "outputs": [
    {
     "name": "stdout",
     "output_type": "stream",
     "text": [
      "root\n",
      " |-- city: string (nullable = true)\n",
      " |-- price: float (nullable = true)\n",
      " |-- year: float (nullable = true)\n",
      " |-- manufacturer: string (nullable = true)\n",
      " |-- make: string (nullable = true)\n",
      " |-- condition: string (nullable = true)\n",
      " |-- cylinders: string (nullable = true)\n",
      " |-- fuel: string (nullable = true)\n",
      " |-- odometer: float (nullable = true)\n",
      " |-- title_status: string (nullable = true)\n",
      " |-- transmission: string (nullable = true)\n",
      " |-- drive: string (nullable = true)\n",
      " |-- size: string (nullable = true)\n",
      " |-- type: string (nullable = true)\n",
      " |-- county_name: string (nullable = true)\n",
      " |-- state_code: string (nullable = true)\n",
      " |-- state_name: string (nullable = true)\n",
      "\n",
      "Data Size- 1723065 * 17\n"
     ]
    }
   ],
   "source": [
    "vehicle_listings_clean.printSchema()\n",
    "print(\"Data Size-\",vehicle_listings_clean.count(),\"*\",len(vehicle_listings_clean.columns))"
   ]
  },
  {
   "cell_type": "code",
   "execution_count": 17,
   "metadata": {},
   "outputs": [],
   "source": [
    "basics=[\"price\",\"manufacturer\",\"make\",\"city\",\"odometer\",\"year\"]\n",
    "#Smaller subset to take quick look at records"
   ]
  },
  {
   "cell_type": "markdown",
   "metadata": {},
   "source": [
    "#### Applying a Reasonable Range on Continuous Types"
   ]
  },
  {
   "cell_type": "markdown",
   "metadata": {},
   "source": [
    "Website postings that advertise items for sale often manipulate search algorithms to get more hits. For example, thousands of posts are spammed with a price of $1 (minimum allowed), to get more visibility through the 'search by price' filter. To ensure that our working dataset is within reasonable boundaries, we apply restrictions on the *Continuous* data columns."
   ]
  },
  {
   "cell_type": "code",
   "execution_count": 18,
   "metadata": {},
   "outputs": [
    {
     "name": "stdout",
     "output_type": "stream",
     "text": [
      "Too new: 2939\n",
      "Too old: 2416\n",
      "Too expensive: 916\n",
      "Too cheap: 23194\n",
      "Too many miles: 29118\n",
      "Too few miles: 11958\n"
     ]
    }
   ],
   "source": [
    "print(\"Too new: %d\" %vehicle_listings_clean.where(\"year >= 2019\").count())\n",
    "print(\"Too old: %d\" %vehicle_listings_clean.where(\"year < 1930\").count())\n",
    "print(\"Too expensive: %d\" %vehicle_listings_clean.where(\"price > 300000\").count())\n",
    "print(\"Too cheap: %d\" %vehicle_listings_clean.where(\"price < 50\").count())\n",
    "print(\"Too many miles: %d\" %vehicle_listings_clean.where(\"odometer > 250000\").count())\n",
    "print(\"Too few miles: %d\" %vehicle_listings_clean.where(\"odometer < 50\").count())\n"
   ]
  },
  {
   "cell_type": "markdown",
   "metadata": {},
   "source": [
    "Before removing 20k+ records due to price, let's confirm if the spame hypothesis is true:"
   ]
  },
  {
   "cell_type": "code",
   "execution_count": 19,
   "metadata": {},
   "outputs": [
    {
     "name": "stdout",
     "output_type": "stream",
     "text": [
      "+-----+------------+--------------------+-----------+--------+------+\n",
      "|price|manufacturer|                make|       city|odometer|  year|\n",
      "+-----+------------+--------------------+-----------+--------+------+\n",
      "|  8.0|      toyota|            4 runner|   valdosta|200000.0|1994.0|\n",
      "|  1.0|       dodge|         charger r/t|     mobile|    20.0|2014.0|\n",
      "|  1.0|        null|                  ..|     tucson|    null|1997.0|\n",
      "| 10.0|   chevrolet|                null|    medford|    null|1933.0|\n",
      "| 16.0|       chevy|                nova|   monterey|    null|1962.0|\n",
      "|  5.0|        ford|explorer eddie bauer|goldcountry|    null|2002.0|\n",
      "| 30.0|        ford|           freestyle|   stockton|    null|2007.0|\n",
      "|  1.0|         kia|         sorento awd|westernmass|    null|2004.0|\n",
      "|  1.0|   chevrolet|                null| kansascity| 34000.0|1984.0|\n",
      "| 30.0|        null|     Hello Kitty car|  nashville|    null|2015.0|\n",
      "|  1.0|       honda|               pilot|    orlando| 67727.0|2015.0|\n",
      "|  7.0|        null|           All makes|    mcallen|    null|2019.0|\n",
      "|  1.0|        null|                 any|     elpaso|    null|1967.0|\n",
      "|  1.0|    cadillac|                 sts|   danville|180000.0|2005.0|\n",
      "|  1.0|        null|Guaranteed  Finan...| janesville|    null|2009.0|\n",
      "|  1.0|        jeep|                cj-7|jerseyshore|    null|1980.0|\n",
      "|  1.0|   chevrolet|                null|  desmoines|    null|1962.0|\n",
      "|  1.0|     hyundai|             tiburon|     ithaca|    null|2003.0|\n",
      "| 12.0|   chevrolet|      silverado 1500| binghamton|    null|2013.0|\n",
      "|  1.0|         bmw|                745i|    buffalo|    null|2002.0|\n",
      "+-----+------------+--------------------+-----------+--------+------+\n",
      "\n"
     ]
    }
   ],
   "source": [
    "vehicle_listings_clean.sample(False,0.001,100).where(\"price<50\").select(basics).show()"
   ]
  },
  {
   "cell_type": "markdown",
   "metadata": {},
   "source": [
    "As expected, these randomly obtained results show us that \"price<50\" is not very useful to the study. <br>\n"
   ]
  },
  {
   "cell_type": "code",
   "execution_count": 20,
   "metadata": {},
   "outputs": [
    {
     "name": "stdout",
     "output_type": "stream",
     "text": [
      "Null odometer -  564058\n",
      "Null price -  0\n",
      "Null year -  6315\n"
     ]
    }
   ],
   "source": [
    "print(\"Null odometer - \",vehicle_listings_clean.filter(vehicle_listings.odometer.isNull()).count())\n",
    "print(\"Null price - \",vehicle_listings_clean.filter(vehicle_listings.price.isNull()).count())\n",
    "print(\"Null year - \",vehicle_listings_clean.filter(vehicle_listings.year.isNull()).count())"
   ]
  },
  {
   "cell_type": "markdown",
   "metadata": {},
   "source": [
    "The Null counts shows us that a lot of listings have not reported Odometer values, perhaps to increase chances of selling a car or maybe due to lack of info. The question is, do we remove all these records altogether?<br>\n",
    "I would rather keep these records because the 50k+ rows will still provide useful information about other attributes. Removing these values would reduce the dataset by 35%, which is too high.<br>\n",
    "<br>Apply the restrictions to vehicle_listings_clean.<br>\n",
    "Note- The Spark environment allows me to use a direct SQL query to restrict odometer values. This is better suited because the **`pyspark.sql.dataframe`** library treats \"null\" values as false when evaluating the `.where()` function."
   ]
  },
  {
   "cell_type": "code",
   "execution_count": 21,
   "metadata": {
    "scrolled": true
   },
   "outputs": [
    {
     "name": "stdout",
     "output_type": "stream",
     "text": [
      "-----------------\n",
      "Original No. of Records -  1723065\n",
      "Within Reasonable Range -  1648652\n",
      "Data kept for analysis: 95 percent of records\n",
      "-----------------\n",
      "+-------+------------------+------------------+------------------+\n",
      "|summary|             price|              year|          odometer|\n",
      "+-------+------------------+------------------+------------------+\n",
      "|  count|           1648652|           1648652|           1104875|\n",
      "|   mean| 11049.21668308412|2005.0792065275145|106125.70977621902|\n",
      "| stddev|11487.248338879712|  11.4529830527826|59273.314160029724|\n",
      "|    min|              50.0|            1930.0|              50.0|\n",
      "|    max|          300000.0|            2018.0|          250000.0|\n",
      "+-------+------------------+------------------+------------------+\n",
      "\n"
     ]
    }
   ],
   "source": [
    "vehicle_listings_clean = vehicle_listings_clean.where(\"price>=50 and price<=300000\") \\\n",
    "                    .where(\"year>=1930 and year<2019\") \\\n",
    "                    #.where(\"odometer<=350000\")\n",
    "                    #.where(vehicle_listings_clean.odometer.isNull()) \\\n",
    "\n",
    "vehicle_listings_clean.registerTempTable(\"df_temp\")\n",
    "\n",
    "vehicle_listings_clean=spark.sql(\"SELECT * FROM df_temp WHERE (odometer>=50 AND odometer<=250000) OR (odometer IS NULL)\")\n",
    "\n",
    "\n",
    "\n",
    "'''\n",
    "Other implementation - \n",
    "Replace null with value such as \"not_reported\". \n",
    "Problem - Odometer then can't be treated as continuous data.\n",
    "'''\n",
    "\n",
    "org=vehicle_listings.count()\n",
    "new=vehicle_listings_clean.count()\n",
    "\n",
    "print(\"-----------------\\nOriginal No. of Records - \",org)\n",
    "print(\"Within Reasonable Range - \",new)\n",
    "print(\"Data kept for analysis: %d percent of records\\n-----------------\" % (100 * new / org))\n",
    "\n",
    "\n",
    "vehicle_listings_clean.select(\"price\",\"year\",\"odometer\").describe().show()\n"
   ]
  },
  {
   "cell_type": "markdown",
   "metadata": {},
   "source": [
    "Although only 3 attributes, **price, year, odometer**, can be directly converted to numerical value (continuous), other attributes can be be transformed to fit the Categorical and Ordinal labels. The difference between categorical and ordinal values is that ordinal values have a clear and restricted ordering of types. For example, *'condition'* would be ordinal, ranging from excellent to poor."
   ]
  },
  {
   "cell_type": "markdown",
   "metadata": {},
   "source": [
    "### Ordinal Data Columns"
   ]
  },
  {
   "cell_type": "markdown",
   "metadata": {},
   "source": [
    "Ordinal data will play an important role in learning about price. An ordinal data type is a variable that has a limited number of options, which can be ordered. For example, `\"condition\"` should range from excellent to bad (or in this case, \"salvage\"."
   ]
  },
  {
   "cell_type": "markdown",
   "metadata": {},
   "source": [
    "The following columns are of the **Ordinal** types -  <br>\n",
    "(condition, cylinders, fuel, title_status, transmission, drive, size, type) <br>"
   ]
  },
  {
   "cell_type": "markdown",
   "metadata": {},
   "source": [
    "**`ordinals_options_all`** is a map linking each ordinal to each distinct value provided for it. This will help cleaning the dataset faster."
   ]
  },
  {
   "cell_type": "code",
   "execution_count": 22,
   "metadata": {},
   "outputs": [
    {
     "name": "stdout",
     "output_type": "stream",
     "text": [
      "Distinct  condition  options- ['new', ' 84.9\"\" ca wt\"', ' 59.5\"\" ca lt2\"', ' 84.9\"\" ca 4wd ls\"', ' 4x4\"', ' auto\"', 'excellent', '6 cylinders', 'audio controls\"', 'salvage', 'like new', 'good', ' 84.0\"\" ca c5b\"', 'fair', '\",,\"6 cylinders\"']\n",
      "-----------------\n",
      "Distinct  cylinders  options- ['gas', '3 cylinders', 'other', 'diesel', '10 cylinders', '6 cylinders', 'clean', '4 cylinders', '12 cylinders', 'good', '5 cylinders', '8 cylinders', 'parts only']\n",
      "-----------------\n",
      "Distinct  fuel  options- ['gas', 'automatic', 'other', 'diesel', '135000', '74180', '178000', 'hybrid', '4 cylinders', '8 cylinders', '138000', '59770', 'electric']\n",
      "-----------------\n",
      "Distinct  title_status  options- ['43742', 'automatic', '45483', 'lien', '44001', '166730', 'missing', 'manual', 'clean', 'salvage', '60664', 'rebuilt', 'parts only', '98333']\n",
      "-----------------\n",
      "Distinct  transmission  options- ['automatic', 'other', 'manual', 'clean', 'rebuilt', '1G2WP52K7XF291710']\n",
      "-----------------\n",
      "Distinct  drive  options- ['compact', 'full-size', 'fwd', '1GDJC34U85E329724', 'rwd', '1GCEK14VX2Z244409', '3GBKC34G72M110010', '4wd', '1GBJK39608E216926', '1GBJK34G05E297566']\n",
      "-----------------\n",
      "Distinct  size  options- ['mini-van', 'compact', 'full-size', 'SUV', 'fwd', 'rwd', 'mid-size', 'https://images.craigslist.org/00k0k_9EJzf6hJHYQ_600x450.jpg', 'sedan', 'pickup', 'https://images.craigslist.org/00606_kBUK1UvzUnA_600x450.jpg', 'sub-compact', '4wd']\n",
      "-----------------\n",
      "Distinct  type  options- ['van', 'mini-van', 'offroad', 'grey', 'compact', 'wagon', 'full-size', 'coupe', 'bus', '39.4202', 'SUV', 'other', 'convertible', '30.1843', 'sedan', 'hatchback', 'black', 'truck', 'pickup', 'blue']\n",
      "-----------------\n"
     ]
    }
   ],
   "source": [
    "ordinals=['condition', 'cylinders', 'fuel', 'title_status', 'transmission', 'drive', 'size', 'type']\n",
    "ordinals_options_all={}\n",
    "#ordinals_options_all[ordinal]=[x[ordinal] for x in vehicle_listings_clean.select(ordinal).distinct().collect()]\n",
    "for ordinal in ordinals: \n",
    "    ordinals_options_all[ordinal]=list(filter(None, [x[ordinal] for x in vehicle_listings_clean.select(ordinal).distinct().collect()]))\n",
    "    print(\"Distinct \",ordinal,\" options-\", ordinals_options_all[ordinal])\n",
    "    print(\"-----------------\")\n",
    "    \n",
    "    \n",
    "#Used filter(None,list) because we are only replacing wrong values here, not empty value"
   ]
  },
  {
   "cell_type": "markdown",
   "metadata": {},
   "source": [
    "As expected, all 8 Ordinal columns have values that seem to be errors, or reported incorrectly. For example, let's look into the \"Condition\" reported as 'audio controls\"'. "
   ]
  },
  {
   "cell_type": "code",
   "execution_count": 23,
   "metadata": {},
   "outputs": [
    {
     "name": "stdout",
     "output_type": "stream",
     "text": [
      "+------+------------+------------------+-----------+--------+------+---------------+\n",
      "| price|manufacturer|              make|       city|odometer|  year|      condition|\n",
      "+------+------------+------------------+-----------+--------+------+---------------+\n",
      "|2600.0|        null|\"18\"\" Chrome Alloy|lakecharles|    null|2012.0|audio controls\"|\n",
      "+------+------------+------------------+-----------+--------+------+---------------+\n",
      "\n"
     ]
    }
   ],
   "source": [
    "vehicle_listings_clean.filter(\"condition = 'audio controls\\\"'\" ).select(basics+[\"condition\"]).show()"
   ]
  },
  {
   "cell_type": "markdown",
   "metadata": {},
   "source": [
    "Only 1 record fetched. "
   ]
  },
  {
   "cell_type": "markdown",
   "metadata": {},
   "source": [
    "The next task is to clean these misleading values for each of the ordinal types. Automating this process, at the very least requires two `pyspark.sql.dataframe` library calls for each distinct ordinal option - `count()` and `replace`. We can count the number of occurences of a value in an ordinal column, if it's less than 10 then it is probably irrelevant."
   ]
  },
  {
   "cell_type": "markdown",
   "metadata": {},
   "source": [
    "**`remove_fakes()`** is a function that takes in a column and all distinct values within the column, and evaluates which options are useful. It bunches up other options under \"Other\"."
   ]
  },
  {
   "cell_type": "markdown",
   "metadata": {},
   "source": [
    "Time Cost - Each call to **`remove_fakes()`** will take **O(n)** *(O(2n+1))* where *n* is the length of the column. Because the algorithm needs to call both `count()` and `replace` for any ordinal/value combination, this is the fastest way to clean the ordinal columns."
   ]
  },
  {
   "cell_type": "code",
   "execution_count": 24,
   "metadata": {},
   "outputs": [],
   "source": [
    "def remove_fakes(column,all_options):\n",
    "    global vehicle_listings_clean\n",
    "    kept_options=[]\n",
    "    for option in all_options:\n",
    "        option_condition = column+\" = \"+\"'\"+option+\"'\"\n",
    "        temp_count=vehicle_listings_clean.where(option_condition).count()\n",
    "        if temp_count<10:\n",
    "            vehicle_listings_clean = vehicle_listings_clean.na.replace(option,'other',column)\n",
    "            print(\"Removed \",option,\" from \",column)\n",
    "        else:\n",
    "            print(\"Kept \",option,\" from \",column)\n",
    "            kept_options.append(option)\n",
    "    print(\"Kept values \",kept_options,\" from column \",column)"
   ]
  },
  {
   "cell_type": "markdown",
   "metadata": {},
   "source": [
    "The above function does not count *null* values. The difference between values printed as a list after the clean versus the final `count()` value are *null* and, in some cases, *other*."
   ]
  },
  {
   "cell_type": "markdown",
   "metadata": {},
   "source": [
    "#### Cleaning column = 'condition'"
   ]
  },
  {
   "cell_type": "code",
   "execution_count": 25,
   "metadata": {},
   "outputs": [
    {
     "name": "stdout",
     "output_type": "stream",
     "text": [
      "Number for 'condition'- 16\n",
      "Kept  new  from  condition\n",
      "Removed   84.9\"\" ca wt\"  from  condition\n",
      "Removed   59.5\"\" ca lt2\"  from  condition\n",
      "Removed   84.9\"\" ca 4wd ls\"  from  condition\n",
      "Removed   4x4\"  from  condition\n",
      "Removed   auto\"  from  condition\n",
      "Kept  excellent  from  condition\n",
      "Removed  6 cylinders  from  condition\n",
      "Removed  audio controls\"  from  condition\n",
      "Kept  salvage  from  condition\n",
      "Kept  like new  from  condition\n",
      "Kept  good  from  condition\n",
      "Removed   84.0\"\" ca c5b\"  from  condition\n",
      "Kept  fair  from  condition\n",
      "Removed  \",,\"6 cylinders\"  from  condition\n",
      "Kept values  ['new', 'excellent', 'salvage', 'like new', 'good', 'fair']  from column  condition\n",
      "Number for 'condition'- 8\n"
     ]
    }
   ],
   "source": [
    "#ordinals=['condition', 'cylinders', 'fuel', 'title_status', 'transmission', 'drive', 'size', 'type']\n",
    "\n",
    "print(\"Number for 'condition'-\",vehicle_listings_clean.select(\"condition\").distinct().count())\n",
    "remove_fakes(\"condition\",ordinals_options_all[\"condition\"])\n",
    "print(\"Number for 'condition'-\",vehicle_listings_clean.select(\"condition\").distinct().count())"
   ]
  },
  {
   "cell_type": "markdown",
   "metadata": {},
   "source": [
    "#### Cleaning column = 'cylinders'"
   ]
  },
  {
   "cell_type": "code",
   "execution_count": 26,
   "metadata": {},
   "outputs": [
    {
     "name": "stdout",
     "output_type": "stream",
     "text": [
      "Number for 'cylinders'- 14\n",
      "Removed  gas  from  cylinders\n",
      "Kept  3 cylinders  from  cylinders\n",
      "Kept  other  from  cylinders\n",
      "Removed  diesel  from  cylinders\n",
      "Kept  10 cylinders  from  cylinders\n",
      "Kept  6 cylinders  from  cylinders\n",
      "Removed  clean  from  cylinders\n",
      "Kept  4 cylinders  from  cylinders\n",
      "Kept  12 cylinders  from  cylinders\n",
      "Removed  good  from  cylinders\n",
      "Kept  5 cylinders  from  cylinders\n",
      "Kept  8 cylinders  from  cylinders\n",
      "Removed  parts only  from  cylinders\n",
      "Kept values  ['3 cylinders', 'other', '10 cylinders', '6 cylinders', '4 cylinders', '12 cylinders', '5 cylinders', '8 cylinders']  from column  cylinders\n",
      "Number for 'cylinders'- 9\n"
     ]
    }
   ],
   "source": [
    "print(\"Number for 'cylinders'-\",vehicle_listings_clean.select(\"cylinders\").distinct().count())\n",
    "remove_fakes(\"cylinders\",ordinals_options_all[\"cylinders\"])\n",
    "print(\"Number for 'cylinders'-\",vehicle_listings_clean.select(\"cylinders\").distinct().count())"
   ]
  },
  {
   "cell_type": "markdown",
   "metadata": {},
   "source": [
    "#### Cleaning column = 'fuel'"
   ]
  },
  {
   "cell_type": "code",
   "execution_count": 27,
   "metadata": {},
   "outputs": [
    {
     "name": "stdout",
     "output_type": "stream",
     "text": [
      "Number for 'fuel'- 14\n",
      "Kept  gas  from  fuel\n",
      "Removed  automatic  from  fuel\n",
      "Kept  other  from  fuel\n",
      "Kept  diesel  from  fuel\n",
      "Removed  135000  from  fuel\n",
      "Removed  74180  from  fuel\n",
      "Removed  178000  from  fuel\n",
      "Kept  hybrid  from  fuel\n",
      "Removed  4 cylinders  from  fuel\n",
      "Removed  8 cylinders  from  fuel\n",
      "Removed  138000  from  fuel\n",
      "Removed  59770  from  fuel\n",
      "Kept  electric  from  fuel\n",
      "Kept values  ['gas', 'other', 'diesel', 'hybrid', 'electric']  from column  fuel\n",
      "Number for 'fuel'- 6\n"
     ]
    }
   ],
   "source": [
    "print(\"Number for 'fuel'-\",vehicle_listings_clean.select(\"fuel\").distinct().count())\n",
    "remove_fakes(\"fuel\",ordinals_options_all[\"fuel\"])\n",
    "print(\"Number for 'fuel'-\",vehicle_listings_clean.select(\"fuel\").distinct().count())"
   ]
  },
  {
   "cell_type": "markdown",
   "metadata": {},
   "source": [
    "#### Cleaning column = 'title_status'"
   ]
  },
  {
   "cell_type": "code",
   "execution_count": 28,
   "metadata": {},
   "outputs": [
    {
     "name": "stdout",
     "output_type": "stream",
     "text": [
      "Number for 'title_status'- 15\n",
      "Removed  43742  from  title_status\n",
      "Removed  automatic  from  title_status\n",
      "Removed  45483  from  title_status\n",
      "Kept  lien  from  title_status\n",
      "Removed  44001  from  title_status\n",
      "Removed  166730  from  title_status\n",
      "Kept  missing  from  title_status\n",
      "Removed  manual  from  title_status\n",
      "Kept  clean  from  title_status\n",
      "Kept  salvage  from  title_status\n",
      "Removed  60664  from  title_status\n",
      "Kept  rebuilt  from  title_status\n",
      "Kept  parts only  from  title_status\n",
      "Removed  98333  from  title_status\n",
      "Kept values  ['lien', 'missing', 'clean', 'salvage', 'rebuilt', 'parts only']  from column  title_status\n",
      "Number for 'title_status'- 8\n"
     ]
    }
   ],
   "source": [
    "\n",
    "print(\"Number for 'title_status'-\",vehicle_listings_clean.select(\"title_status\").distinct().count())\n",
    "remove_fakes(\"title_status\",ordinals_options_all[\"title_status\"])\n",
    "print(\"Number for 'title_status'-\",vehicle_listings_clean.select(\"title_status\").distinct().count())\n"
   ]
  },
  {
   "cell_type": "markdown",
   "metadata": {},
   "source": [
    "#### Cleaning column = 'transmission'"
   ]
  },
  {
   "cell_type": "code",
   "execution_count": 29,
   "metadata": {},
   "outputs": [
    {
     "name": "stdout",
     "output_type": "stream",
     "text": [
      "Number for 'transmission'- 7\n",
      "Kept  automatic  from  transmission\n",
      "Kept  other  from  transmission\n",
      "Kept  manual  from  transmission\n",
      "Removed  clean  from  transmission\n",
      "Removed  rebuilt  from  transmission\n",
      "Removed  1G2WP52K7XF291710  from  transmission\n",
      "Kept values  ['automatic', 'other', 'manual']  from column  transmission\n",
      "Number for 'transmission'- 4\n"
     ]
    }
   ],
   "source": [
    "print(\"Number for 'transmission'-\",vehicle_listings_clean.select(\"transmission\").distinct().count())\n",
    "remove_fakes(\"transmission\",ordinals_options_all[\"transmission\"])\n",
    "print(\"Number for 'transmission'-\",vehicle_listings_clean.select(\"transmission\").distinct().count())"
   ]
  },
  {
   "cell_type": "markdown",
   "metadata": {},
   "source": [
    "#### Cleaning column = 'drive'"
   ]
  },
  {
   "cell_type": "code",
   "execution_count": 30,
   "metadata": {},
   "outputs": [
    {
     "name": "stdout",
     "output_type": "stream",
     "text": [
      "Number for 'drive'- 11\n",
      "Removed  compact  from  drive\n",
      "Removed  full-size  from  drive\n",
      "Kept  fwd  from  drive\n",
      "Removed  1GDJC34U85E329724  from  drive\n",
      "Kept  rwd  from  drive\n",
      "Removed  1GCEK14VX2Z244409  from  drive\n",
      "Removed  3GBKC34G72M110010  from  drive\n",
      "Kept  4wd  from  drive\n",
      "Removed  1GBJK39608E216926  from  drive\n",
      "Removed  1GBJK34G05E297566  from  drive\n",
      "Kept values  ['fwd', 'rwd', '4wd']  from column  drive\n",
      "Number for 'drive'- 5\n"
     ]
    }
   ],
   "source": [
    "print(\"Number for 'drive'-\",vehicle_listings_clean.select(\"drive\").distinct().count())\n",
    "remove_fakes(\"drive\",ordinals_options_all[\"drive\"])\n",
    "print(\"Number for 'drive'-\",vehicle_listings_clean.select(\"drive\").distinct().count())"
   ]
  },
  {
   "cell_type": "markdown",
   "metadata": {},
   "source": [
    "#### Cleaning column = 'size'"
   ]
  },
  {
   "cell_type": "code",
   "execution_count": 31,
   "metadata": {},
   "outputs": [
    {
     "name": "stdout",
     "output_type": "stream",
     "text": [
      "Number for 'size'- 14\n",
      "Removed  mini-van  from  size\n",
      "Kept  compact  from  size\n",
      "Kept  full-size  from  size\n",
      "Removed  SUV  from  size\n",
      "Removed  fwd  from  size\n",
      "Removed  rwd  from  size\n",
      "Kept  mid-size  from  size\n",
      "Removed  https://images.craigslist.org/00k0k_9EJzf6hJHYQ_600x450.jpg  from  size\n",
      "Removed  sedan  from  size\n",
      "Removed  pickup  from  size\n",
      "Removed  https://images.craigslist.org/00606_kBUK1UvzUnA_600x450.jpg  from  size\n",
      "Kept  sub-compact  from  size\n",
      "Removed  4wd  from  size\n",
      "Kept values  ['compact', 'full-size', 'mid-size', 'sub-compact']  from column  size\n",
      "Number for 'size'- 6\n"
     ]
    }
   ],
   "source": [
    "print(\"Number for 'size'-\",vehicle_listings_clean.select(\"size\").distinct().count())\n",
    "remove_fakes(\"size\",ordinals_options_all[\"size\"])\n",
    "print(\"Number for 'size'-\",vehicle_listings_clean.select(\"size\").distinct().count())"
   ]
  },
  {
   "cell_type": "markdown",
   "metadata": {},
   "source": [
    "#### Cleaning column = 'type'"
   ]
  },
  {
   "cell_type": "code",
   "execution_count": 32,
   "metadata": {},
   "outputs": [
    {
     "name": "stdout",
     "output_type": "stream",
     "text": [
      "Number for 'type'- 21\n",
      "Kept  van  from  type\n",
      "Kept  mini-van  from  type\n",
      "Kept  offroad  from  type\n",
      "Removed  grey  from  type\n",
      "Removed  compact  from  type\n",
      "Kept  wagon  from  type\n",
      "Removed  full-size  from  type\n",
      "Kept  coupe  from  type\n",
      "Kept  bus  from  type\n",
      "Removed  39.4202  from  type\n",
      "Kept  SUV  from  type\n",
      "Kept  other  from  type\n",
      "Kept  convertible  from  type\n",
      "Removed  30.1843  from  type\n",
      "Kept  sedan  from  type\n",
      "Kept  hatchback  from  type\n",
      "Removed  black  from  type\n",
      "Kept  truck  from  type\n",
      "Kept  pickup  from  type\n",
      "Removed  blue  from  type\n",
      "Kept values  ['van', 'mini-van', 'offroad', 'wagon', 'coupe', 'bus', 'SUV', 'other', 'convertible', 'sedan', 'hatchback', 'truck', 'pickup']  from column  type\n",
      "Number for 'type'- 14\n"
     ]
    }
   ],
   "source": [
    "print(\"Number for 'type'-\",vehicle_listings_clean.select(\"type\").distinct().count())\n",
    "remove_fakes(\"type\",ordinals_options_all[\"type\"])\n",
    "print(\"Number for 'type'-\",vehicle_listings_clean.select(\"type\").distinct().count())"
   ]
  },
  {
   "cell_type": "markdown",
   "metadata": {},
   "source": [
    "### Categorical Data Columns"
   ]
  },
  {
   "cell_type": "markdown",
   "metadata": {},
   "source": [
    "Categorical - city, manufacturer, make, county_name, state_code, state_name "
   ]
  },
  {
   "cell_type": "markdown",
   "metadata": {},
   "source": [
    "There isn't much cleaning to be done with categorical data. An easy observation is that this set of columns give us insight about location unlike other column types. There might be a way to combine state_code and state_name."
   ]
  },
  {
   "cell_type": "code",
   "execution_count": 33,
   "metadata": {},
   "outputs": [
    {
     "name": "stdout",
     "output_type": "stream",
     "text": [
      "+------------+-----------+----------+--------------+\n",
      "|        city|county_name|state_code|    state_name|\n",
      "+------------+-----------+----------+--------------+\n",
      "| comoxvalley|       null|      null|        FAILED|\n",
      "|    missoula|   Shoshone|        ID|         Idaho|\n",
      "|     toronto|       null|      null|        FAILED|\n",
      "|  bellingham|    Whatcom|        WA|    Washington|\n",
      "|    delaware|     Camden|        NJ|    New Jersey|\n",
      "|    delaware|       Kent|        DE|      Delaware|\n",
      "|     chicago|     Shelby|        IN|       Indiana|\n",
      "|      odessa|    Lubbock|        TX|         Texas|\n",
      "|      elpaso|   Maricopa|        AZ|       Arizona|\n",
      "|  cincinnati|   Hamilton|        OH|          Ohio|\n",
      "|charlestonwv|     Mercer|        WV| West Virginia|\n",
      "| fortcollins|    Natrona|        WY|       Wyoming|\n",
      "|hudsonvalley|   Gwinnett|        GA|       Georgia|\n",
      "|          nh|  Middlesex|        MA| Massachusetts|\n",
      "|    victoria|       null|      null|        FAILED|\n",
      "|    edmonton|       null|      null|        FAILED|\n",
      "|  greensboro|    Forsyth|        NC|North Carolina|\n",
      "| albuquerque| Bernalillo|        NM|    New Mexico|\n",
      "| chattanooga|    Douglas|        GA|       Georgia|\n",
      "|   lafayette|  Calcasieu|        LA|     Louisiana|\n",
      "+------------+-----------+----------+--------------+\n",
      "only showing top 20 rows\n",
      "\n"
     ]
    }
   ],
   "source": [
    "vehicle_listings_clean.select(\"city\",\"county_name\",\"state_code\",\"state_name\").sample(False,0.0001,100).show()"
   ]
  },
  {
   "cell_type": "markdown",
   "metadata": {},
   "source": [
    "We can see that when state_code is *null*, the matching state_name is *Failed*. Since the state_name appears to be generated by state_code, there isn't any point in keeping both. Let's remove state_name. Our total columns are now 16."
   ]
  },
  {
   "cell_type": "code",
   "execution_count": 34,
   "metadata": {},
   "outputs": [],
   "source": [
    "vehicle_listings_clean=vehicle_listings_clean.drop('state_name')"
   ]
  },
  {
   "cell_type": "code",
   "execution_count": 35,
   "metadata": {},
   "outputs": [
    {
     "name": "stdout",
     "output_type": "stream",
     "text": [
      "Original Dimensions -  1723065 * 26\n",
      "New Dimensions -  1648652 * 16\n"
     ]
    }
   ],
   "source": [
    "print(\"Original Dimensions - \",vehicle_listings.count(),\"*\",len(vehicle_listings.columns))\n",
    "print(\"New Dimensions - \",vehicle_listings_clean.count(),\"*\",len(vehicle_listings_clean.columns))"
   ]
  },
  {
   "cell_type": "markdown",
   "metadata": {},
   "source": [
    "### Removing Duplicates"
   ]
  },
  {
   "cell_type": "markdown",
   "metadata": {},
   "source": [
    "The raw dataset was obtained using a scraper from Craiglist. This means that each post will have a unique url."
   ]
  },
  {
   "cell_type": "code",
   "execution_count": 36,
   "metadata": {},
   "outputs": [
    {
     "name": "stdout",
     "output_type": "stream",
     "text": [
      "1723065\n",
      "1723065\n"
     ]
    }
   ],
   "source": [
    "print(vehicle_listings.select(\"url\").count())\n",
    "print(vehicle_listings.select(\"url\").distinct().count())"
   ]
  },
  {
   "cell_type": "markdown",
   "metadata": {},
   "source": [
    "The scraper can't find records because of various reasons. Each duplicate is more likely the result of people posting multiple times or other errors. Therefore no record from the raw dataset can be found to be a complete duplicate."
   ]
  },
  {
   "cell_type": "markdown",
   "metadata": {},
   "source": [
    "However, the column attributes remaining in **`vehicle_listings_clean`** are enough to remove duplicates."
   ]
  },
  {
   "cell_type": "code",
   "execution_count": 37,
   "metadata": {},
   "outputs": [],
   "source": [
    "vehicle_listings_clean=vehicle_listings_clean.drop_duplicates()"
   ]
  },
  {
   "cell_type": "markdown",
   "metadata": {},
   "source": [
    "#### Final dataset size:"
   ]
  },
  {
   "cell_type": "code",
   "execution_count": 38,
   "metadata": {},
   "outputs": [
    {
     "name": "stdout",
     "output_type": "stream",
     "text": [
      "Original Dimensions -  1723065 * 26\n",
      "New Dimensions -  1436717 * 16\n",
      "Data kept for analysis: 83 percent of records\n",
      "-----------------\n"
     ]
    }
   ],
   "source": [
    "old_col=vehicle_listings.count()\n",
    "old_row=len(vehicle_listings.columns)\n",
    "new_col=vehicle_listings_clean.count()\n",
    "new_row=len(vehicle_listings_clean.columns)\n",
    "\n",
    "print(\"Original Dimensions - \",old_col,\"*\",old_row)\n",
    "print(\"New Dimensions - \",new_col,\"*\",new_row)\n",
    "\n",
    "\n",
    "print(\"Data kept for analysis: %d percent of records\\n-----------------\" % (100 * new_col / old_col))\n",
    "\n"
   ]
  },
  {
   "cell_type": "markdown",
   "metadata": {},
   "source": [
    "## Caching Data on S3"
   ]
  },
  {
   "cell_type": "markdown",
   "metadata": {},
   "source": [
    "After cleaning, the final task in the **Extract** stage is to cache the data. I will store the cleaned dataset as a parquet file on Amazon S3. We can return to this file without having to run the Extract pipeline again, and attach other pipelines from this point as well. <br>"
   ]
  },
  {
   "cell_type": "code",
   "execution_count": 39,
   "metadata": {},
   "outputs": [],
   "source": [
    "#vehicle_listings_clean.write.parquet(\"s3a://deveshetl/usedcars/extract\",mode=\"overwrite\")\n",
    "\n",
    "vehicle_listings_clean.write.parquet(\"../data/vehicle_listings_extract.parquet\",mode='overwrite')"
   ]
  },
  {
   "cell_type": "markdown",
   "metadata": {},
   "source": [
    "Unable to connect to S3 directly using SparkSession due to Spark generating its credentials, possibly due to versioning... <br>\n",
    "Instead, we can connect to S3 using a bash script.<br>\n",
    "The parquet compression brings the file size down to *<30MB*, so this doesn't cause performance issues here.<br>"
   ]
  },
  {
   "cell_type": "code",
   "execution_count": 57,
   "metadata": {},
   "outputs": [
    {
     "name": "stdout",
     "output_type": "stream",
     "text": [
      "Connecting to AWS S3...\n",
      "Object Written to S3.\n"
     ]
    }
   ],
   "source": [
    "print (\"Connecting to AWS S3...\")\n",
    "subprocess.Popen(['./S3_connect.command','write'])\n",
    "print (\"Object Written to S3.\")"
   ]
  },
  {
   "cell_type": "markdown",
   "metadata": {},
   "source": [
    "With the new dataset, we sample the data and study it using a **Pandas** dataframe, in order to start the Transform stage of the pipeline with an *Exploratory Data Analysis*.<br>\n"
   ]
  },
  {
   "cell_type": "markdown",
   "metadata": {},
   "source": [
    "# Transform Data"
   ]
  },
  {
   "cell_type": "markdown",
   "metadata": {},
   "source": [
    "Since this is a separate portion of the pipeline, we retrieve the the cached data from S3 using a bash script."
   ]
  },
  {
   "cell_type": "code",
   "execution_count": 58,
   "metadata": {},
   "outputs": [
    {
     "name": "stdout",
     "output_type": "stream",
     "text": [
      "Connecting to AWS S3...\n",
      "Object Read from S3 to ../data.\n"
     ]
    }
   ],
   "source": [
    "print (\"Connecting to AWS S3...\")\n",
    "subprocess.Popen(['./S3_connect.command','read'])\n",
    "print (\"Object Read from S3 to ../data.\")"
   ]
  },
  {
   "cell_type": "code",
   "execution_count": 59,
   "metadata": {},
   "outputs": [
    {
     "data": {
      "text/plain": [
       "pyspark.sql.dataframe.DataFrame"
      ]
     },
     "execution_count": 59,
     "metadata": {},
     "output_type": "execute_result"
    }
   ],
   "source": [
    "#vehicles_listings_read=spark.read.parquet(\"s3a://s3://deveshetl/usedcars/extract\")\n",
    "#vehicle_listings_read=spark.read.parquet(\"../data/vehicle_listings_read.parquet\")\n",
    "\n",
    "vehicle_listings_read = spark.read.format(\"parquet\").option(\"inferschema\",\"true\").load(\"../data/vehicle_listings_read.parquet\")\n",
    "type(vehicle_listings_read)\n"
   ]
  },
  {
   "cell_type": "code",
   "execution_count": 60,
   "metadata": {},
   "outputs": [
    {
     "name": "stdout",
     "output_type": "stream",
     "text": [
      "root\n",
      " |-- city: string (nullable = true)\n",
      " |-- price: float (nullable = true)\n",
      " |-- year: float (nullable = true)\n",
      " |-- manufacturer: string (nullable = true)\n",
      " |-- make: string (nullable = true)\n",
      " |-- condition: string (nullable = true)\n",
      " |-- cylinders: string (nullable = true)\n",
      " |-- fuel: string (nullable = true)\n",
      " |-- odometer: float (nullable = true)\n",
      " |-- title_status: string (nullable = true)\n",
      " |-- transmission: string (nullable = true)\n",
      " |-- drive: string (nullable = true)\n",
      " |-- size: string (nullable = true)\n",
      " |-- type: string (nullable = true)\n",
      " |-- county_name: string (nullable = true)\n",
      " |-- state_code: string (nullable = true)\n",
      "\n"
     ]
    }
   ],
   "source": [
    "vehicle_listings_read.printSchema()"
   ]
  },
  {
   "cell_type": "markdown",
   "metadata": {},
   "source": [
    "## Sampling Data"
   ]
  },
  {
   "cell_type": "code",
   "execution_count": 64,
   "metadata": {},
   "outputs": [
    {
     "name": "stdout",
     "output_type": "stream",
     "text": [
      "['city', 'price', 'year', 'manufacturer', 'make', 'condition', 'cylinders', 'fuel', 'odometer', 'title_status', 'transmission', 'drive', 'size', 'type', 'county_name', 'state_code']\n"
     ]
    }
   ],
   "source": [
    "print(vehicle_listings_read.columns)"
   ]
  },
  {
   "cell_type": "code",
   "execution_count": 65,
   "metadata": {},
   "outputs": [
    {
     "name": "stdout",
     "output_type": "stream",
     "text": [
      "+-------+----------+------------------+------------------+------------+--------------------+---------+\n",
      "|summary|      city|             price|              year|manufacturer|                make|condition|\n",
      "+-------+----------+------------------+------------------+------------+--------------------+---------+\n",
      "|  count|   1436717|           1436717|           1436717|     1324652|             1377553|   867905|\n",
      "|   mean|      null|10805.061923120558|2004.7289960374937|        null| 2.434715818571203E8|     null|\n",
      "| stddev|      null|11464.141795514624|11.631722974184102|        null|5.700072182582201E10|     null|\n",
      "|    min|abbotsford|              50.0|            1930.0|       acura|        ! ton pickup|excellent|\n",
      "|    max|zanesville|          300000.0|            2018.0|          vw|                   ∞|  salvage|\n",
      "+-------+----------+------------------+------------------+------------+--------------------+---------+\n",
      "\n",
      "+-------+------------+-------+-----------------+------------+------------+\n",
      "|summary|   cylinders|   fuel|         odometer|title_status|transmission|\n",
      "+-------+------------+-------+-----------------+------------+------------+\n",
      "|  count|      866765|1429034|           946901|     1434620|     1429847|\n",
      "|   mean|        null|   null|106590.5549376334|        null|        null|\n",
      "| stddev|        null|   null|59918.81507149024|        null|        null|\n",
      "|    min|10 cylinders| diesel|             50.0|       clean|   automatic|\n",
      "|    max|       other|  other|         250000.0|     salvage|       other|\n",
      "+-------+------------+-------+-----------------+------------+------------+\n",
      "\n",
      "+-------+------+-----------+------+------------------+------------------+\n",
      "|summary| drive|       size|  type|       county_name|        state_code|\n",
      "+-------+------+-----------+------+------------------+------------------+\n",
      "|  count|882720|     506189|841492|           1391625|           1391625|\n",
      "|   mean|  null|       null|  null|16912.785714285714|              29.5|\n",
      "| stddev|  null|       null|  null| 17953.76351880048|13.060299712159312|\n",
      "|    min|   4wd|    compact|   SUV|             17085|                17|\n",
      "|    max|   rwd|sub-compact| wagon|            Zavala|                WY|\n",
      "+-------+------+-----------+------+------------------+------------------+\n",
      "\n"
     ]
    }
   ],
   "source": [
    "vehicle_listings_read.select('city', 'price', 'year', 'manufacturer', 'make', 'condition').describe().show()\n",
    "vehicle_listings_read.select('cylinders', 'fuel', 'odometer', 'title_status', 'transmission').describe().show()\n",
    "vehicle_listings_read.select('drive', 'size', 'type', 'county_name', 'state_code').describe().show()"
   ]
  },
  {
   "cell_type": "markdown",
   "metadata": {},
   "source": [
    "## Exploratory Data Analysis"
   ]
  },
  {
   "cell_type": "markdown",
   "metadata": {},
   "source": [
    "To start the *EDA*, focus on the target variable, i.e. the variable we want our model to be able to predict - **price** "
   ]
  },
  {
   "cell_type": "markdown",
   "metadata": {},
   "source": [
    "To explore the dataset for analysis, create a **sample pandas dataframe** from the dataframe:"
   ]
  },
  {
   "cell_type": "markdown",
   "metadata": {},
   "source": [
    "Pandas `dataframe.describe` gives us basic statistics but it is hard to determine how well distributed the sample is across the dataset. One way to figure this out is to observe the distibution of one column. As an example, let us use the *\"city\"* column for this."
   ]
  },
  {
   "cell_type": "markdown",
   "metadata": {},
   "source": [
    "*Random Sampling* like above works well for simple use cases. However, the car records are probably not evenly distributed. <br>"
   ]
  },
  {
   "cell_type": "markdown",
   "metadata": {},
   "source": [
    "Compared to simple random sampling, *Stratified sampling* has some advantages. Stratified sampling\n",
    "makes sure every strata will be represented in the sample of the entire population. Stratified sampling\n",
    "method is possible to increase the precision with the same sample size or reduce the sample size with a\n",
    "given precision. Stratified sampling method works well for population with variety attributes. This use\n",
    "case will implement **Proportionate Stratified Sampling**"
   ]
  },
  {
   "cell_type": "code",
   "execution_count": null,
   "metadata": {},
   "outputs": [],
   "source": []
  }
 ],
 "metadata": {
  "kernelspec": {
   "display_name": "Python 3",
   "language": "python",
   "name": "python3"
  },
  "language_info": {
   "codemirror_mode": {
    "name": "ipython",
    "version": 3
   },
   "file_extension": ".py",
   "mimetype": "text/x-python",
   "name": "python",
   "nbconvert_exporter": "python",
   "pygments_lexer": "ipython3",
   "version": "3.7.3"
  }
 },
 "nbformat": 4,
 "nbformat_minor": 2
}
