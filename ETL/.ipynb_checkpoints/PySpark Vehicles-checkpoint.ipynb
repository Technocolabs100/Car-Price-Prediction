{
 "cells": [
  {
   "cell_type": "markdown",
   "metadata": {},
   "source": [
    "# Problem Definition\n",
    "#### How to determine the *price* of a used car?"
   ]
  },
  {
   "cell_type": "markdown",
   "metadata": {},
   "source": [
    "## Contents\n",
    "\n",
    "[Installation Setup](#Installation-Setup) <br>\n",
    "+   [Environment Config](#Environment-Configuration) <br>\n",
    "+   [Python Packages](#Loading-Packages) <br>\n",
    "+   [Apache Spark](#Creating-SparkSession) <br>\n",
    "\n",
    "[Extract, Transform, Load](#Extract-Data) <br>\n",
    "This includes the various stages of the ETL Pipeline <br>\n",
    "+   [Extract](#Extract-Data) <br>\n",
    "    +   [Download from Kaggle](#Kaggle-Dataset) <br>\n",
    "    +   [Cleaning Data](#Cleaning-Data) <br>\n",
    "    +   [Cache Data](#Caching-Data-on-S3) <br>\n",
    "+   [Transform](#Transform-Data) <br>\n",
    "    +   [Sampling Data](#Sampling-Data) <br>\n",
    "    +   [Exploratory Data Analysis using Pandas and Matplotlib](#Exploratory-Data-Analysis) <br>\n",
    "    +   [Transformations](#Transformations) <br>\n",
    "    +   [Cache Data](#Caching-Data-on-S3) <br>\n",
    "+   [Load](#Load-Data) <br>\n",
    "    +   \n",
    "    +   \n",
    "    +   \n",
    "    \n",
    "[Predicting Used Car Price](#Machine-Learning)\n",
    "+   Implementing Linear Regression"
   ]
  },
  {
   "cell_type": "markdown",
   "metadata": {},
   "source": [
    "# Installation Setup\n",
    "\n",
    "## Tool Versions\n",
    "\n",
    "```\n",
    "Apache Spark - 2.4.3\n",
    "Jupyter Notebook - 4.4.0\n",
    "AirFlow - ?\n",
    "```\n",
    "    \n",
    "## Environment Configuration\n",
    "\n",
    "#### Configuring ~/.bash_profile\n",
    "\n",
    "```\n",
    "export PATH=\"/usr/local/bin:$PATH\"\n",
    "PATH=\"/Library/Frameworks/Python.framework/Versions/3.7/bin:${PATH}\"\n",
    "export PATH=/usr/local/scala/bin:$PATH\n",
    "export PATH=/usr/local/spark/bin:$PATH\n",
    "export JAVA_HOME=$(/usr/libexec/java_home -v 1.8)\n",
    "export PYSPARK_PYTHON=python3.7\n",
    "```\n",
    "\n",
    "#### Configuring ~/.bashrc\n",
    "\n",
    "```\n",
    "export PYSPARK_PYTHON=/usr/local/bin/python3.7\n",
    "export PYSPARK_DRIVER_PYTHON=/usr/local/bin/python3.7\n",
    "```\n",
    "\n"
   ]
  },
  {
   "cell_type": "markdown",
   "metadata": {},
   "source": [
    "### Findspark\n",
    "\n",
    "Use `findspark` to be able to find and import **Pyspark** module, while correctly setting environmental variables and dependencies."
   ]
  },
  {
   "cell_type": "code",
   "execution_count": 1,
   "metadata": {},
   "outputs": [],
   "source": [
    "import traceback\n",
    "import findspark\n",
    "try:\n",
    "    findspark.init('/usr/local/spark/')\n",
    "except:\n",
    "    print (\"Error:\", ''.join(traceback.format_stack()))"
   ]
  },
  {
   "cell_type": "markdown",
   "metadata": {},
   "source": [
    "Check paths before Executing PySpark Session:"
   ]
  },
  {
   "cell_type": "code",
   "execution_count": 3,
   "metadata": {},
   "outputs": [
    {
     "name": "stdout",
     "output_type": "stream",
     "text": [
      "PATH: /Library/Frameworks/Python.framework/Versions/3.7/bin:/usr/local/spark/bin:/usr/local/scala/bin:/Library/Frameworks/Python.framework/Versions/3.7/bin:/usr/local/bin:/usr/local/spark/bin:/usr/local/scala/bin:/Library/Frameworks/Python.framework/Versions/3.7/bin:/usr/local/bin:/usr/local/spark/bin:/usr/local/scala/bin:/Library/Frameworks/Python.framework/Versions/3.7/bin:/usr/local/bin:/usr/local/spark/bin:/usr/local/scala/bin:/Library/Frameworks/Python.framework/Versions/3.7/bin:/usr/local/bin:/usr/local/bin:/usr/bin:/bin:/usr/sbin:/sbin\n",
      "\n",
      "SPARK_HOME: /usr/local/spark/\n",
      "PYSPARK_PYTHON: /usr/local/bin/python3.7\n",
      "PYSPARK_DRIVER_PYTHON: /usr/local/bin/python3.7\n"
     ]
    }
   ],
   "source": [
    "import os\n",
    "import sys\n",
    "print(\"PATH: %s\\n\" % os.environ['PATH'])\n",
    "print(\"SPARK_HOME: %s\" % os.environ['SPARK_HOME'])\n",
    "print(\"PYSPARK_PYTHON: %s\" % os.environ['PYSPARK_PYTHON'])\n",
    "print(\"PYSPARK_DRIVER_PYTHON: %s\" % os.environ['PYSPARK_DRIVER_PYTHON'])"
   ]
  },
  {
   "cell_type": "markdown",
   "metadata": {},
   "source": [
    "## Loading Packages "
   ]
  },
  {
   "cell_type": "code",
   "execution_count": 4,
   "metadata": {},
   "outputs": [],
   "source": [
    "#import libraries\n",
    "from pyspark.sql import SparkSession\n",
    "import pandas as pd\n",
    "import numpy as np\n",
    "import matplotlib\n",
    "import sklearn\n",
    "import scipy\n",
    "import matplotlib.pyplot as plt\n",
    "import matplotlib.pylab as pylab"
   ]
  },
  {
   "cell_type": "markdown",
   "metadata": {},
   "source": [
    "### Package Versions"
   ]
  },
  {
   "cell_type": "code",
   "execution_count": 5,
   "metadata": {},
   "outputs": [
    {
     "name": "stdout",
     "output_type": "stream",
     "text": [
      "matplotlib: 3.0.3\n",
      "sklearn: 0.19.2\n",
      "scipy: 1.2.1\n",
      "pandas: 0.24.2\n",
      "numpy: 1.16.3\n",
      "Python: 3.7.3 (v3.7.3:ef4ec6ed12, Mar 25 2019, 16:52:21) \n",
      "[Clang 6.0 (clang-600.0.57)]\n"
     ]
    }
   ],
   "source": [
    "print('matplotlib: {}'.format(matplotlib.__version__))\n",
    "print('sklearn: {}'.format(sklearn.__version__))\n",
    "print('scipy: {}'.format(scipy.__version__))\n",
    "print('pandas: {}'.format(pd.__version__))\n",
    "print('numpy: {}'.format(np.__version__))\n",
    "print('Python: {}'.format(sys.version))"
   ]
  },
  {
   "cell_type": "markdown",
   "metadata": {},
   "source": [
    "## Creating SparkSession\n",
    "Creating Spark Session, hosted across all local nodes on a **Standalone Cluster**"
   ]
  },
  {
   "cell_type": "code",
   "execution_count": 6,
   "metadata": {},
   "outputs": [],
   "source": [
    "spark = SparkSession \\\n",
    "    .builder \\\n",
    "    .master(\"local[*]\") \\\n",
    "    .appName(\"PySpark Craigslist\") \\\n",
    "    .getOrCreate()\n",
    "\n",
    "sc = spark.sparkContext"
   ]
  },
  {
   "cell_type": "markdown",
   "metadata": {},
   "source": [
    "Monitoring Spark instrumentation through the WebUI available through `localhost:4040/`"
   ]
  },
  {
   "cell_type": "markdown",
   "metadata": {},
   "source": [
    "# Extract Data"
   ]
  },
  {
   "cell_type": "markdown",
   "metadata": {},
   "source": [
    "## Kaggle Dataset\n",
    "\n",
    "Available from [kaggle.com/austinreese/](https://www.kaggle.com/austinreese/craigslist-carstrucks-data)"
   ]
  },
  {
   "cell_type": "code",
   "execution_count": 190,
   "metadata": {},
   "outputs": [
    {
     "data": {
      "text/plain": [
       "pyspark.sql.dataframe.DataFrame"
      ]
     },
     "execution_count": 190,
     "metadata": {},
     "output_type": "execute_result"
    }
   ],
   "source": [
    "vehicle_listings = spark.read.format(\"csv\").option(\"header\", \"true\").load(\"../data/craigslistVehiclesFull.csv\")\n",
    "type(vehicle_listings)"
   ]
  },
  {
   "cell_type": "markdown",
   "metadata": {},
   "source": [
    "Now that the data is available as a local Dataframe, let's look at the schema, size, samples and statistics of our working data - "
   ]
  },
  {
   "cell_type": "code",
   "execution_count": 281,
   "metadata": {},
   "outputs": [
    {
     "name": "stdout",
     "output_type": "stream",
     "text": [
      "root\n",
      " |-- url: string (nullable = true)\n",
      " |-- city: string (nullable = true)\n",
      " |-- price: string (nullable = true)\n",
      " |-- year: string (nullable = true)\n",
      " |-- manufacturer: string (nullable = true)\n",
      " |-- make: string (nullable = true)\n",
      " |-- condition: string (nullable = true)\n",
      " |-- cylinders: string (nullable = true)\n",
      " |-- fuel: string (nullable = true)\n",
      " |-- odometer: string (nullable = true)\n",
      " |-- title_status: string (nullable = true)\n",
      " |-- transmission: string (nullable = true)\n",
      " |-- vin: string (nullable = true)\n",
      " |-- drive: string (nullable = true)\n",
      " |-- size: string (nullable = true)\n",
      " |-- type: string (nullable = true)\n",
      " |-- paint_color: string (nullable = true)\n",
      " |-- image_url: string (nullable = true)\n",
      " |-- lat: string (nullable = true)\n",
      " |-- long: string (nullable = true)\n",
      " |-- county_fips: string (nullable = true)\n",
      " |-- county_name: string (nullable = true)\n",
      " |-- state_fips: string (nullable = true)\n",
      " |-- state_code: string (nullable = true)\n",
      " |-- state_name: string (nullable = true)\n",
      " |-- weather: string (nullable = true)\n",
      "\n"
     ]
    }
   ],
   "source": [
    "vehicle_listings.printSchema()"
   ]
  },
  {
   "cell_type": "code",
   "execution_count": 149,
   "metadata": {
    "scrolled": true
   },
   "outputs": [
    {
     "name": "stdout",
     "output_type": "stream",
     "text": [
      "1723065 26\n"
     ]
    }
   ],
   "source": [
    "print(vehicle_listings.count(),len(vehicle_listings.columns))"
   ]
  },
  {
   "cell_type": "code",
   "execution_count": 278,
   "metadata": {},
   "outputs": [
    {
     "data": {
      "text/html": [
       "<div>\n",
       "<style scoped>\n",
       "    .dataframe tbody tr th:only-of-type {\n",
       "        vertical-align: middle;\n",
       "    }\n",
       "\n",
       "    .dataframe tbody tr th {\n",
       "        vertical-align: top;\n",
       "    }\n",
       "\n",
       "    .dataframe thead th {\n",
       "        text-align: right;\n",
       "    }\n",
       "</style>\n",
       "<table border=\"1\" class=\"dataframe\">\n",
       "  <thead>\n",
       "    <tr style=\"text-align: right;\">\n",
       "      <th></th>\n",
       "      <th>url</th>\n",
       "      <th>city</th>\n",
       "      <th>price</th>\n",
       "      <th>year</th>\n",
       "      <th>manufacturer</th>\n",
       "      <th>make</th>\n",
       "      <th>condition</th>\n",
       "      <th>cylinders</th>\n",
       "      <th>fuel</th>\n",
       "      <th>odometer</th>\n",
       "      <th>...</th>\n",
       "      <th>paint_color</th>\n",
       "      <th>image_url</th>\n",
       "      <th>lat</th>\n",
       "      <th>long</th>\n",
       "      <th>county_fips</th>\n",
       "      <th>county_name</th>\n",
       "      <th>state_fips</th>\n",
       "      <th>state_code</th>\n",
       "      <th>state_name</th>\n",
       "      <th>weather</th>\n",
       "    </tr>\n",
       "  </thead>\n",
       "  <tbody>\n",
       "    <tr>\n",
       "      <th>22</th>\n",
       "      <td>https://cenla.craigslist.org/cto/d/2010-chevy-...</td>\n",
       "      <td>cenla</td>\n",
       "      <td>15500</td>\n",
       "      <td>2010</td>\n",
       "      <td>chevrolet</td>\n",
       "      <td>silverado</td>\n",
       "      <td>excellent</td>\n",
       "      <td>8 cylinders</td>\n",
       "      <td>gas</td>\n",
       "      <td>110</td>\n",
       "      <td>...</td>\n",
       "      <td>red</td>\n",
       "      <td>https://images.craigslist.org/00c0c_kkKs8bMR8s...</td>\n",
       "      <td>33.9056</td>\n",
       "      <td>-118.0818</td>\n",
       "      <td>6037</td>\n",
       "      <td>Los Angeles</td>\n",
       "      <td>6</td>\n",
       "      <td>CA</td>\n",
       "      <td>California</td>\n",
       "      <td>59</td>\n",
       "    </tr>\n",
       "    <tr>\n",
       "      <th>52</th>\n",
       "      <td>https://medford.craigslist.org/ctd/d/2014-hond...</td>\n",
       "      <td>medford</td>\n",
       "      <td>15499</td>\n",
       "      <td>2014</td>\n",
       "      <td>honda</td>\n",
       "      <td>accord lx</td>\n",
       "      <td>None</td>\n",
       "      <td>4 cylinders</td>\n",
       "      <td>gas</td>\n",
       "      <td>42000</td>\n",
       "      <td>...</td>\n",
       "      <td>red</td>\n",
       "      <td>https://images.craigslist.org/01717_cufcxibN3K...</td>\n",
       "      <td>42.457435</td>\n",
       "      <td>-123.320814</td>\n",
       "      <td>41033</td>\n",
       "      <td>Josephine</td>\n",
       "      <td>41</td>\n",
       "      <td>OR</td>\n",
       "      <td>Oregon</td>\n",
       "      <td>50</td>\n",
       "    </tr>\n",
       "    <tr>\n",
       "      <th>138</th>\n",
       "      <td>https://albuquerque.craigslist.org/cto/d/1978-...</td>\n",
       "      <td>albuquerque</td>\n",
       "      <td>11400</td>\n",
       "      <td>1978</td>\n",
       "      <td>cadillac</td>\n",
       "      <td>eldorado biarritz</td>\n",
       "      <td>good</td>\n",
       "      <td>None</td>\n",
       "      <td>gas</td>\n",
       "      <td>None</td>\n",
       "      <td>...</td>\n",
       "      <td>None</td>\n",
       "      <td>https://images.craigslist.org/00606_716h8sG58M...</td>\n",
       "      <td>36.7412</td>\n",
       "      <td>-108.1797</td>\n",
       "      <td>35045</td>\n",
       "      <td>San Juan</td>\n",
       "      <td>35</td>\n",
       "      <td>NM</td>\n",
       "      <td>New Mexico</td>\n",
       "      <td>45</td>\n",
       "    </tr>\n",
       "    <tr>\n",
       "      <th>64</th>\n",
       "      <td>https://modesto.craigslist.org/ctd/d/2015-ford...</td>\n",
       "      <td>modesto</td>\n",
       "      <td>46495</td>\n",
       "      <td>2015</td>\n",
       "      <td>ford</td>\n",
       "      <td>f-350sd</td>\n",
       "      <td>None</td>\n",
       "      <td>None</td>\n",
       "      <td>diesel</td>\n",
       "      <td>65987</td>\n",
       "      <td>...</td>\n",
       "      <td>None</td>\n",
       "      <td>https://images.craigslist.org/00H0H_d4ITLrL2VJ...</td>\n",
       "      <td>34.070311</td>\n",
       "      <td>-117.446303</td>\n",
       "      <td>6071</td>\n",
       "      <td>San Bernardino</td>\n",
       "      <td>6</td>\n",
       "      <td>CA</td>\n",
       "      <td>California</td>\n",
       "      <td>59</td>\n",
       "    </tr>\n",
       "    <tr>\n",
       "      <th>72</th>\n",
       "      <td>https://grandrapids.craigslist.org/cto/d/2006-...</td>\n",
       "      <td>grandrapids</td>\n",
       "      <td>1800</td>\n",
       "      <td>2006</td>\n",
       "      <td>ford</td>\n",
       "      <td>focus</td>\n",
       "      <td>good</td>\n",
       "      <td>6 cylinders</td>\n",
       "      <td>gas</td>\n",
       "      <td>152000</td>\n",
       "      <td>...</td>\n",
       "      <td>None</td>\n",
       "      <td>https://images.craigslist.org/00U0U_dCMaMU3GTO...</td>\n",
       "      <td>42.8697</td>\n",
       "      <td>-85.6628</td>\n",
       "      <td>26081</td>\n",
       "      <td>Kent</td>\n",
       "      <td>26</td>\n",
       "      <td>MI</td>\n",
       "      <td>Michigan</td>\n",
       "      <td>45</td>\n",
       "    </tr>\n",
       "    <tr>\n",
       "      <th>150</th>\n",
       "      <td>https://eastnc.craigslist.org/ctd/d/2011-cadil...</td>\n",
       "      <td>eastnc</td>\n",
       "      <td>16378</td>\n",
       "      <td>2011</td>\n",
       "      <td>cadillac</td>\n",
       "      <td>cts</td>\n",
       "      <td>excellent</td>\n",
       "      <td>6 cylinders</td>\n",
       "      <td>gas</td>\n",
       "      <td>47306</td>\n",
       "      <td>...</td>\n",
       "      <td>white</td>\n",
       "      <td>https://images.craigslist.org/00l0l_3yKo1zfjQe...</td>\n",
       "      <td>35.77523</td>\n",
       "      <td>-77.99926</td>\n",
       "      <td>37195</td>\n",
       "      <td>Wilson</td>\n",
       "      <td>37</td>\n",
       "      <td>NC</td>\n",
       "      <td>North Carolina</td>\n",
       "      <td>56</td>\n",
       "    </tr>\n",
       "    <tr>\n",
       "      <th>45</th>\n",
       "      <td>https://yuma.craigslist.org/cto/d/2006-cls-500...</td>\n",
       "      <td>yuma</td>\n",
       "      <td>13200</td>\n",
       "      <td>2006</td>\n",
       "      <td>mercedes-benz</td>\n",
       "      <td>cls 500</td>\n",
       "      <td>like new</td>\n",
       "      <td>8 cylinders</td>\n",
       "      <td>gas</td>\n",
       "      <td>62000</td>\n",
       "      <td>...</td>\n",
       "      <td>black</td>\n",
       "      <td>https://images.craigslist.org/00G0G_iYExmCfqrt...</td>\n",
       "      <td>32.7093</td>\n",
       "      <td>-114.4905</td>\n",
       "      <td>4027</td>\n",
       "      <td>Yuma</td>\n",
       "      <td>4</td>\n",
       "      <td>AZ</td>\n",
       "      <td>Arizona</td>\n",
       "      <td>71</td>\n",
       "    </tr>\n",
       "    <tr>\n",
       "      <th>147</th>\n",
       "      <td>https://milwaukee.craigslist.org/cto/d/chevy-t...</td>\n",
       "      <td>milwaukee</td>\n",
       "      <td>2500</td>\n",
       "      <td>2001</td>\n",
       "      <td>chevrolet</td>\n",
       "      <td>tahoe</td>\n",
       "      <td>None</td>\n",
       "      <td>None</td>\n",
       "      <td>gas</td>\n",
       "      <td>154000</td>\n",
       "      <td>...</td>\n",
       "      <td>None</td>\n",
       "      <td>https://images.craigslist.org/00707_dfjbctDfmg...</td>\n",
       "      <td>43.015868</td>\n",
       "      <td>-88.006429</td>\n",
       "      <td>55079</td>\n",
       "      <td>Milwaukee</td>\n",
       "      <td>55</td>\n",
       "      <td>WI</td>\n",
       "      <td>Wisconsin</td>\n",
       "      <td>45</td>\n",
       "    </tr>\n",
       "    <tr>\n",
       "      <th>11</th>\n",
       "      <td>https://victoria.craigslist.ca/ctd/d/2018-toyo...</td>\n",
       "      <td>victoria</td>\n",
       "      <td>45999</td>\n",
       "      <td>2018</td>\n",
       "      <td>toyota</td>\n",
       "      <td>tacoma</td>\n",
       "      <td>like new</td>\n",
       "      <td>None</td>\n",
       "      <td>gas</td>\n",
       "      <td>1173</td>\n",
       "      <td>...</td>\n",
       "      <td>None</td>\n",
       "      <td>https://images.craigslist.org/01414_je921YcZqG...</td>\n",
       "      <td>49.188382</td>\n",
       "      <td>-123.136168</td>\n",
       "      <td>None</td>\n",
       "      <td>None</td>\n",
       "      <td>None</td>\n",
       "      <td>None</td>\n",
       "      <td>FAILED</td>\n",
       "      <td>None</td>\n",
       "    </tr>\n",
       "    <tr>\n",
       "      <th>111</th>\n",
       "      <td>https://lubbock.craigslist.org/cto/d/2013-gmc-...</td>\n",
       "      <td>lubbock</td>\n",
       "      <td>15700</td>\n",
       "      <td>2013</td>\n",
       "      <td>gmc</td>\n",
       "      <td>terrian</td>\n",
       "      <td>None</td>\n",
       "      <td>None</td>\n",
       "      <td>gas</td>\n",
       "      <td>100000</td>\n",
       "      <td>...</td>\n",
       "      <td>None</td>\n",
       "      <td>https://images.craigslist.org/00P0P_fOecvaD7gg...</td>\n",
       "      <td>33.563165</td>\n",
       "      <td>-102.079259</td>\n",
       "      <td>48303</td>\n",
       "      <td>Lubbock</td>\n",
       "      <td>48</td>\n",
       "      <td>TX</td>\n",
       "      <td>Texas</td>\n",
       "      <td>67</td>\n",
       "    </tr>\n",
       "  </tbody>\n",
       "</table>\n",
       "<p>10 rows × 26 columns</p>\n",
       "</div>"
      ],
      "text/plain": [
       "                                                   url         city  price  \\\n",
       "22   https://cenla.craigslist.org/cto/d/2010-chevy-...        cenla  15500   \n",
       "52   https://medford.craigslist.org/ctd/d/2014-hond...      medford  15499   \n",
       "138  https://albuquerque.craigslist.org/cto/d/1978-...  albuquerque  11400   \n",
       "64   https://modesto.craigslist.org/ctd/d/2015-ford...      modesto  46495   \n",
       "72   https://grandrapids.craigslist.org/cto/d/2006-...  grandrapids   1800   \n",
       "150  https://eastnc.craigslist.org/ctd/d/2011-cadil...       eastnc  16378   \n",
       "45   https://yuma.craigslist.org/cto/d/2006-cls-500...         yuma  13200   \n",
       "147  https://milwaukee.craigslist.org/cto/d/chevy-t...    milwaukee   2500   \n",
       "11   https://victoria.craigslist.ca/ctd/d/2018-toyo...     victoria  45999   \n",
       "111  https://lubbock.craigslist.org/cto/d/2013-gmc-...      lubbock  15700   \n",
       "\n",
       "     year   manufacturer               make  condition    cylinders    fuel  \\\n",
       "22   2010      chevrolet          silverado  excellent  8 cylinders     gas   \n",
       "52   2014          honda          accord lx       None  4 cylinders     gas   \n",
       "138  1978       cadillac  eldorado biarritz       good         None     gas   \n",
       "64   2015           ford            f-350sd       None         None  diesel   \n",
       "72   2006           ford              focus       good  6 cylinders     gas   \n",
       "150  2011       cadillac                cts  excellent  6 cylinders     gas   \n",
       "45   2006  mercedes-benz            cls 500   like new  8 cylinders     gas   \n",
       "147  2001      chevrolet              tahoe       None         None     gas   \n",
       "11   2018         toyota             tacoma   like new         None     gas   \n",
       "111  2013            gmc            terrian       None         None     gas   \n",
       "\n",
       "    odometer  ... paint_color  \\\n",
       "22       110  ...         red   \n",
       "52     42000  ...         red   \n",
       "138     None  ...        None   \n",
       "64     65987  ...        None   \n",
       "72    152000  ...        None   \n",
       "150    47306  ...       white   \n",
       "45     62000  ...       black   \n",
       "147   154000  ...        None   \n",
       "11      1173  ...        None   \n",
       "111   100000  ...        None   \n",
       "\n",
       "                                             image_url        lat  \\\n",
       "22   https://images.craigslist.org/00c0c_kkKs8bMR8s...    33.9056   \n",
       "52   https://images.craigslist.org/01717_cufcxibN3K...  42.457435   \n",
       "138  https://images.craigslist.org/00606_716h8sG58M...    36.7412   \n",
       "64   https://images.craigslist.org/00H0H_d4ITLrL2VJ...  34.070311   \n",
       "72   https://images.craigslist.org/00U0U_dCMaMU3GTO...    42.8697   \n",
       "150  https://images.craigslist.org/00l0l_3yKo1zfjQe...   35.77523   \n",
       "45   https://images.craigslist.org/00G0G_iYExmCfqrt...    32.7093   \n",
       "147  https://images.craigslist.org/00707_dfjbctDfmg...  43.015868   \n",
       "11   https://images.craigslist.org/01414_je921YcZqG...  49.188382   \n",
       "111  https://images.craigslist.org/00P0P_fOecvaD7gg...  33.563165   \n",
       "\n",
       "            long county_fips     county_name state_fips state_code  \\\n",
       "22     -118.0818        6037     Los Angeles          6         CA   \n",
       "52   -123.320814       41033       Josephine         41         OR   \n",
       "138    -108.1797       35045        San Juan         35         NM   \n",
       "64   -117.446303        6071  San Bernardino          6         CA   \n",
       "72      -85.6628       26081            Kent         26         MI   \n",
       "150    -77.99926       37195          Wilson         37         NC   \n",
       "45     -114.4905        4027            Yuma          4         AZ   \n",
       "147   -88.006429       55079       Milwaukee         55         WI   \n",
       "11   -123.136168        None            None       None       None   \n",
       "111  -102.079259       48303         Lubbock         48         TX   \n",
       "\n",
       "         state_name weather  \n",
       "22       California      59  \n",
       "52           Oregon      50  \n",
       "138      New Mexico      45  \n",
       "64       California      59  \n",
       "72         Michigan      45  \n",
       "150  North Carolina      56  \n",
       "45          Arizona      71  \n",
       "147       Wisconsin      45  \n",
       "11           FAILED    None  \n",
       "111           Texas      67  \n",
       "\n",
       "[10 rows x 26 columns]"
      ]
     },
     "execution_count": 278,
     "metadata": {},
     "output_type": "execute_result"
    }
   ],
   "source": [
    "vehicle_listings.sample(False,0.0001,10).toPandas().sample(10)"
   ]
  },
  {
   "cell_type": "code",
   "execution_count": null,
   "metadata": {},
   "outputs": [],
   "source": []
  },
  {
   "cell_type": "code",
   "execution_count": 162,
   "metadata": {
    "scrolled": true
   },
   "outputs": [
    {
     "name": "stdout",
     "output_type": "stream",
     "text": [
      "+-------+----------+------------------+------------------+------------------+------------------+\n",
      "|summary|      city|        state_code|              year|               lat|              long|\n",
      "+-------+----------+------------------+------------------+------------------+------------------+\n",
      "|  count|   1723065|           1664232|           1716750|           1723053|           1723063|\n",
      "|   mean|      null|              28.4|2004.8408405417213|38.781324831980314|-93.60776401924767|\n",
      "| stddev|      null|11.749231653365442|  12.0877162743775| 5.983397427783298| 67.11417140992036|\n",
      "|    min|abbotsford|                17|             302.0|          -122.861|           -1000.0|\n",
      "|    max|zanesville|                WY|            2019.0|              90.0|           51177.0|\n",
      "+-------+----------+------------------+------------------+------------------+------------------+\n",
      "\n",
      "+-------+------------+--------------------+--------------------+---------+------------------+\n",
      "|summary|manufacturer|                make|               price|condition|          odometer|\n",
      "+-------+------------+--------------------+--------------------+---------+------------------+\n",
      "|  count|     1586651|             1653476|             1723065|  1022285|           1158996|\n",
      "|   mean|        null|2.0412982685270864E8|  107554.03912156535|     null|113638.96127165236|\n",
      "| stddev|        null|5.219260906638930...|1.0044387431462636E7|     null| 136861.0463338454|\n",
      "|    min|       acura|        ! ton pickup|                 1.0|     4x4\"|               0.0|\n",
      "|    max|          vw|                   ∞|        2.06862669E9|  salvage|             1.0E7|\n",
      "+-------+------------+--------------------+--------------------+---------+------------------+\n",
      "\n",
      "+-------+------------+------------------+-----------------+-----------------+-----------+-----------------+\n",
      "|summary|   cylinders|              fuel|     transmission|            drive|       size|             type|\n",
      "+-------+------------+------------------+-----------------+-----------------+-----------+-----------------+\n",
      "|  count|     1031768|           1712702|          1714034|          1061178|     599110|          1020129|\n",
      "|   mean|        null|120491.66666666667|             null|             null|       null|         34.80225|\n",
      "| stddev|        null|44637.820025922716|             null|             null|       null|6.530767520360834|\n",
      "|    min|10 cylinders|            135000|1G2WP52K7XF291710|1GBJK34G05E297566|        4wd|          30.1843|\n",
      "|    max|  parts only|             other|          rebuilt|              rwd|sub-compact|            wagon|\n",
      "+-------+------------+------------------+-----------------+-----------------+-----------+-----------------+\n",
      "\n",
      "+-------+--------------------+-----------------+--------------------+------------------+------------------+\n",
      "|summary|                 url|     title_status|                 vin|       paint_color|         image_url|\n",
      "+-------+--------------------+-----------------+--------------------+------------------+------------------+\n",
      "|  count|             1723065|          1720508|              605345|           1027421|           1723060|\n",
      "|   mean|                null|69335.88888888889|2.329898077722364E15|         -92.24275|      5156.2716049|\n",
      "| stddev|                null|40424.25247127164|1.221077550015922...|0.2730139282161253|10912.512283606751|\n",
      "|    min|https://abbotsfor...|           166730|                 !!!|          -92.0497|             22055|\n",
      "|    max|https://zanesvill...|          salvage|                   ∞|            yellow|             white|\n",
      "+-------+--------------------+-----------------+--------------------+------------------+------------------+\n",
      "\n",
      "+-------+------------------+------------------+-----------------+------------------+------------------+\n",
      "|summary|       county_fips|        state_fips|          weather|        state_code|        state_name|\n",
      "+-------+------------------+------------------+-----------------+------------------+------------------+\n",
      "|  count|           1664224|           1664216|          1663619|           1664232|           1723061|\n",
      "|   mean|28430.361441091118| 28.34413681877833| 53.7870443893704|              28.4|54.833333333333336|\n",
      "| stddev|16054.354505785235|16.032296397585032|7.799403370681863|11.749231653365442|2.7141603981096374|\n",
      "|    min|          -117.381|               1.0|             29.0|                17|                51|\n",
      "|    max|           56045.0|              67.0|             79.0|                WY|           Wyoming|\n",
      "+-------+------------------+------------------+-----------------+------------------+------------------+\n",
      "\n"
     ]
    }
   ],
   "source": [
    "vehicle_listings.select(\"city\",\"state_code\",\"year\",\"lat\",\"long\").describe().show()\n",
    "vehicle_listings.select(\"manufacturer\",\"make\",\"price\",\"condition\",\"odometer\").describe().show()\n",
    "vehicle_listings.select(\"cylinders\",\"fuel\",\"transmission\",\"drive\",\"size\",\"type\").describe().show()\n",
    "vehicle_listings.select(\"url\",\"title_status\",\"vin\",\"paint_color\",\"image_url\").describe().show()\n",
    "vehicle_listings.select(\"county_fips\",\"state_fips\",\"weather\",\"state_code\",\"state_name\").describe().show()"
   ]
  },
  {
   "cell_type": "markdown",
   "metadata": {},
   "source": [
    "Generally, the `.describe()` or `.explain()` method is a good way to start exploring a dataset. For this dataset, there are too many columns, some very unclean, and it is hard to decipher much from the above results. <br>"
   ]
  },
  {
   "cell_type": "markdown",
   "metadata": {},
   "source": [
    "## Cleaning Data"
   ]
  },
  {
   "cell_type": "markdown",
   "metadata": {},
   "source": [
    "Cleaning is essential during the Extract Stage of the ETL pipeline. We want to be able to cache a cleaned dataset that can be used for multiple pipelines later on, without having to perform basic cleaning again.<br>"
   ]
  },
  {
   "cell_type": "markdown",
   "metadata": {},
   "source": [
    "### Cleaning Checkpoints\n",
    "\n",
    "+  General\n",
    "    +  Drop Columns\n",
    "    +  Drop Rows (Null Price)\n",
    "+  Continuous\n",
    "    +  String to Float\n",
    "    +  Apply Reasonable Ranges\n",
    "        +  Kept Odometer Null Values\n",
    "    +  \n",
    "+  Ordinal\n",
    "    +  Narrow down relevant options\n",
    "    +  Remove errors in columns\n",
    "    +  \n",
    "+  Categorical\n",
    "    +  State_code + State_name\n",
    "    +  \n",
    "    +  \n",
    "+  General\n",
    "    +  Remove Duplicates\n",
    "    +  \n",
    "    +  \n",
    "    +  "
   ]
  },
  {
   "cell_type": "markdown",
   "metadata": {},
   "source": [
    "#### Drop Columns\n",
    "\n",
    "Some Columns are redundant, we can remove them before moving forward.<br>"
   ]
  },
  {
   "cell_type": "code",
   "execution_count": 216,
   "metadata": {},
   "outputs": [
    {
     "name": "stdout",
     "output_type": "stream",
     "text": [
      "Remaining columns- ['city', 'price', 'year', 'manufacturer', 'make', 'condition', 'cylinders', 'fuel', 'odometer', 'title_status', 'transmission', 'drive', 'size', 'type', 'county_name', 'state_code', 'state_name']\n"
     ]
    }
   ],
   "source": [
    "vehicle_listings_clean=vehicle_listings.drop('url','vin', 'paint_color', 'image_url', \\\n",
    "                                       'lat', 'long', 'county_fips', 'state_fips','weather')\n",
    "print(\"Remaining columns-\",vehicle_listings_clean.columns)"
   ]
  },
  {
   "cell_type": "markdown",
   "metadata": {},
   "source": [
    "'lat' and 'long' provide no more useful information than ('city','county_name', 'state_code', 'state_name'), therefore are not needed.<br>\n",
    "The other columns are not helpful to the analysis."
   ]
  },
  {
   "cell_type": "markdown",
   "metadata": {},
   "source": [
    "The attribute characteristics are varied, we have three types of features available in our data -\n",
    "**Continuous**, **Ordinal**, **Categorical**<br>"
   ]
  },
  {
   "cell_type": "markdown",
   "metadata": {},
   "source": [
    "The target variable of this project is **Price**. Therefore, any records where price is null would be irrelevant. Check to see if the dataset contains null prices."
   ]
  },
  {
   "cell_type": "code",
   "execution_count": 318,
   "metadata": {},
   "outputs": [
    {
     "data": {
      "text/plain": [
       "0"
      ]
     },
     "execution_count": 318,
     "metadata": {},
     "output_type": "execute_result"
    }
   ],
   "source": [
    "vehicle_listings_clean.filter(vehicle_listings.price.isNull()).count()"
   ]
  },
  {
   "cell_type": "markdown",
   "metadata": {},
   "source": [
    "#### Obtaining Continuous Data Columns"
   ]
  },
  {
   "cell_type": "markdown",
   "metadata": {},
   "source": [
    "Convert *numerical feature types* from string to float to obtain **Continuous** data columns."
   ]
  },
  {
   "cell_type": "code",
   "execution_count": 217,
   "metadata": {},
   "outputs": [],
   "source": [
    "from functools import reduce\n",
    "\n",
    "cols=[\"price\",\"year\",\"odometer\",]\n",
    "\n",
    "vehicle_listings_clean = (reduce(\n",
    "            lambda memo_df, col_name: memo_df.withColumn(col_name, vehicle_listings[col_name].cast(\"float\")),\n",
    "            cols,\n",
    "            vehicle_listings_clean))"
   ]
  },
  {
   "cell_type": "code",
   "execution_count": 214,
   "metadata": {},
   "outputs": [
    {
     "name": "stdout",
     "output_type": "stream",
     "text": [
      "root\n",
      " |-- city: string (nullable = true)\n",
      " |-- price: float (nullable = true)\n",
      " |-- year: float (nullable = true)\n",
      " |-- manufacturer: string (nullable = true)\n",
      " |-- make: string (nullable = true)\n",
      " |-- condition: string (nullable = true)\n",
      " |-- cylinders: string (nullable = true)\n",
      " |-- fuel: string (nullable = true)\n",
      " |-- odometer: float (nullable = true)\n",
      " |-- title_status: string (nullable = true)\n",
      " |-- transmission: string (nullable = true)\n",
      " |-- drive: string (nullable = true)\n",
      " |-- size: string (nullable = true)\n",
      " |-- type: string (nullable = true)\n",
      " |-- county_name: string (nullable = true)\n",
      " |-- state_code: string (nullable = true)\n",
      " |-- state_name: string (nullable = true)\n",
      "\n",
      "Data Size- 1723065 * 17\n"
     ]
    }
   ],
   "source": [
    "vehicle_listings_clean.printSchema()\n",
    "print(\"Data Size-\",vehicle_listings_clean.count(),\"*\",len(vehicle_listings_clean.columns))"
   ]
  },
  {
   "cell_type": "code",
   "execution_count": 296,
   "metadata": {},
   "outputs": [],
   "source": [
    "basics=[\"price\",\"manufacturer\",\"make\",\"city\",\"odometer\",\"year\"]\n",
    "#Smaller subset to take quick look at records"
   ]
  },
  {
   "cell_type": "markdown",
   "metadata": {},
   "source": [
    "**Thoughts on potential data types -** <br>\n",
    "Categorical - city, manufacturer, make, county_name, state_code, state_name <br>\n",
    "Ordinal - condition, cylinders, fuel, title_status, transmission, drive, size, type <br>\n",
    "Continuous - price, year, odometer <br>"
   ]
  },
  {
   "cell_type": "markdown",
   "metadata": {},
   "source": [
    "#### Applying a Reasonable Range on Continuous Types"
   ]
  },
  {
   "cell_type": "markdown",
   "metadata": {},
   "source": [
    "Website postings that advertise items for sale often manipulate search algorithms to get more hits. To ensure that our working dataset is within reasonable boundaries, we apply restrictions on the *Continuous* data columns."
   ]
  },
  {
   "cell_type": "code",
   "execution_count": 345,
   "metadata": {},
   "outputs": [
    {
     "name": "stdout",
     "output_type": "stream",
     "text": [
      "Too new: 2939\n",
      "Too old: 2416\n",
      "Too expensive: 916\n",
      "Too cheap: 23194\n",
      "Too many miles: 29118\n",
      "Too few miles: 11958\n"
     ]
    }
   ],
   "source": [
    "print(\"Too new: %d\" %vehicle_listings_clean.where(\"year >= 2019\").count())\n",
    "print(\"Too old: %d\" %vehicle_listings_clean.where(\"year < 1930\").count())\n",
    "print(\"Too expensive: %d\" %vehicle_listings_clean.where(\"price > 300000\").count())\n",
    "print(\"Too cheap: %d\" %vehicle_listings_clean.where(\"price < 50\").count())\n",
    "print(\"Too many miles: %d\" %vehicle_listings_clean.where(\"odometer > 250000\").count())\n",
    "print(\"Too few miles: %d\" %vehicle_listings_clean.where(\"odometer < 50\").count())\n"
   ]
  },
  {
   "cell_type": "markdown",
   "metadata": {},
   "source": [
    "From the above exploration, it seems that too many records would be removed under \"Too Cheap\". "
   ]
  },
  {
   "cell_type": "code",
   "execution_count": 303,
   "metadata": {},
   "outputs": [
    {
     "name": "stdout",
     "output_type": "stream",
     "text": [
      "+-----+------------+--------------------+-----------+--------+------+\n",
      "|price|manufacturer|                make|       city|odometer|  year|\n",
      "+-----+------------+--------------------+-----------+--------+------+\n",
      "|  8.0|      toyota|            4 runner|   valdosta|200000.0|1994.0|\n",
      "|  1.0|       dodge|         charger r/t|     mobile|    20.0|2014.0|\n",
      "|  1.0|        null|                  ..|     tucson|    null|1997.0|\n",
      "| 10.0|   chevrolet|                null|    medford|    null|1933.0|\n",
      "| 16.0|       chevy|                nova|   monterey|    null|1962.0|\n",
      "|  5.0|        ford|explorer eddie bauer|goldcountry|    null|2002.0|\n",
      "| 30.0|        ford|           freestyle|   stockton|    null|2007.0|\n",
      "|  1.0|         kia|         sorento awd|westernmass|    null|2004.0|\n",
      "|  1.0|   chevrolet|                null| kansascity| 34000.0|1984.0|\n",
      "| 30.0|        null|     Hello Kitty car|  nashville|    null|2015.0|\n",
      "|  1.0|       honda|               pilot|    orlando| 67727.0|2015.0|\n",
      "|  7.0|        null|           All makes|    mcallen|    null|2019.0|\n",
      "|  1.0|        null|                 any|     elpaso|    null|1967.0|\n",
      "|  1.0|    cadillac|                 sts|   danville|180000.0|2005.0|\n",
      "|  1.0|        null|Guaranteed  Finan...| janesville|    null|2009.0|\n",
      "|  1.0|        jeep|                cj-7|jerseyshore|    null|1980.0|\n",
      "|  1.0|   chevrolet|                null|  desmoines|    null|1962.0|\n",
      "|  1.0|     hyundai|             tiburon|     ithaca|    null|2003.0|\n",
      "| 12.0|   chevrolet|      silverado 1500| binghamton|    null|2013.0|\n",
      "|  1.0|         bmw|                745i|    buffalo|    null|2002.0|\n",
      "+-----+------------+--------------------+-----------+--------+------+\n",
      "\n"
     ]
    }
   ],
   "source": [
    "vehicle_listings_clean.sample(False,0.001,100).where(\"price<50\").select(basics).show()"
   ]
  },
  {
   "cell_type": "markdown",
   "metadata": {},
   "source": [
    "Interestingly, these randomly obtained results show us that \"price<50\" is not very useful to the study. <br>\n"
   ]
  },
  {
   "cell_type": "code",
   "execution_count": 322,
   "metadata": {},
   "outputs": [
    {
     "name": "stdout",
     "output_type": "stream",
     "text": [
      "Null odo -  564058\n",
      "Null price -  0\n",
      "Null year -  6315\n"
     ]
    }
   ],
   "source": [
    "print(\"Null odo - \",vehicle_listings_clean.filter(vehicle_listings.odometer.isNull()).count())\n",
    "print(\"Null price - \",vehicle_listings_clean.filter(vehicle_listings.price.isNull()).count())\n",
    "print(\"Null year - \",vehicle_listings_clean.filter(vehicle_listings.year.isNull()).count())"
   ]
  },
  {
   "cell_type": "markdown",
   "metadata": {},
   "source": [
    "The Null counts shows us that a lot of listings have not reported Odometer values, perhaps to increase chances of selling a car. The question is, do we remove all these records altogether?<br>\n",
    "I would rather keep these records because the 50k+ rows will still provide useful information about other attributes.<br>\n",
    "Apply the restrictions to vehicle_listings_clean.<br>\n",
    "Note- The Spark environment allows me to use a direct SQL query to restrict odometer values. This is better suited because Pyspark Dataframes treat \"null\" values as false when evaluating the `.where()` function."
   ]
  },
  {
   "cell_type": "code",
   "execution_count": 346,
   "metadata": {
    "scrolled": true
   },
   "outputs": [
    {
     "name": "stdout",
     "output_type": "stream",
     "text": [
      "-----------------\n",
      "Original No. of Records -  1723065\n",
      "Within Reasonable Range -  1672853\n",
      "Data kept for analysis: 97 percent of the entire set\n",
      "-----------------\n"
     ]
    }
   ],
   "source": [
    "vehicle_listings_clean = vehicle_listings_clean.where(\"price>=50\" and \"price<=300000\") \\\n",
    "                    .where(\"year>=1930\" and \"year<2019\") \\\n",
    "                    #.where(\"odometer<=350000\")\n",
    "                    #.where(vehicle_listings_clean.odometer.isNull()) \\\n",
    "\n",
    "vehicle_listings_clean.registerTempTable(\"df_temp\")\n",
    "\n",
    "vehicle_listings_clean=spark.sql(\"SELECT * FROM df_temp WHERE (odometer>=50 AND odometer<=250000) OR (odometer IS NULL)\")\n",
    "\n",
    "'''\n",
    "Other implementation - \n",
    "Replace null with value such as \"not_reported\". \n",
    "Problem - Odometer then can't be treated as continuous data.\n",
    "'''\n",
    "\n",
    "print(\"-----------------\\nOriginal No. of Records - \",vehicle_listings.count())\n",
    "print(\"Within Reasonable Range - \",vehicle_listings_clean.count())\n",
    "print(\"Data kept for analysis: %d percent of the entire set\\n-----------------\" % (100 * vehicle_listings_clean.count() / vehicle_listings.count()))\n"
   ]
  },
  {
   "cell_type": "markdown",
   "metadata": {},
   "source": [
    "Although only 3 attributes, **price, year, odometer**, can be directly converted to numerical value (continuous), other attributes can be be transformed to fit the Categorical and Ordinal labels. The difference between categorical and ordinal values is that ordinal values have a clear and restricted ordering of types. For example, *'condition'* would be ordinal, ranging from excellent to poor."
   ]
  },
  {
   "cell_type": "code",
   "execution_count": 300,
   "metadata": {},
   "outputs": [
    {
     "name": "stdout",
     "output_type": "stream",
     "text": [
      "gas\n",
      "None\n",
      "automatic\n",
      "other\n",
      "diesel\n",
      "135000\n",
      "74180\n",
      "178000\n",
      "hybrid\n",
      "4 cylinders\n",
      "8 cylinders\n",
      "138000\n",
      "59770\n",
      "electric\n",
      "+-------+------------+--------------------+----------+--------+------+-----------+\n",
      "|  price|manufacturer|                make|      city|odometer|  year|       fuel|\n",
      "+-------+------------+--------------------+----------+--------+------+-----------+\n",
      "|20000.0|   chevrolet|\"silverado 3500 r...|florencesc|    null|2005.0|8 cylinders|\n",
      "| 8995.0|      toyota|  \"corolla \"\"s\"\" 44k|   spokane|    null|2011.0|4 cylinders|\n",
      "|29995.0|   chevrolet|\"silverado 3500hd...| baltimore|    null|2008.0|8 cylinders|\n",
      "| 8495.0|         gmc|\"sierra 3500 reg ...| baltimore|    null|2005.0|8 cylinders|\n",
      "|29995.0|   chevrolet|\"silverado 3500hd...| baltimore|    null|2008.0|8 cylinders|\n",
      "|29995.0|   chevrolet|\"silverado 3500hd...| baltimore|    null|2008.0|8 cylinders|\n",
      "| 2550.0|   chevrolet|\"silverado \"\"1500\"\" |      york|    null|2002.0|8 cylinders|\n",
      "| 8499.0|   chevrolet|\"c 3500 hd reg ca...|quadcities|    null|2002.0|8 cylinders|\n",
      "| 8499.0|   chevrolet|\"c 3500 hd reg ca...|   dubuque|    null|2002.0|8 cylinders|\n",
      "+-------+------------+--------------------+----------+--------+------+-----------+\n",
      "\n"
     ]
    }
   ],
   "source": [
    "for x in vehicle_listings_clean.select(\"fuel\").distinct().collect():\n",
    "    print(x[\"fuel\"])\n",
    "\n",
    "fuel_check=\"fuel = '8 cylinders' or fuel = '4 cylinders'\"\n",
    "vehicle_listings_clean.filter(fuel_check).select(basics+[\"fuel\"]).show()\n",
    "     \n",
    "\n",
    "#print(lambda x:x['fuel'], vehicle_listings_clean.select(\"fuel\").distinct().collect() )"
   ]
  },
  {
   "cell_type": "code",
   "execution_count": 183,
   "metadata": {},
   "outputs": [
    {
     "name": "stdout",
     "output_type": "stream",
     "text": [
      "+-------+------------------+\n",
      "|summary|             price|\n",
      "+-------+------------------+\n",
      "|  count|           1696759|\n",
      "|   mean|11112.575727607751|\n",
      "| stddev|11646.016747395095|\n",
      "|    min|             100.0|\n",
      "|    max|          250000.0|\n",
      "+-------+------------------+\n",
      "\n"
     ]
    },
    {
     "data": {
      "text/plain": [
       "(array([1.159652e+06, 3.674740e+05, 1.153540e+05, 3.669100e+04,\n",
       "        9.410000e+03, 3.891000e+03, 1.448000e+03, 1.023000e+03,\n",
       "        4.850000e+02, 5.810000e+02, 1.750000e+02, 1.840000e+02,\n",
       "        7.600000e+01, 1.170000e+02, 6.300000e+01, 5.500000e+01,\n",
       "        1.100000e+01, 2.700000e+01, 1.800000e+01, 2.400000e+01]),\n",
       " array([1.00000e+02, 1.25950e+04, 2.50900e+04, 3.75850e+04, 5.00800e+04,\n",
       "        6.25750e+04, 7.50700e+04, 8.75650e+04, 1.00060e+05, 1.12555e+05,\n",
       "        1.25050e+05, 1.37545e+05, 1.50040e+05, 1.62535e+05, 1.75030e+05,\n",
       "        1.87525e+05, 2.00020e+05, 2.12515e+05, 2.25010e+05, 2.37505e+05,\n",
       "        2.50000e+05]),\n",
       " <a list of 20 Patch objects>)"
      ]
     },
     "execution_count": 183,
     "metadata": {},
     "output_type": "execute_result"
    },
    {
     "data": {
      "image/png": "[encoded data removed]",
      "text/plain": [
       "<Figure size 432x288 with 1 Axes>"
      ]
     },
     "metadata": {
      "needs_background": "light"
     },
     "output_type": "display_data"
    }
   ],
   "source": [
    "vehicle_listings_clean.select(\"price\").describe().show()\n",
    "\n",
    "bins, counts = vehicle_listings_clean.select(\"price\").rdd.flatMap(lambda x: x).histogram(20)\n",
    "plt.hist(bins[:-1], bins=bins, weights=counts)"
   ]
  },
  {
   "cell_type": "markdown",
   "metadata": {},
   "source": [
    "## Caching Data on S3"
   ]
  },
  {
   "cell_type": "markdown",
   "metadata": {},
   "source": [
    "There are over 1.7 million records, and 17 columns. As we can observe from a `.describe()` exploration of various attributes, the dataset is too large to perform EDA (Exploratory Data Analysis) comfortably. <br>\n",
    "Right off the bat, some columns provide no useful data for the analysis and can be removed in the Extract pipeline. The final data from the Extract Stage should be as clean as possible without redundant data.<br>"
   ]
  },
  {
   "cell_type": "markdown",
   "metadata": {},
   "source": [
    "After being cleaned, we store the data at the end of the Extract Stage as a parquet file, so we can return to this file without having to run the Extract pipeline again. <br>\n",
    "With the new dataset, we sample the data and study it using a **Pandas** dataframe, in order to start the Transform stage of the pipeline with an *Exploratory Data Analysis*.<br>\n"
   ]
  },
  {
   "cell_type": "markdown",
   "metadata": {},
   "source": [
    "# Transform Data"
   ]
  },
  {
   "cell_type": "markdown",
   "metadata": {},
   "source": [
    "## Exploratory Data Analysis"
   ]
  },
  {
   "cell_type": "markdown",
   "metadata": {},
   "source": [
    "To start the *EDA*, focus on the target variable, i.e. the variable we want our model to be able to predict - **price** "
   ]
  },
  {
   "cell_type": "code",
   "execution_count": null,
   "metadata": {},
   "outputs": [],
   "source": [
    "vehicle_listings.where(\"price>100\").select(\"price\").describe().show()\n",
    "bins, counts = vehicle_listings.where(\"price>100\").rdd.flatMap(lambda x: x).histogram(20)\n",
    "plt.hist(bins[:-1], bins=bins, weights=counts)"
   ]
  },
  {
   "cell_type": "code",
   "execution_count": 160,
   "metadata": {},
   "outputs": [
    {
     "name": "stdout",
     "output_type": "stream",
     "text": [
      "+------------+\n",
      "|  max(price)|\n",
      "+------------+\n",
      "|2.06862669E9|\n",
      "+------------+\n",
      "\n"
     ]
    }
   ],
   "source": [
    "from pyspark.sql.functions import *\n",
    "vehicle_listings.agg(max(col(\"price\"))).show()\n",
    "                    "
   ]
  },
  {
   "cell_type": "markdown",
   "metadata": {},
   "source": [
    "To explore the dataset for analysis, create a **sample pandas dataframe** from the dataframe:"
   ]
  },
  {
   "cell_type": "code",
   "execution_count": 114,
   "metadata": {},
   "outputs": [
    {
     "data": {
      "text/html": [
       "<div>\n",
       "<style scoped>\n",
       "    .dataframe tbody tr th:only-of-type {\n",
       "        vertical-align: middle;\n",
       "    }\n",
       "\n",
       "    .dataframe tbody tr th {\n",
       "        vertical-align: top;\n",
       "    }\n",
       "\n",
       "    .dataframe thead th {\n",
       "        text-align: right;\n",
       "    }\n",
       "</style>\n",
       "<table border=\"1\" class=\"dataframe\">\n",
       "  <thead>\n",
       "    <tr style=\"text-align: right;\">\n",
       "      <th></th>\n",
       "      <th>url</th>\n",
       "      <th>city</th>\n",
       "      <th>price</th>\n",
       "      <th>year</th>\n",
       "      <th>manufacturer</th>\n",
       "      <th>make</th>\n",
       "      <th>condition</th>\n",
       "      <th>cylinders</th>\n",
       "      <th>fuel</th>\n",
       "      <th>odometer</th>\n",
       "      <th>...</th>\n",
       "      <th>paint_color</th>\n",
       "      <th>image_url</th>\n",
       "      <th>lat</th>\n",
       "      <th>long</th>\n",
       "      <th>county_fips</th>\n",
       "      <th>county_name</th>\n",
       "      <th>state_fips</th>\n",
       "      <th>state_code</th>\n",
       "      <th>state_name</th>\n",
       "      <th>weather</th>\n",
       "    </tr>\n",
       "  </thead>\n",
       "  <tbody>\n",
       "    <tr>\n",
       "      <th>count</th>\n",
       "      <td>1772</td>\n",
       "      <td>1772</td>\n",
       "      <td>1772.000000</td>\n",
       "      <td>1769.000000</td>\n",
       "      <td>1634</td>\n",
       "      <td>1707</td>\n",
       "      <td>1049</td>\n",
       "      <td>1064</td>\n",
       "      <td>1764</td>\n",
       "      <td>1.252000e+03</td>\n",
       "      <td>...</td>\n",
       "      <td>1079</td>\n",
       "      <td>1772</td>\n",
       "      <td>1772.000000</td>\n",
       "      <td>1772.000000</td>\n",
       "      <td>1685.000000</td>\n",
       "      <td>1685</td>\n",
       "      <td>1685.00000</td>\n",
       "      <td>1685</td>\n",
       "      <td>1772</td>\n",
       "      <td>1685.000000</td>\n",
       "    </tr>\n",
       "    <tr>\n",
       "      <th>unique</th>\n",
       "      <td>1772</td>\n",
       "      <td>364</td>\n",
       "      <td>NaN</td>\n",
       "      <td>NaN</td>\n",
       "      <td>39</td>\n",
       "      <td>963</td>\n",
       "      <td>6</td>\n",
       "      <td>7</td>\n",
       "      <td>5</td>\n",
       "      <td>NaN</td>\n",
       "      <td>...</td>\n",
       "      <td>12</td>\n",
       "      <td>1771</td>\n",
       "      <td>NaN</td>\n",
       "      <td>NaN</td>\n",
       "      <td>NaN</td>\n",
       "      <td>599</td>\n",
       "      <td>NaN</td>\n",
       "      <td>50</td>\n",
       "      <td>51</td>\n",
       "      <td>NaN</td>\n",
       "    </tr>\n",
       "    <tr>\n",
       "      <th>top</th>\n",
       "      <td>https://skagit.craigslist.org/cto/d/mechanics-...</td>\n",
       "      <td>whistler</td>\n",
       "      <td>NaN</td>\n",
       "      <td>NaN</td>\n",
       "      <td>ford</td>\n",
       "      <td>1500</td>\n",
       "      <td>excellent</td>\n",
       "      <td>6 cylinders</td>\n",
       "      <td>gas</td>\n",
       "      <td>NaN</td>\n",
       "      <td>...</td>\n",
       "      <td>white</td>\n",
       "      <td>https://images.craigslist.org/00r0r_9HsbmQi8aC...</td>\n",
       "      <td>NaN</td>\n",
       "      <td>NaN</td>\n",
       "      <td>NaN</td>\n",
       "      <td>Jefferson</td>\n",
       "      <td>NaN</td>\n",
       "      <td>CA</td>\n",
       "      <td>California</td>\n",
       "      <td>NaN</td>\n",
       "    </tr>\n",
       "    <tr>\n",
       "      <th>freq</th>\n",
       "      <td>1</td>\n",
       "      <td>16</td>\n",
       "      <td>NaN</td>\n",
       "      <td>NaN</td>\n",
       "      <td>291</td>\n",
       "      <td>34</td>\n",
       "      <td>469</td>\n",
       "      <td>380</td>\n",
       "      <td>1581</td>\n",
       "      <td>NaN</td>\n",
       "      <td>...</td>\n",
       "      <td>254</td>\n",
       "      <td>2</td>\n",
       "      <td>NaN</td>\n",
       "      <td>NaN</td>\n",
       "      <td>NaN</td>\n",
       "      <td>26</td>\n",
       "      <td>NaN</td>\n",
       "      <td>143</td>\n",
       "      <td>143</td>\n",
       "      <td>NaN</td>\n",
       "    </tr>\n",
       "    <tr>\n",
       "      <th>mean</th>\n",
       "      <td>NaN</td>\n",
       "      <td>NaN</td>\n",
       "      <td>11439.492188</td>\n",
       "      <td>2005.105713</td>\n",
       "      <td>NaN</td>\n",
       "      <td>NaN</td>\n",
       "      <td>NaN</td>\n",
       "      <td>NaN</td>\n",
       "      <td>NaN</td>\n",
       "      <td>1.096631e+05</td>\n",
       "      <td>...</td>\n",
       "      <td>NaN</td>\n",
       "      <td>NaN</td>\n",
       "      <td>38.828968</td>\n",
       "      <td>-93.589165</td>\n",
       "      <td>29143.734375</td>\n",
       "      <td>NaN</td>\n",
       "      <td>29.05460</td>\n",
       "      <td>NaN</td>\n",
       "      <td>NaN</td>\n",
       "      <td>54.055786</td>\n",
       "    </tr>\n",
       "    <tr>\n",
       "      <th>std</th>\n",
       "      <td>NaN</td>\n",
       "      <td>NaN</td>\n",
       "      <td>11828.822266</td>\n",
       "      <td>12.365001</td>\n",
       "      <td>NaN</td>\n",
       "      <td>NaN</td>\n",
       "      <td>NaN</td>\n",
       "      <td>NaN</td>\n",
       "      <td>NaN</td>\n",
       "      <td>1.025154e+05</td>\n",
       "      <td>...</td>\n",
       "      <td>NaN</td>\n",
       "      <td>NaN</td>\n",
       "      <td>6.043419</td>\n",
       "      <td>17.245035</td>\n",
       "      <td>16240.077148</td>\n",
       "      <td>NaN</td>\n",
       "      <td>16.21484</td>\n",
       "      <td>NaN</td>\n",
       "      <td>NaN</td>\n",
       "      <td>7.755190</td>\n",
       "    </tr>\n",
       "    <tr>\n",
       "      <th>min</th>\n",
       "      <td>NaN</td>\n",
       "      <td>NaN</td>\n",
       "      <td>1.000000</td>\n",
       "      <td>1921.000000</td>\n",
       "      <td>NaN</td>\n",
       "      <td>NaN</td>\n",
       "      <td>NaN</td>\n",
       "      <td>NaN</td>\n",
       "      <td>NaN</td>\n",
       "      <td>0.000000e+00</td>\n",
       "      <td>...</td>\n",
       "      <td>NaN</td>\n",
       "      <td>NaN</td>\n",
       "      <td>-27.369877</td>\n",
       "      <td>-176.791992</td>\n",
       "      <td>1003.000000</td>\n",
       "      <td>NaN</td>\n",
       "      <td>1.00000</td>\n",
       "      <td>NaN</td>\n",
       "      <td>NaN</td>\n",
       "      <td>29.000000</td>\n",
       "    </tr>\n",
       "    <tr>\n",
       "      <th>25%</th>\n",
       "      <td>NaN</td>\n",
       "      <td>NaN</td>\n",
       "      <td>3500.000000</td>\n",
       "      <td>2003.000000</td>\n",
       "      <td>NaN</td>\n",
       "      <td>NaN</td>\n",
       "      <td>NaN</td>\n",
       "      <td>NaN</td>\n",
       "      <td>NaN</td>\n",
       "      <td>5.249300e+04</td>\n",
       "      <td>...</td>\n",
       "      <td>NaN</td>\n",
       "      <td>NaN</td>\n",
       "      <td>34.951149</td>\n",
       "      <td>-105.004202</td>\n",
       "      <td>12131.000000</td>\n",
       "      <td>NaN</td>\n",
       "      <td>12.00000</td>\n",
       "      <td>NaN</td>\n",
       "      <td>NaN</td>\n",
       "      <td>48.000000</td>\n",
       "    </tr>\n",
       "    <tr>\n",
       "      <th>50%</th>\n",
       "      <td>NaN</td>\n",
       "      <td>NaN</td>\n",
       "      <td>7927.500000</td>\n",
       "      <td>2007.000000</td>\n",
       "      <td>NaN</td>\n",
       "      <td>NaN</td>\n",
       "      <td>NaN</td>\n",
       "      <td>NaN</td>\n",
       "      <td>NaN</td>\n",
       "      <td>1.028100e+05</td>\n",
       "      <td>...</td>\n",
       "      <td>NaN</td>\n",
       "      <td>NaN</td>\n",
       "      <td>39.504667</td>\n",
       "      <td>-88.256954</td>\n",
       "      <td>29510.000000</td>\n",
       "      <td>NaN</td>\n",
       "      <td>29.00000</td>\n",
       "      <td>NaN</td>\n",
       "      <td>NaN</td>\n",
       "      <td>53.000000</td>\n",
       "    </tr>\n",
       "    <tr>\n",
       "      <th>75%</th>\n",
       "      <td>NaN</td>\n",
       "      <td>NaN</td>\n",
       "      <td>15820.250000</td>\n",
       "      <td>2013.000000</td>\n",
       "      <td>NaN</td>\n",
       "      <td>NaN</td>\n",
       "      <td>NaN</td>\n",
       "      <td>NaN</td>\n",
       "      <td>NaN</td>\n",
       "      <td>1.484508e+05</td>\n",
       "      <td>...</td>\n",
       "      <td>NaN</td>\n",
       "      <td>NaN</td>\n",
       "      <td>42.623626</td>\n",
       "      <td>-80.855953</td>\n",
       "      <td>42071.000000</td>\n",
       "      <td>NaN</td>\n",
       "      <td>42.00000</td>\n",
       "      <td>NaN</td>\n",
       "      <td>NaN</td>\n",
       "      <td>59.000000</td>\n",
       "    </tr>\n",
       "    <tr>\n",
       "      <th>max</th>\n",
       "      <td>NaN</td>\n",
       "      <td>NaN</td>\n",
       "      <td>164997.000000</td>\n",
       "      <td>2019.000000</td>\n",
       "      <td>NaN</td>\n",
       "      <td>NaN</td>\n",
       "      <td>NaN</td>\n",
       "      <td>NaN</td>\n",
       "      <td>NaN</td>\n",
       "      <td>2.000109e+06</td>\n",
       "      <td>...</td>\n",
       "      <td>NaN</td>\n",
       "      <td>NaN</td>\n",
       "      <td>65.975906</td>\n",
       "      <td>0.632405</td>\n",
       "      <td>56025.000000</td>\n",
       "      <td>NaN</td>\n",
       "      <td>56.00000</td>\n",
       "      <td>NaN</td>\n",
       "      <td>NaN</td>\n",
       "      <td>79.000000</td>\n",
       "    </tr>\n",
       "  </tbody>\n",
       "</table>\n",
       "<p>11 rows × 26 columns</p>\n",
       "</div>"
      ],
      "text/plain": [
       "                                                      url      city  \\\n",
       "count                                                1772      1772   \n",
       "unique                                               1772       364   \n",
       "top     https://skagit.craigslist.org/cto/d/mechanics-...  whistler   \n",
       "freq                                                    1        16   \n",
       "mean                                                  NaN       NaN   \n",
       "std                                                   NaN       NaN   \n",
       "min                                                   NaN       NaN   \n",
       "25%                                                   NaN       NaN   \n",
       "50%                                                   NaN       NaN   \n",
       "75%                                                   NaN       NaN   \n",
       "max                                                   NaN       NaN   \n",
       "\n",
       "                price         year manufacturer  make  condition    cylinders  \\\n",
       "count     1772.000000  1769.000000         1634  1707       1049         1064   \n",
       "unique            NaN          NaN           39   963          6            7   \n",
       "top               NaN          NaN         ford  1500  excellent  6 cylinders   \n",
       "freq              NaN          NaN          291    34        469          380   \n",
       "mean     11439.492188  2005.105713          NaN   NaN        NaN          NaN   \n",
       "std      11828.822266    12.365001          NaN   NaN        NaN          NaN   \n",
       "min          1.000000  1921.000000          NaN   NaN        NaN          NaN   \n",
       "25%       3500.000000  2003.000000          NaN   NaN        NaN          NaN   \n",
       "50%       7927.500000  2007.000000          NaN   NaN        NaN          NaN   \n",
       "75%      15820.250000  2013.000000          NaN   NaN        NaN          NaN   \n",
       "max     164997.000000  2019.000000          NaN   NaN        NaN          NaN   \n",
       "\n",
       "        fuel      odometer  ... paint_color  \\\n",
       "count   1764  1.252000e+03  ...        1079   \n",
       "unique     5           NaN  ...          12   \n",
       "top      gas           NaN  ...       white   \n",
       "freq    1581           NaN  ...         254   \n",
       "mean     NaN  1.096631e+05  ...         NaN   \n",
       "std      NaN  1.025154e+05  ...         NaN   \n",
       "min      NaN  0.000000e+00  ...         NaN   \n",
       "25%      NaN  5.249300e+04  ...         NaN   \n",
       "50%      NaN  1.028100e+05  ...         NaN   \n",
       "75%      NaN  1.484508e+05  ...         NaN   \n",
       "max      NaN  2.000109e+06  ...         NaN   \n",
       "\n",
       "                                                image_url          lat  \\\n",
       "count                                                1772  1772.000000   \n",
       "unique                                               1771          NaN   \n",
       "top     https://images.craigslist.org/00r0r_9HsbmQi8aC...          NaN   \n",
       "freq                                                    2          NaN   \n",
       "mean                                                  NaN    38.828968   \n",
       "std                                                   NaN     6.043419   \n",
       "min                                                   NaN   -27.369877   \n",
       "25%                                                   NaN    34.951149   \n",
       "50%                                                   NaN    39.504667   \n",
       "75%                                                   NaN    42.623626   \n",
       "max                                                   NaN    65.975906   \n",
       "\n",
       "               long   county_fips county_name  state_fips state_code  \\\n",
       "count   1772.000000   1685.000000        1685  1685.00000       1685   \n",
       "unique          NaN           NaN         599         NaN         50   \n",
       "top             NaN           NaN   Jefferson         NaN         CA   \n",
       "freq            NaN           NaN          26         NaN        143   \n",
       "mean     -93.589165  29143.734375         NaN    29.05460        NaN   \n",
       "std       17.245035  16240.077148         NaN    16.21484        NaN   \n",
       "min     -176.791992   1003.000000         NaN     1.00000        NaN   \n",
       "25%     -105.004202  12131.000000         NaN    12.00000        NaN   \n",
       "50%      -88.256954  29510.000000         NaN    29.00000        NaN   \n",
       "75%      -80.855953  42071.000000         NaN    42.00000        NaN   \n",
       "max        0.632405  56025.000000         NaN    56.00000        NaN   \n",
       "\n",
       "        state_name      weather  \n",
       "count         1772  1685.000000  \n",
       "unique          51          NaN  \n",
       "top     California          NaN  \n",
       "freq           143          NaN  \n",
       "mean           NaN    54.055786  \n",
       "std            NaN     7.755190  \n",
       "min            NaN    29.000000  \n",
       "25%            NaN    48.000000  \n",
       "50%            NaN    53.000000  \n",
       "75%            NaN    59.000000  \n",
       "max            NaN    79.000000  \n",
       "\n",
       "[11 rows x 26 columns]"
      ]
     },
     "execution_count": 114,
     "metadata": {},
     "output_type": "execute_result"
    }
   ],
   "source": [
    "seed=63\n",
    "pd_vehicle_listings=vehicle_listings.sample(False,0.001,seed).toPandas()\n",
    "pd_vehicle_listings.describe(include='all')"
   ]
  },
  {
   "cell_type": "markdown",
   "metadata": {},
   "source": [
    "Pandas `dataframe.describe` gives us basic statistics but it is hard to determine how well distributed the sample is across the dataset. One way to figure this out is to observe the distibution of one column. As an example, let us use the *\"city\"* column for this."
   ]
  },
  {
   "cell_type": "markdown",
   "metadata": {},
   "source": [
    "*Random Sampling* like above works well for simple use cases. However, the car records are probably not evenly distributed. <br>\n",
    "Plotting a histogram of the frequencies of cities can help check that - "
   ]
  },
  {
   "cell_type": "code",
   "execution_count": 164,
   "metadata": {},
   "outputs": [
    {
     "data": {
      "text/plain": [
       "price          1.000000\n",
       "year           0.282384\n",
       "lat            0.102744\n",
       "state_fips    -0.005703\n",
       "county_fips   -0.005832\n",
       "weather       -0.025649\n",
       "long          -0.169885\n",
       "odometer      -0.283637\n",
       "Name: price, dtype: float64"
      ]
     },
     "execution_count": 164,
     "metadata": {},
     "output_type": "execute_result"
    }
   ],
   "source": [
    "pd_vehicle_listings.corr()[\"price\"].sort_values(ascending=False)"
   ]
  },
  {
   "cell_type": "code",
   "execution_count": null,
   "metadata": {},
   "outputs": [],
   "source": []
  }
 ],
 "metadata": {
  "kernelspec": {
   "display_name": "Python 3",
   "language": "python",
   "name": "python3"
  },
  "language_info": {
   "codemirror_mode": {
    "name": "ipython",
    "version": 3
   },
   "file_extension": ".py",
   "mimetype": "text/x-python",
   "name": "python",
   "nbconvert_exporter": "python",
   "pygments_lexer": "ipython3",
   "version": "3.7.3"
  }
 },
 "nbformat": 4,
 "nbformat_minor": 2
}
