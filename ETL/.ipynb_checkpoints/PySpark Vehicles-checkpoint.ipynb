{
 "cells": [
  {
   "cell_type": "markdown",
   "metadata": {},
   "source": [
    "# Problem Definition\n",
    "#### How to determine the *price* of a used car?"
   ]
  },
  {
   "cell_type": "markdown",
   "metadata": {},
   "source": [
    "## Problem Features\n",
    "## Aim and Variables"
   ]
  },
  {
   "cell_type": "markdown",
   "metadata": {},
   "source": [
    "# Installation Setup\n",
    "\n",
    "## Tool Versions\n",
    "\n",
    "```\n",
    "Apache Spark - 2.4.3\n",
    "Jupyter Notebook - 4.4.0\n",
    "AirFlow - ?\n",
    "```\n",
    "    \n",
    "## Environment Configuration\n",
    "\n",
    "#### Configuring ~/.bash_profile\n",
    "\n",
    "```\n",
    "export PATH=\"/usr/local/bin:$PATH\"\n",
    "PATH=\"/Library/Frameworks/Python.framework/Versions/3.7/bin:${PATH}\"\n",
    "export PATH=/usr/local/scala/bin:$PATH\n",
    "export PATH=/usr/local/spark/bin:$PATH\n",
    "export JAVA_HOME=$(/usr/libexec/java_home -v 1.8)\n",
    "export PYSPARK_PYTHON=python3.7\n",
    "```\n",
    "\n",
    "#### Configuring ~/.bashrc\n",
    "\n",
    "```\n",
    "export PYSPARK_PYTHON=/usr/local/bin/python3.7\n",
    "export PYSPARK_DRIVER_PYTHON=/usr/local/bin/python3.7\n",
    "```\n",
    "\n"
   ]
  },
  {
   "cell_type": "markdown",
   "metadata": {},
   "source": [
    "### Findspark\n",
    "\n",
    "Use `findspark` to be able to find and import **Pyspark** module, while correctly setting environmental variables and dependencies."
   ]
  },
  {
   "cell_type": "code",
   "execution_count": 1,
   "metadata": {},
   "outputs": [],
   "source": [
    "import traceback\n",
    "import findspark\n",
    "try:\n",
    "    findspark.init('/usr/local/spark/')\n",
    "except:\n",
    "    print (\"Error:\", ''.join(traceback.format_stack()))"
   ]
  },
  {
   "cell_type": "markdown",
   "metadata": {},
   "source": [
    "Check paths before Executing PySpark Session:"
   ]
  },
  {
   "cell_type": "code",
   "execution_count": 3,
   "metadata": {},
   "outputs": [
    {
     "name": "stdout",
     "output_type": "stream",
     "text": [
      "PATH: /Library/Frameworks/Python.framework/Versions/3.7/bin:/usr/local/spark/bin:/usr/local/scala/bin:/Library/Frameworks/Python.framework/Versions/3.7/bin:/usr/local/bin:/usr/local/spark/bin:/usr/local/scala/bin:/Library/Frameworks/Python.framework/Versions/3.7/bin:/usr/local/bin:/usr/local/spark/bin:/usr/local/scala/bin:/Library/Frameworks/Python.framework/Versions/3.7/bin:/usr/local/bin:/usr/local/spark/bin:/usr/local/scala/bin:/Library/Frameworks/Python.framework/Versions/3.7/bin:/usr/local/bin:/usr/local/bin:/usr/bin:/bin:/usr/sbin:/sbin\n",
      "\n",
      "SPARK_HOME: /usr/local/spark/\n",
      "PYSPARK_PYTHON: /usr/local/bin/python3.7\n",
      "PYSPARK_DRIVER_PYTHON: /usr/local/bin/python3.7\n"
     ]
    }
   ],
   "source": [
    "import os\n",
    "import sys\n",
    "print(\"PATH: %s\\n\" % os.environ['PATH'])\n",
    "print(\"SPARK_HOME: %s\" % os.environ['SPARK_HOME'])\n",
    "print(\"PYSPARK_PYTHON: %s\" % os.environ['PYSPARK_PYTHON'])\n",
    "print(\"PYSPARK_DRIVER_PYTHON: %s\" % os.environ['PYSPARK_DRIVER_PYTHON'])"
   ]
  },
  {
   "cell_type": "markdown",
   "metadata": {},
   "source": [
    "## Loading Packages "
   ]
  },
  {
   "cell_type": "code",
   "execution_count": 4,
   "metadata": {},
   "outputs": [],
   "source": [
    "#import libraries\n",
    "from pyspark.sql import SparkSession\n",
    "import pandas as pd\n",
    "import numpy as np\n",
    "import matplotlib\n",
    "import sklearn\n",
    "import scipy\n",
    "import matplotlib.pyplot as plt\n",
    "import matplotlib.pylab as pylab"
   ]
  },
  {
   "cell_type": "markdown",
   "metadata": {},
   "source": [
    "### Package Versions"
   ]
  },
  {
   "cell_type": "code",
   "execution_count": 5,
   "metadata": {},
   "outputs": [
    {
     "name": "stdout",
     "output_type": "stream",
     "text": [
      "matplotlib: 3.0.3\n",
      "sklearn: 0.19.2\n",
      "scipy: 1.2.1\n",
      "pandas: 0.24.2\n",
      "numpy: 1.16.3\n",
      "Python: 3.7.3 (v3.7.3:ef4ec6ed12, Mar 25 2019, 16:52:21) \n",
      "[Clang 6.0 (clang-600.0.57)]\n"
     ]
    }
   ],
   "source": [
    "print('matplotlib: {}'.format(matplotlib.__version__))\n",
    "print('sklearn: {}'.format(sklearn.__version__))\n",
    "print('scipy: {}'.format(scipy.__version__))\n",
    "print('pandas: {}'.format(pd.__version__))\n",
    "print('numpy: {}'.format(np.__version__))\n",
    "print('Python: {}'.format(sys.version))"
   ]
  },
  {
   "cell_type": "markdown",
   "metadata": {},
   "source": [
    "Creating Spark Session, hosted across all local nodes"
   ]
  },
  {
   "cell_type": "code",
   "execution_count": 6,
   "metadata": {},
   "outputs": [],
   "source": [
    "spark = SparkSession \\\n",
    "    .builder \\\n",
    "    .master(\"local[*]\") \\\n",
    "    .appName(\"PySpark Craigslist\") \\\n",
    "    .getOrCreate()\n",
    "\n",
    "sc = spark.sparkContext"
   ]
  },
  {
   "cell_type": "markdown",
   "metadata": {},
   "source": [
    "# Extract Data"
   ]
  },
  {
   "cell_type": "markdown",
   "metadata": {},
   "source": [
    "## Kaggle Dataset\n",
    "\n",
    "Available from [kaggle.com/austinreese/](https://www.kaggle.com/austinreese/craigslist-carstrucks-data)"
   ]
  },
  {
   "cell_type": "code",
   "execution_count": 7,
   "metadata": {},
   "outputs": [
    {
     "data": {
      "text/plain": [
       "pyspark.sql.dataframe.DataFrame"
      ]
     },
     "execution_count": 7,
     "metadata": {},
     "output_type": "execute_result"
    }
   ],
   "source": [
    "vehicle_listings = spark.read.format(\"csv\").option(\"header\", \"true\").load(\"../data/craigslistVehiclesFull.csv\")\n",
    "type(vehicle_listings)"
   ]
  },
  {
   "cell_type": "code",
   "execution_count": 8,
   "metadata": {},
   "outputs": [
    {
     "name": "stdout",
     "output_type": "stream",
     "text": [
      "root\n",
      " |-- url: string (nullable = true)\n",
      " |-- city: string (nullable = true)\n",
      " |-- price: string (nullable = true)\n",
      " |-- year: string (nullable = true)\n",
      " |-- manufacturer: string (nullable = true)\n",
      " |-- make: string (nullable = true)\n",
      " |-- condition: string (nullable = true)\n",
      " |-- cylinders: string (nullable = true)\n",
      " |-- fuel: string (nullable = true)\n",
      " |-- odometer: string (nullable = true)\n",
      " |-- title_status: string (nullable = true)\n",
      " |-- transmission: string (nullable = true)\n",
      " |-- vin: string (nullable = true)\n",
      " |-- drive: string (nullable = true)\n",
      " |-- size: string (nullable = true)\n",
      " |-- type: string (nullable = true)\n",
      " |-- paint_color: string (nullable = true)\n",
      " |-- image_url: string (nullable = true)\n",
      " |-- lat: string (nullable = true)\n",
      " |-- long: string (nullable = true)\n",
      " |-- county_fips: string (nullable = true)\n",
      " |-- county_name: string (nullable = true)\n",
      " |-- state_fips: string (nullable = true)\n",
      " |-- state_code: string (nullable = true)\n",
      " |-- state_name: string (nullable = true)\n",
      " |-- weather: string (nullable = true)\n",
      "\n"
     ]
    }
   ],
   "source": [
    "vehicle_listings.printSchema()"
   ]
  },
  {
   "cell_type": "code",
   "execution_count": 149,
   "metadata": {},
   "outputs": [
    {
     "name": "stdout",
     "output_type": "stream",
     "text": [
      "1723065 26\n"
     ]
    }
   ],
   "source": [
    "print(vehicle_listings.count(),len(vehicle_listings.columns))"
   ]
  },
  {
   "cell_type": "code",
   "execution_count": 10,
   "metadata": {
    "scrolled": true
   },
   "outputs": [
    {
     "name": "stdout",
     "output_type": "stream",
     "text": [
      "+-------+--------------------+----------+--------------------+------------------+------------+--------------------+---------+------------+------------------+------------------+-----------------+-----------------+--------------------+-----------------+-----------+-----------------+------------------+------------------+--------------------+------------------+-----------------+------------------+------------------+------------------+------------------+-----------------+\n",
      "|summary|                 url|      city|               price|              year|manufacturer|                make|condition|   cylinders|              fuel|          odometer|     title_status|     transmission|                 vin|            drive|       size|             type|       paint_color|         image_url|                 lat|              long|      county_fips|       county_name|        state_fips|        state_code|        state_name|          weather|\n",
      "+-------+--------------------+----------+--------------------+------------------+------------+--------------------+---------+------------+------------------+------------------+-----------------+-----------------+--------------------+-----------------+-----------+-----------------+------------------+------------------+--------------------+------------------+-----------------+------------------+------------------+------------------+------------------+-----------------+\n",
      "|  count|             1723065|   1723065|             1723065|           1716750|     1586651|             1653476|  1022285|     1031768|           1712702|           1159007|          1720508|          1714034|              605345|          1061178|     599110|          1020129|           1027421|           1723060|             1723065|           1723063|          1664232|           1664232|           1664232|           1664232|           1723061|          1663629|\n",
      "|   mean|                null|      null|  107554.03791615523|2004.8408405417213|        null|2.0412982685270864E8|     null|        null|120491.66666666667|113638.96127165236|69335.88888888889|             null|2.329898077722364E15|             null|       null|         34.80225|         -92.24275|      5156.2716049|  38.781324850962136|-93.60776402344794|28430.36144109112|        17802.5625| 28.34413681877833|              28.4|54.833333333333336| 53.7870443893704|\n",
      "| stddev|                null|      null|1.0044387316232303E7|  12.0877162743775|        null|5.219260906638930...|     null|        null|44637.820025922716| 136861.0463338454|40424.25247127164|             null|1.221077550015922...|             null|       null|6.530767520360834|0.2730139282161253|10912.512283606751|   5.983397428918304| 67.11417142134626|16054.35450578523|16889.957221057924|16.032296397585032|11.749231653365442|2.7141603981096374|7.799403370681863|\n",
      "|    min|https://abbotsfor...|abbotsford|                   1|              1553|       acura|        ! ton pickup|     4x4\"|10 cylinders|            135000|                 0|           166730|1G2WP52K7XF291710|                 !!!|1GBJK34G05E297566|        4wd|          30.1843|          -92.0497|             22055|           -0.201001|         -0.072901|         -117.381|             17085|                 1|                17|                51|               29|\n",
      "|    max|https://zanesvill...|zanesville|           999999999|               718|          vw|                   ∞|  salvage|  parts only|             other|               gas|          salvage|          rebuilt|                   ∞|              rwd|sub-compact|            wagon|            yellow|             white|https://images.cr...|              9009|          Ventura|            Zavala|              York|                WY|           Wyoming|       Washington|\n",
      "+-------+--------------------+----------+--------------------+------------------+------------+--------------------+---------+------------+------------------+------------------+-----------------+-----------------+--------------------+-----------------+-----------+-----------------+------------------+------------------+--------------------+------------------+-----------------+------------------+------------------+------------------+------------------+-----------------+\n",
      "\n"
     ]
    }
   ],
   "source": [
    "vehicle_listings.describe().show()"
   ]
  },
  {
   "cell_type": "markdown",
   "metadata": {},
   "source": [
    "Generally, the `.describe()` or `.explain()` method is a good way to start exploring a dataset. For this dataset, there are too many columns, some very unclean, and it is hard to decipher much from the above result <br>\n",
    "For a better view, first convert all **feature types** to float, then group columns for a neater view."
   ]
  },
  {
   "cell_type": "code",
   "execution_count": 11,
   "metadata": {},
   "outputs": [
    {
     "name": "stdout",
     "output_type": "stream",
     "text": [
      "root\n",
      " |-- url: string (nullable = true)\n",
      " |-- city: string (nullable = true)\n",
      " |-- price: string (nullable = true)\n",
      " |-- year: string (nullable = true)\n",
      " |-- manufacturer: string (nullable = true)\n",
      " |-- make: string (nullable = true)\n",
      " |-- condition: string (nullable = true)\n",
      " |-- cylinders: string (nullable = true)\n",
      " |-- fuel: string (nullable = true)\n",
      " |-- odometer: string (nullable = true)\n",
      " |-- title_status: string (nullable = true)\n",
      " |-- transmission: string (nullable = true)\n",
      " |-- vin: string (nullable = true)\n",
      " |-- drive: string (nullable = true)\n",
      " |-- size: string (nullable = true)\n",
      " |-- type: string (nullable = true)\n",
      " |-- paint_color: string (nullable = true)\n",
      " |-- image_url: string (nullable = true)\n",
      " |-- lat: string (nullable = true)\n",
      " |-- long: string (nullable = true)\n",
      " |-- county_fips: string (nullable = true)\n",
      " |-- county_name: string (nullable = true)\n",
      " |-- state_fips: string (nullable = true)\n",
      " |-- state_code: string (nullable = true)\n",
      " |-- state_name: string (nullable = true)\n",
      " |-- weather: string (nullable = true)\n",
      "\n"
     ]
    }
   ],
   "source": [
    "vehicle_listings.printSchema()"
   ]
  },
  {
   "cell_type": "code",
   "execution_count": 12,
   "metadata": {},
   "outputs": [],
   "source": [
    "#convert columns that represent numerical informtion from string to float\n",
    "\n",
    "from functools import reduce\n",
    "\n",
    "cols=[\"price\",\"year\",\"odometer\",\"lat\",\"long\",\"county_fips\",\"state_fips\",\"weather\"]\n",
    "\n",
    "vehicle_listings = (reduce(\n",
    "            lambda memo_df, col_name: memo_df.withColumn(col_name, vehicle_listings[col_name].cast(\"float\")),\n",
    "            cols,\n",
    "            vehicle_listings))"
   ]
  },
  {
   "cell_type": "code",
   "execution_count": 14,
   "metadata": {},
   "outputs": [
    {
     "name": "stdout",
     "output_type": "stream",
     "text": [
      "root\n",
      " |-- url: string (nullable = true)\n",
      " |-- city: string (nullable = true)\n",
      " |-- price: float (nullable = true)\n",
      " |-- year: float (nullable = true)\n",
      " |-- manufacturer: string (nullable = true)\n",
      " |-- make: string (nullable = true)\n",
      " |-- condition: string (nullable = true)\n",
      " |-- cylinders: string (nullable = true)\n",
      " |-- fuel: string (nullable = true)\n",
      " |-- odometer: float (nullable = true)\n",
      " |-- title_status: string (nullable = true)\n",
      " |-- transmission: string (nullable = true)\n",
      " |-- vin: string (nullable = true)\n",
      " |-- drive: string (nullable = true)\n",
      " |-- size: string (nullable = true)\n",
      " |-- type: string (nullable = true)\n",
      " |-- paint_color: string (nullable = true)\n",
      " |-- image_url: string (nullable = true)\n",
      " |-- lat: float (nullable = true)\n",
      " |-- long: float (nullable = true)\n",
      " |-- county_fips: float (nullable = true)\n",
      " |-- county_name: string (nullable = true)\n",
      " |-- state_fips: float (nullable = true)\n",
      " |-- state_code: string (nullable = true)\n",
      " |-- state_name: string (nullable = true)\n",
      " |-- weather: float (nullable = true)\n",
      "\n"
     ]
    }
   ],
   "source": [
    "vehicle_listings.printSchema()"
   ]
  },
  {
   "cell_type": "markdown",
   "metadata": {},
   "source": [
    "The dataset attribute are varied in nature, we have three types of features available in our data, for example - <br>\n",
    "**Categorical** --> *condition*<br>\n",
    "**Ordinal** --> *year, county_fips, state_fips*<br>\n",
    "**Continuous** --> *price,odometer, lat, long, weather*"
   ]
  },
  {
   "cell_type": "markdown",
   "metadata": {},
   "source": [
    "Print basic statistical details for vehicle_listings - "
   ]
  },
  {
   "cell_type": "code",
   "execution_count": 34,
   "metadata": {},
   "outputs": [
    {
     "name": "stdout",
     "output_type": "stream",
     "text": [
      "+-------+----------+------------------+------------------+------------------+------------------+\n",
      "|summary|      city|        state_code|              year|               lat|              long|\n",
      "+-------+----------+------------------+------------------+------------------+------------------+\n",
      "|  count|   1723065|           1664232|           1716750|           1723053|           1723063|\n",
      "|   mean|      null|              28.4|2004.8408405417213|38.781324831980314|-93.60776401924767|\n",
      "| stddev|      null|11.749231653365442|  12.0877162743775| 5.983397427783298| 67.11417140992036|\n",
      "|    min|abbotsford|                17|             302.0|          -122.861|           -1000.0|\n",
      "|    max|zanesville|                WY|            2019.0|              90.0|           51177.0|\n",
      "+-------+----------+------------------+------------------+------------------+------------------+\n",
      "\n",
      "+-------+------------+--------------------+--------------------+---------+------------------+\n",
      "|summary|manufacturer|                make|               price|condition|          odometer|\n",
      "+-------+------------+--------------------+--------------------+---------+------------------+\n",
      "|  count|     1586651|             1653476|             1723065|  1022285|           1158996|\n",
      "|   mean|        null|2.0412982685270864E8|  107554.03912156535|     null|113638.96127165236|\n",
      "| stddev|        null|5.219260906638930...|1.0044387431462636E7|     null| 136861.0463338454|\n",
      "|    min|       acura|        ! ton pickup|                 1.0|     4x4\"|               0.0|\n",
      "|    max|          vw|                   ∞|        2.06862669E9|  salvage|             1.0E7|\n",
      "+-------+------------+--------------------+--------------------+---------+------------------+\n",
      "\n",
      "+-------+------------+------------------+-----------------+-----------------+-----------+\n",
      "|summary|   cylinders|              fuel|     transmission|            drive|       size|\n",
      "+-------+------------+------------------+-----------------+-----------------+-----------+\n",
      "|  count|     1031768|           1712702|          1714034|          1061178|     599110|\n",
      "|   mean|        null|120491.66666666667|             null|             null|       null|\n",
      "| stddev|        null|44637.820025922716|             null|             null|       null|\n",
      "|    min|10 cylinders|            135000|1G2WP52K7XF291710|1GBJK34G05E297566|        4wd|\n",
      "|    max|  parts only|             other|          rebuilt|              rwd|sub-compact|\n",
      "+-------+------------+------------------+-----------------+-----------------+-----------+\n",
      "\n"
     ]
    }
   ],
   "source": [
    "vehicle_listings.select(\"city\",\"state_code\",\"year\",\"lat\",\"long\").describe().show()\n",
    "vehicle_listings.select(\"manufacturer\",\"make\",\"price\",\"condition\",\"odometer\").describe().show()\n",
    "vehicle_listings.select(\"cylinders\",\"fuel\",\"transmission\",\"drive\",\"size\").describe().show()\n"
   ]
  },
  {
   "cell_type": "markdown",
   "metadata": {},
   "source": [
    "There are over 1.7 million records, and 26 columns. As we can observe from a `.describe()` exploration of various attributes, the dataset is too large to perform EDA (Exploratory Data Analysis) comfortably. <br>\n",
    "In order to perform EDA, we must sample the data and study it using a **Pandas** dataframe.<br>"
   ]
  },
  {
   "cell_type": "markdown",
   "metadata": {},
   "source": [
    "## Exploratory Data Analysis"
   ]
  },
  {
   "cell_type": "markdown",
   "metadata": {},
   "source": [
    "To start the *EDA*, focus on the target variable, i.e. the variable we want our model to be able to predict - **price** "
   ]
  },
  {
   "cell_type": "code",
   "execution_count": 155,
   "metadata": {},
   "outputs": [
    {
     "name": "stdout",
     "output_type": "stream",
     "text": [
      "+-------+------------------+\n",
      "|summary|             price|\n",
      "+-------+------------------+\n",
      "|  count|           1696575|\n",
      "|   mean|109233.15024799964|\n",
      "| stddev|1.01224902731346E7|\n",
      "|    min|             101.0|\n",
      "|    max|      2.06862669E9|\n",
      "+-------+------------------+\n",
      "\n"
     ]
    }
   ],
   "source": [
    "vehicle_listings.where(\"price>100\").select(\"price\").describe().show()"
   ]
  },
  {
   "cell_type": "code",
   "execution_count": 160,
   "metadata": {},
   "outputs": [
    {
     "name": "stdout",
     "output_type": "stream",
     "text": [
      "+------------+\n",
      "|  max(price)|\n",
      "+------------+\n",
      "|2.06862669E9|\n",
      "+------------+\n",
      "\n"
     ]
    }
   ],
   "source": [
    "from pyspark.sql.functions import *\n",
    "vehicle_listings.agg(max(col(\"price\"))).show()\n",
    "                    "
   ]
  },
  {
   "cell_type": "code",
   "execution_count": 145,
   "metadata": {},
   "outputs": [
    {
     "data": {
      "text/plain": [
       "1.0"
      ]
     },
     "execution_count": 145,
     "metadata": {},
     "output_type": "execute_result"
    }
   ],
   "source": [
    "vehicle_listings.corr(\"price\",\"price\")"
   ]
  },
  {
   "cell_type": "markdown",
   "metadata": {},
   "source": [
    "To explore the dataset for analysis, create a **sample pandas dataframe** from the dataframe:"
   ]
  },
  {
   "cell_type": "code",
   "execution_count": 114,
   "metadata": {},
   "outputs": [
    {
     "data": {
      "text/html": [
       "<div>\n",
       "<style scoped>\n",
       "    .dataframe tbody tr th:only-of-type {\n",
       "        vertical-align: middle;\n",
       "    }\n",
       "\n",
       "    .dataframe tbody tr th {\n",
       "        vertical-align: top;\n",
       "    }\n",
       "\n",
       "    .dataframe thead th {\n",
       "        text-align: right;\n",
       "    }\n",
       "</style>\n",
       "<table border=\"1\" class=\"dataframe\">\n",
       "  <thead>\n",
       "    <tr style=\"text-align: right;\">\n",
       "      <th></th>\n",
       "      <th>url</th>\n",
       "      <th>city</th>\n",
       "      <th>price</th>\n",
       "      <th>year</th>\n",
       "      <th>manufacturer</th>\n",
       "      <th>make</th>\n",
       "      <th>condition</th>\n",
       "      <th>cylinders</th>\n",
       "      <th>fuel</th>\n",
       "      <th>odometer</th>\n",
       "      <th>...</th>\n",
       "      <th>paint_color</th>\n",
       "      <th>image_url</th>\n",
       "      <th>lat</th>\n",
       "      <th>long</th>\n",
       "      <th>county_fips</th>\n",
       "      <th>county_name</th>\n",
       "      <th>state_fips</th>\n",
       "      <th>state_code</th>\n",
       "      <th>state_name</th>\n",
       "      <th>weather</th>\n",
       "    </tr>\n",
       "  </thead>\n",
       "  <tbody>\n",
       "    <tr>\n",
       "      <th>count</th>\n",
       "      <td>1772</td>\n",
       "      <td>1772</td>\n",
       "      <td>1772.000000</td>\n",
       "      <td>1769.000000</td>\n",
       "      <td>1634</td>\n",
       "      <td>1707</td>\n",
       "      <td>1049</td>\n",
       "      <td>1064</td>\n",
       "      <td>1764</td>\n",
       "      <td>1.252000e+03</td>\n",
       "      <td>...</td>\n",
       "      <td>1079</td>\n",
       "      <td>1772</td>\n",
       "      <td>1772.000000</td>\n",
       "      <td>1772.000000</td>\n",
       "      <td>1685.000000</td>\n",
       "      <td>1685</td>\n",
       "      <td>1685.00000</td>\n",
       "      <td>1685</td>\n",
       "      <td>1772</td>\n",
       "      <td>1685.000000</td>\n",
       "    </tr>\n",
       "    <tr>\n",
       "      <th>unique</th>\n",
       "      <td>1772</td>\n",
       "      <td>364</td>\n",
       "      <td>NaN</td>\n",
       "      <td>NaN</td>\n",
       "      <td>39</td>\n",
       "      <td>963</td>\n",
       "      <td>6</td>\n",
       "      <td>7</td>\n",
       "      <td>5</td>\n",
       "      <td>NaN</td>\n",
       "      <td>...</td>\n",
       "      <td>12</td>\n",
       "      <td>1771</td>\n",
       "      <td>NaN</td>\n",
       "      <td>NaN</td>\n",
       "      <td>NaN</td>\n",
       "      <td>599</td>\n",
       "      <td>NaN</td>\n",
       "      <td>50</td>\n",
       "      <td>51</td>\n",
       "      <td>NaN</td>\n",
       "    </tr>\n",
       "    <tr>\n",
       "      <th>top</th>\n",
       "      <td>https://skagit.craigslist.org/cto/d/mechanics-...</td>\n",
       "      <td>whistler</td>\n",
       "      <td>NaN</td>\n",
       "      <td>NaN</td>\n",
       "      <td>ford</td>\n",
       "      <td>1500</td>\n",
       "      <td>excellent</td>\n",
       "      <td>6 cylinders</td>\n",
       "      <td>gas</td>\n",
       "      <td>NaN</td>\n",
       "      <td>...</td>\n",
       "      <td>white</td>\n",
       "      <td>https://images.craigslist.org/00r0r_9HsbmQi8aC...</td>\n",
       "      <td>NaN</td>\n",
       "      <td>NaN</td>\n",
       "      <td>NaN</td>\n",
       "      <td>Jefferson</td>\n",
       "      <td>NaN</td>\n",
       "      <td>CA</td>\n",
       "      <td>California</td>\n",
       "      <td>NaN</td>\n",
       "    </tr>\n",
       "    <tr>\n",
       "      <th>freq</th>\n",
       "      <td>1</td>\n",
       "      <td>16</td>\n",
       "      <td>NaN</td>\n",
       "      <td>NaN</td>\n",
       "      <td>291</td>\n",
       "      <td>34</td>\n",
       "      <td>469</td>\n",
       "      <td>380</td>\n",
       "      <td>1581</td>\n",
       "      <td>NaN</td>\n",
       "      <td>...</td>\n",
       "      <td>254</td>\n",
       "      <td>2</td>\n",
       "      <td>NaN</td>\n",
       "      <td>NaN</td>\n",
       "      <td>NaN</td>\n",
       "      <td>26</td>\n",
       "      <td>NaN</td>\n",
       "      <td>143</td>\n",
       "      <td>143</td>\n",
       "      <td>NaN</td>\n",
       "    </tr>\n",
       "    <tr>\n",
       "      <th>mean</th>\n",
       "      <td>NaN</td>\n",
       "      <td>NaN</td>\n",
       "      <td>11439.492188</td>\n",
       "      <td>2005.105713</td>\n",
       "      <td>NaN</td>\n",
       "      <td>NaN</td>\n",
       "      <td>NaN</td>\n",
       "      <td>NaN</td>\n",
       "      <td>NaN</td>\n",
       "      <td>1.096631e+05</td>\n",
       "      <td>...</td>\n",
       "      <td>NaN</td>\n",
       "      <td>NaN</td>\n",
       "      <td>38.828968</td>\n",
       "      <td>-93.589165</td>\n",
       "      <td>29143.734375</td>\n",
       "      <td>NaN</td>\n",
       "      <td>29.05460</td>\n",
       "      <td>NaN</td>\n",
       "      <td>NaN</td>\n",
       "      <td>54.055786</td>\n",
       "    </tr>\n",
       "    <tr>\n",
       "      <th>std</th>\n",
       "      <td>NaN</td>\n",
       "      <td>NaN</td>\n",
       "      <td>11828.822266</td>\n",
       "      <td>12.365001</td>\n",
       "      <td>NaN</td>\n",
       "      <td>NaN</td>\n",
       "      <td>NaN</td>\n",
       "      <td>NaN</td>\n",
       "      <td>NaN</td>\n",
       "      <td>1.025154e+05</td>\n",
       "      <td>...</td>\n",
       "      <td>NaN</td>\n",
       "      <td>NaN</td>\n",
       "      <td>6.043419</td>\n",
       "      <td>17.245035</td>\n",
       "      <td>16240.077148</td>\n",
       "      <td>NaN</td>\n",
       "      <td>16.21484</td>\n",
       "      <td>NaN</td>\n",
       "      <td>NaN</td>\n",
       "      <td>7.755190</td>\n",
       "    </tr>\n",
       "    <tr>\n",
       "      <th>min</th>\n",
       "      <td>NaN</td>\n",
       "      <td>NaN</td>\n",
       "      <td>1.000000</td>\n",
       "      <td>1921.000000</td>\n",
       "      <td>NaN</td>\n",
       "      <td>NaN</td>\n",
       "      <td>NaN</td>\n",
       "      <td>NaN</td>\n",
       "      <td>NaN</td>\n",
       "      <td>0.000000e+00</td>\n",
       "      <td>...</td>\n",
       "      <td>NaN</td>\n",
       "      <td>NaN</td>\n",
       "      <td>-27.369877</td>\n",
       "      <td>-176.791992</td>\n",
       "      <td>1003.000000</td>\n",
       "      <td>NaN</td>\n",
       "      <td>1.00000</td>\n",
       "      <td>NaN</td>\n",
       "      <td>NaN</td>\n",
       "      <td>29.000000</td>\n",
       "    </tr>\n",
       "    <tr>\n",
       "      <th>25%</th>\n",
       "      <td>NaN</td>\n",
       "      <td>NaN</td>\n",
       "      <td>3500.000000</td>\n",
       "      <td>2003.000000</td>\n",
       "      <td>NaN</td>\n",
       "      <td>NaN</td>\n",
       "      <td>NaN</td>\n",
       "      <td>NaN</td>\n",
       "      <td>NaN</td>\n",
       "      <td>5.249300e+04</td>\n",
       "      <td>...</td>\n",
       "      <td>NaN</td>\n",
       "      <td>NaN</td>\n",
       "      <td>34.951149</td>\n",
       "      <td>-105.004202</td>\n",
       "      <td>12131.000000</td>\n",
       "      <td>NaN</td>\n",
       "      <td>12.00000</td>\n",
       "      <td>NaN</td>\n",
       "      <td>NaN</td>\n",
       "      <td>48.000000</td>\n",
       "    </tr>\n",
       "    <tr>\n",
       "      <th>50%</th>\n",
       "      <td>NaN</td>\n",
       "      <td>NaN</td>\n",
       "      <td>7927.500000</td>\n",
       "      <td>2007.000000</td>\n",
       "      <td>NaN</td>\n",
       "      <td>NaN</td>\n",
       "      <td>NaN</td>\n",
       "      <td>NaN</td>\n",
       "      <td>NaN</td>\n",
       "      <td>1.028100e+05</td>\n",
       "      <td>...</td>\n",
       "      <td>NaN</td>\n",
       "      <td>NaN</td>\n",
       "      <td>39.504667</td>\n",
       "      <td>-88.256954</td>\n",
       "      <td>29510.000000</td>\n",
       "      <td>NaN</td>\n",
       "      <td>29.00000</td>\n",
       "      <td>NaN</td>\n",
       "      <td>NaN</td>\n",
       "      <td>53.000000</td>\n",
       "    </tr>\n",
       "    <tr>\n",
       "      <th>75%</th>\n",
       "      <td>NaN</td>\n",
       "      <td>NaN</td>\n",
       "      <td>15820.250000</td>\n",
       "      <td>2013.000000</td>\n",
       "      <td>NaN</td>\n",
       "      <td>NaN</td>\n",
       "      <td>NaN</td>\n",
       "      <td>NaN</td>\n",
       "      <td>NaN</td>\n",
       "      <td>1.484508e+05</td>\n",
       "      <td>...</td>\n",
       "      <td>NaN</td>\n",
       "      <td>NaN</td>\n",
       "      <td>42.623626</td>\n",
       "      <td>-80.855953</td>\n",
       "      <td>42071.000000</td>\n",
       "      <td>NaN</td>\n",
       "      <td>42.00000</td>\n",
       "      <td>NaN</td>\n",
       "      <td>NaN</td>\n",
       "      <td>59.000000</td>\n",
       "    </tr>\n",
       "    <tr>\n",
       "      <th>max</th>\n",
       "      <td>NaN</td>\n",
       "      <td>NaN</td>\n",
       "      <td>164997.000000</td>\n",
       "      <td>2019.000000</td>\n",
       "      <td>NaN</td>\n",
       "      <td>NaN</td>\n",
       "      <td>NaN</td>\n",
       "      <td>NaN</td>\n",
       "      <td>NaN</td>\n",
       "      <td>2.000109e+06</td>\n",
       "      <td>...</td>\n",
       "      <td>NaN</td>\n",
       "      <td>NaN</td>\n",
       "      <td>65.975906</td>\n",
       "      <td>0.632405</td>\n",
       "      <td>56025.000000</td>\n",
       "      <td>NaN</td>\n",
       "      <td>56.00000</td>\n",
       "      <td>NaN</td>\n",
       "      <td>NaN</td>\n",
       "      <td>79.000000</td>\n",
       "    </tr>\n",
       "  </tbody>\n",
       "</table>\n",
       "<p>11 rows × 26 columns</p>\n",
       "</div>"
      ],
      "text/plain": [
       "                                                      url      city  \\\n",
       "count                                                1772      1772   \n",
       "unique                                               1772       364   \n",
       "top     https://skagit.craigslist.org/cto/d/mechanics-...  whistler   \n",
       "freq                                                    1        16   \n",
       "mean                                                  NaN       NaN   \n",
       "std                                                   NaN       NaN   \n",
       "min                                                   NaN       NaN   \n",
       "25%                                                   NaN       NaN   \n",
       "50%                                                   NaN       NaN   \n",
       "75%                                                   NaN       NaN   \n",
       "max                                                   NaN       NaN   \n",
       "\n",
       "                price         year manufacturer  make  condition    cylinders  \\\n",
       "count     1772.000000  1769.000000         1634  1707       1049         1064   \n",
       "unique            NaN          NaN           39   963          6            7   \n",
       "top               NaN          NaN         ford  1500  excellent  6 cylinders   \n",
       "freq              NaN          NaN          291    34        469          380   \n",
       "mean     11439.492188  2005.105713          NaN   NaN        NaN          NaN   \n",
       "std      11828.822266    12.365001          NaN   NaN        NaN          NaN   \n",
       "min          1.000000  1921.000000          NaN   NaN        NaN          NaN   \n",
       "25%       3500.000000  2003.000000          NaN   NaN        NaN          NaN   \n",
       "50%       7927.500000  2007.000000          NaN   NaN        NaN          NaN   \n",
       "75%      15820.250000  2013.000000          NaN   NaN        NaN          NaN   \n",
       "max     164997.000000  2019.000000          NaN   NaN        NaN          NaN   \n",
       "\n",
       "        fuel      odometer  ... paint_color  \\\n",
       "count   1764  1.252000e+03  ...        1079   \n",
       "unique     5           NaN  ...          12   \n",
       "top      gas           NaN  ...       white   \n",
       "freq    1581           NaN  ...         254   \n",
       "mean     NaN  1.096631e+05  ...         NaN   \n",
       "std      NaN  1.025154e+05  ...         NaN   \n",
       "min      NaN  0.000000e+00  ...         NaN   \n",
       "25%      NaN  5.249300e+04  ...         NaN   \n",
       "50%      NaN  1.028100e+05  ...         NaN   \n",
       "75%      NaN  1.484508e+05  ...         NaN   \n",
       "max      NaN  2.000109e+06  ...         NaN   \n",
       "\n",
       "                                                image_url          lat  \\\n",
       "count                                                1772  1772.000000   \n",
       "unique                                               1771          NaN   \n",
       "top     https://images.craigslist.org/00r0r_9HsbmQi8aC...          NaN   \n",
       "freq                                                    2          NaN   \n",
       "mean                                                  NaN    38.828968   \n",
       "std                                                   NaN     6.043419   \n",
       "min                                                   NaN   -27.369877   \n",
       "25%                                                   NaN    34.951149   \n",
       "50%                                                   NaN    39.504667   \n",
       "75%                                                   NaN    42.623626   \n",
       "max                                                   NaN    65.975906   \n",
       "\n",
       "               long   county_fips county_name  state_fips state_code  \\\n",
       "count   1772.000000   1685.000000        1685  1685.00000       1685   \n",
       "unique          NaN           NaN         599         NaN         50   \n",
       "top             NaN           NaN   Jefferson         NaN         CA   \n",
       "freq            NaN           NaN          26         NaN        143   \n",
       "mean     -93.589165  29143.734375         NaN    29.05460        NaN   \n",
       "std       17.245035  16240.077148         NaN    16.21484        NaN   \n",
       "min     -176.791992   1003.000000         NaN     1.00000        NaN   \n",
       "25%     -105.004202  12131.000000         NaN    12.00000        NaN   \n",
       "50%      -88.256954  29510.000000         NaN    29.00000        NaN   \n",
       "75%      -80.855953  42071.000000         NaN    42.00000        NaN   \n",
       "max        0.632405  56025.000000         NaN    56.00000        NaN   \n",
       "\n",
       "        state_name      weather  \n",
       "count         1772  1685.000000  \n",
       "unique          51          NaN  \n",
       "top     California          NaN  \n",
       "freq           143          NaN  \n",
       "mean           NaN    54.055786  \n",
       "std            NaN     7.755190  \n",
       "min            NaN    29.000000  \n",
       "25%            NaN    48.000000  \n",
       "50%            NaN    53.000000  \n",
       "75%            NaN    59.000000  \n",
       "max            NaN    79.000000  \n",
       "\n",
       "[11 rows x 26 columns]"
      ]
     },
     "execution_count": 114,
     "metadata": {},
     "output_type": "execute_result"
    }
   ],
   "source": [
    "seed=63\n",
    "pd_vehicle_listings=vehicle_listings.sample(False,0.001,seed).toPandas()\n",
    "pd_vehicle_listings.describe(include='all')"
   ]
  },
  {
   "cell_type": "markdown",
   "metadata": {},
   "source": [
    "Pandas `dataframe.describe` gives us basic statistics but it is hard to determine how well distributed the sample is across the dataset. One way to figure this out is to observe the distibution of one column. As an example, let us use the *\"city\"* column for this."
   ]
  },
  {
   "cell_type": "markdown",
   "metadata": {},
   "source": [
    "*Total unique cities in the dataset*"
   ]
  },
  {
   "cell_type": "code",
   "execution_count": 49,
   "metadata": {},
   "outputs": [
    {
     "data": {
      "text/plain": [
       "470"
      ]
     },
     "execution_count": 49,
     "metadata": {},
     "output_type": "execute_result"
    }
   ],
   "source": [
    "vehicle_listings.select(\"city\").distinct().count()"
   ]
  },
  {
   "cell_type": "markdown",
   "metadata": {},
   "source": [
    "*total counts for each city represented in the random sample*"
   ]
  },
  {
   "cell_type": "code",
   "execution_count": 118,
   "metadata": {},
   "outputs": [
    {
     "data": {
      "text/plain": [
       "whistler        16\n",
       "stlouis         15\n",
       "milwaukee       15\n",
       "eugene          15\n",
       "greensboro      15\n",
       "newyork         14\n",
       "knoxville       14\n",
       "redding         14\n",
       "austin          13\n",
       "fresno          13\n",
       "jacksonville    13\n",
       "huntsville      13\n",
       "boise           13\n",
       "hartford        13\n",
       "nashville       12\n",
       "miami           12\n",
       "fayar           12\n",
       "lasvegas        12\n",
       "albany          11\n",
       "abbotsford      11\n",
       "columbia        11\n",
       "seattle         11\n",
       "fortmyers       11\n",
       "worcester       11\n",
       "madison         11\n",
       "greenbay        11\n",
       "fortwayne       11\n",
       "vermont         11\n",
       "orangecounty    11\n",
       "hudsonvalley    10\n",
       "                ..\n",
       "tippecanoe       1\n",
       "salina           1\n",
       "semo             1\n",
       "danville         1\n",
       "dothan           1\n",
       "janesville       1\n",
       "easternshore     1\n",
       "shreveport       1\n",
       "fortdodge        1\n",
       "sanangelo        1\n",
       "merced           1\n",
       "nd               1\n",
       "up               1\n",
       "santabarbara     1\n",
       "twinfalls        1\n",
       "quincy           1\n",
       "montreal         1\n",
       "cenla            1\n",
       "cookeville       1\n",
       "huntington       1\n",
       "battlecreek      1\n",
       "roswell          1\n",
       "natchez          1\n",
       "northplatte      1\n",
       "lascruces        1\n",
       "columbusga       1\n",
       "philadelphia     1\n",
       "nacogdoches      1\n",
       "lakecharles      1\n",
       "monterrey        1\n",
       "Name: city, Length: 364, dtype: int64"
      ]
     },
     "execution_count": 118,
     "metadata": {},
     "output_type": "execute_result"
    }
   ],
   "source": [
    "pd_vehicle_listings['city'].value_counts()"
   ]
  },
  {
   "cell_type": "markdown",
   "metadata": {},
   "source": [
    "*Random Sampling* like above works well for simple use cases. However, the car records are probably not evenly distributed. <br>\n",
    "Plotting a histogram of the frequencies of cities can help check that - "
   ]
  },
  {
   "cell_type": "code",
   "execution_count": 121,
   "metadata": {},
   "outputs": [
    {
     "data": {
      "text/plain": [
       "(array([61., 41., 39., 24., 24., 21., 24., 18., 20., 19.,  5.,  5., 10.,\n",
       "        12.,  7., 12., 18., 19., 63., 28.]),\n",
       " array([1.0000e+00, 4.1510e+02, 8.2920e+02, 1.2433e+03, 1.6574e+03,\n",
       "        2.0715e+03, 2.4856e+03, 2.8997e+03, 3.3138e+03, 3.7279e+03,\n",
       "        4.1420e+03, 4.5561e+03, 4.9702e+03, 5.3843e+03, 5.7984e+03,\n",
       "        6.2125e+03, 6.6266e+03, 7.0407e+03, 7.4548e+03, 7.8689e+03,\n",
       "        8.2830e+03]),\n",
       " <a list of 20 Patch objects>)"
      ]
     },
     "execution_count": 121,
     "metadata": {},
     "output_type": "execute_result"
    },
    {
     "data": {
      "image/png": "[encoded data removed]",
      "text/plain": [
       "<Figure size 432x288 with 1 Axes>"
      ]
     },
     "metadata": {
      "needs_background": "light"
     },
     "output_type": "display_data"
    }
   ],
   "source": [
    "city_freq=vehicle_listings.groupBy(\"city\").count()\n",
    "\n",
    "bins, counts = city_freq.select('count').rdd.flatMap(lambda x: x).histogram(20)\n",
    "plt.hist(bins[:-1], bins=bins, weights=counts)"
   ]
  },
  {
   "cell_type": "markdown",
   "metadata": {},
   "source": [
    "Clearly, the city distribution is uneven, there is a concentration in the ranges $[0,1000]$ and $[6500,8000]$ (approx). A better idea would be sample data based on its frequency in the dataset. <br>\n",
    "\n",
    "Compared to simple random sampling, *Stratified sampling* has some advantages. Stratified sampling makes sure every strata will be represented in the sample of the entire population. Stratified sampling method is possible to increase the precision with the same sample size or reduce the sample size with a given precision. Stratified sampling method works well for population with variety attributes. This use case will implement **Proportionate Stratified Sampling**"
   ]
  },
  {
   "cell_type": "markdown",
   "metadata": {},
   "source": [
    "To assign samples for each strata, we use proportionate stratification, because we want fair representation across cities. \n",
    "\n",
    "$$n_h = ( N_h / N ) * n$$\n",
    "\n",
    "where $n_h$ is the  sample size for stratum h, $N_h$ is the population size for stratum h, N is total population size, and n is total sample size."
   ]
  },
  {
   "cell_type": "code",
   "execution_count": 122,
   "metadata": {},
   "outputs": [],
   "source": [
    "cities=city_freq.toPandas()\n",
    "cities_dict={}\n",
    "for index, row in cities.iterrows():\n",
    "    cities_dict[row[\"city\"]]=int(row[\"count\"])\n"
   ]
  },
  {
   "cell_type": "code",
   "execution_count": 130,
   "metadata": {
    "scrolled": true
   },
   "outputs": [
    {
     "name": "stdout",
     "output_type": "stream",
     "text": [
      "0.002 0.001 0.002\n"
     ]
    }
   ],
   "source": [
    "lst=vehicle_listings.select(\"city\").distinct().collect()\n",
    "fractions={}\n",
    "\n",
    "#ranges = [0,1500],[1501,6500],[6501,]\n",
    "\n",
    "for x in lst:\n",
    "    freq=cities_dict[x[\"city\"]]\n",
    "    if freq>6500:\n",
    "        fractions[x[\"city\"]]=0.002\n",
    "    elif freq>1500:\n",
    "        fractions[x[\"city\"]]=0.001\n",
    "    else:\n",
    "        fractions[x[\"city\"]]=0.002\n",
    "        \n",
    "print(fractions[\"cornwall\"],fractions[\"wilmington\"],fractions[\"louisville\"])\n",
    "#print (fractions)   \n",
    "# cornwall = 0.002, louisville = 0.002, wilmington = 0.001"
   ]
  },
  {
   "cell_type": "code",
   "execution_count": 135,
   "metadata": {},
   "outputs": [
    {
     "data": {
      "text/html": [
       "<div>\n",
       "<style scoped>\n",
       "    .dataframe tbody tr th:only-of-type {\n",
       "        vertical-align: middle;\n",
       "    }\n",
       "\n",
       "    .dataframe tbody tr th {\n",
       "        vertical-align: top;\n",
       "    }\n",
       "\n",
       "    .dataframe thead th {\n",
       "        text-align: right;\n",
       "    }\n",
       "</style>\n",
       "<table border=\"1\" class=\"dataframe\">\n",
       "  <thead>\n",
       "    <tr style=\"text-align: right;\">\n",
       "      <th></th>\n",
       "      <th>url</th>\n",
       "      <th>city</th>\n",
       "      <th>price</th>\n",
       "      <th>year</th>\n",
       "      <th>manufacturer</th>\n",
       "      <th>make</th>\n",
       "      <th>condition</th>\n",
       "      <th>cylinders</th>\n",
       "      <th>fuel</th>\n",
       "      <th>odometer</th>\n",
       "      <th>...</th>\n",
       "      <th>paint_color</th>\n",
       "      <th>image_url</th>\n",
       "      <th>lat</th>\n",
       "      <th>long</th>\n",
       "      <th>county_fips</th>\n",
       "      <th>county_name</th>\n",
       "      <th>state_fips</th>\n",
       "      <th>state_code</th>\n",
       "      <th>state_name</th>\n",
       "      <th>weather</th>\n",
       "    </tr>\n",
       "  </thead>\n",
       "  <tbody>\n",
       "    <tr>\n",
       "      <th>count</th>\n",
       "      <td>2851</td>\n",
       "      <td>2851</td>\n",
       "      <td>2851.000000</td>\n",
       "      <td>2846.000000</td>\n",
       "      <td>2620</td>\n",
       "      <td>2747</td>\n",
       "      <td>1684</td>\n",
       "      <td>1717</td>\n",
       "      <td>2839</td>\n",
       "      <td>1.999000e+03</td>\n",
       "      <td>...</td>\n",
       "      <td>1733</td>\n",
       "      <td>2851</td>\n",
       "      <td>2851.000000</td>\n",
       "      <td>2851.000000</td>\n",
       "      <td>2743.000000</td>\n",
       "      <td>2743</td>\n",
       "      <td>2743.000000</td>\n",
       "      <td>2743</td>\n",
       "      <td>2851</td>\n",
       "      <td>2743.000000</td>\n",
       "    </tr>\n",
       "    <tr>\n",
       "      <th>unique</th>\n",
       "      <td>2851</td>\n",
       "      <td>394</td>\n",
       "      <td>NaN</td>\n",
       "      <td>NaN</td>\n",
       "      <td>41</td>\n",
       "      <td>1381</td>\n",
       "      <td>6</td>\n",
       "      <td>7</td>\n",
       "      <td>5</td>\n",
       "      <td>NaN</td>\n",
       "      <td>...</td>\n",
       "      <td>12</td>\n",
       "      <td>2843</td>\n",
       "      <td>NaN</td>\n",
       "      <td>NaN</td>\n",
       "      <td>NaN</td>\n",
       "      <td>720</td>\n",
       "      <td>NaN</td>\n",
       "      <td>50</td>\n",
       "      <td>51</td>\n",
       "      <td>NaN</td>\n",
       "    </tr>\n",
       "    <tr>\n",
       "      <th>top</th>\n",
       "      <td>https://skagit.craigslist.org/cto/d/mechanics-...</td>\n",
       "      <td>redding</td>\n",
       "      <td>NaN</td>\n",
       "      <td>NaN</td>\n",
       "      <td>ford</td>\n",
       "      <td>1500</td>\n",
       "      <td>excellent</td>\n",
       "      <td>6 cylinders</td>\n",
       "      <td>gas</td>\n",
       "      <td>NaN</td>\n",
       "      <td>...</td>\n",
       "      <td>white</td>\n",
       "      <td>https://images.craigslist.org/01111_4XLhY1cV96...</td>\n",
       "      <td>NaN</td>\n",
       "      <td>NaN</td>\n",
       "      <td>NaN</td>\n",
       "      <td>Jefferson</td>\n",
       "      <td>NaN</td>\n",
       "      <td>CA</td>\n",
       "      <td>California</td>\n",
       "      <td>NaN</td>\n",
       "    </tr>\n",
       "    <tr>\n",
       "      <th>freq</th>\n",
       "      <td>1</td>\n",
       "      <td>29</td>\n",
       "      <td>NaN</td>\n",
       "      <td>NaN</td>\n",
       "      <td>470</td>\n",
       "      <td>51</td>\n",
       "      <td>733</td>\n",
       "      <td>609</td>\n",
       "      <td>2543</td>\n",
       "      <td>NaN</td>\n",
       "      <td>...</td>\n",
       "      <td>407</td>\n",
       "      <td>2</td>\n",
       "      <td>NaN</td>\n",
       "      <td>NaN</td>\n",
       "      <td>NaN</td>\n",
       "      <td>48</td>\n",
       "      <td>NaN</td>\n",
       "      <td>245</td>\n",
       "      <td>245</td>\n",
       "      <td>NaN</td>\n",
       "    </tr>\n",
       "    <tr>\n",
       "      <th>mean</th>\n",
       "      <td>NaN</td>\n",
       "      <td>NaN</td>\n",
       "      <td>11170.300781</td>\n",
       "      <td>2005.115601</td>\n",
       "      <td>NaN</td>\n",
       "      <td>NaN</td>\n",
       "      <td>NaN</td>\n",
       "      <td>NaN</td>\n",
       "      <td>NaN</td>\n",
       "      <td>1.152800e+05</td>\n",
       "      <td>...</td>\n",
       "      <td>NaN</td>\n",
       "      <td>NaN</td>\n",
       "      <td>38.744770</td>\n",
       "      <td>-93.701866</td>\n",
       "      <td>29187.541016</td>\n",
       "      <td>NaN</td>\n",
       "      <td>29.099525</td>\n",
       "      <td>NaN</td>\n",
       "      <td>NaN</td>\n",
       "      <td>54.055412</td>\n",
       "    </tr>\n",
       "    <tr>\n",
       "      <th>std</th>\n",
       "      <td>NaN</td>\n",
       "      <td>NaN</td>\n",
       "      <td>11382.983398</td>\n",
       "      <td>12.132267</td>\n",
       "      <td>NaN</td>\n",
       "      <td>NaN</td>\n",
       "      <td>NaN</td>\n",
       "      <td>NaN</td>\n",
       "      <td>NaN</td>\n",
       "      <td>1.941981e+05</td>\n",
       "      <td>...</td>\n",
       "      <td>NaN</td>\n",
       "      <td>NaN</td>\n",
       "      <td>5.898373</td>\n",
       "      <td>17.237713</td>\n",
       "      <td>16097.999023</td>\n",
       "      <td>NaN</td>\n",
       "      <td>16.074474</td>\n",
       "      <td>NaN</td>\n",
       "      <td>NaN</td>\n",
       "      <td>7.704176</td>\n",
       "    </tr>\n",
       "    <tr>\n",
       "      <th>min</th>\n",
       "      <td>NaN</td>\n",
       "      <td>NaN</td>\n",
       "      <td>1.000000</td>\n",
       "      <td>1921.000000</td>\n",
       "      <td>NaN</td>\n",
       "      <td>NaN</td>\n",
       "      <td>NaN</td>\n",
       "      <td>NaN</td>\n",
       "      <td>NaN</td>\n",
       "      <td>0.000000e+00</td>\n",
       "      <td>...</td>\n",
       "      <td>NaN</td>\n",
       "      <td>NaN</td>\n",
       "      <td>-27.369877</td>\n",
       "      <td>-176.879883</td>\n",
       "      <td>1003.000000</td>\n",
       "      <td>NaN</td>\n",
       "      <td>1.000000</td>\n",
       "      <td>NaN</td>\n",
       "      <td>NaN</td>\n",
       "      <td>29.000000</td>\n",
       "    </tr>\n",
       "    <tr>\n",
       "      <th>25%</th>\n",
       "      <td>NaN</td>\n",
       "      <td>NaN</td>\n",
       "      <td>3500.000000</td>\n",
       "      <td>2003.000000</td>\n",
       "      <td>NaN</td>\n",
       "      <td>NaN</td>\n",
       "      <td>NaN</td>\n",
       "      <td>NaN</td>\n",
       "      <td>NaN</td>\n",
       "      <td>5.482400e+04</td>\n",
       "      <td>...</td>\n",
       "      <td>NaN</td>\n",
       "      <td>NaN</td>\n",
       "      <td>34.939650</td>\n",
       "      <td>-105.083828</td>\n",
       "      <td>13021.000000</td>\n",
       "      <td>NaN</td>\n",
       "      <td>13.000000</td>\n",
       "      <td>NaN</td>\n",
       "      <td>NaN</td>\n",
       "      <td>48.000000</td>\n",
       "    </tr>\n",
       "    <tr>\n",
       "      <th>50%</th>\n",
       "      <td>NaN</td>\n",
       "      <td>NaN</td>\n",
       "      <td>7800.000000</td>\n",
       "      <td>2007.000000</td>\n",
       "      <td>NaN</td>\n",
       "      <td>NaN</td>\n",
       "      <td>NaN</td>\n",
       "      <td>NaN</td>\n",
       "      <td>NaN</td>\n",
       "      <td>1.035950e+05</td>\n",
       "      <td>...</td>\n",
       "      <td>NaN</td>\n",
       "      <td>NaN</td>\n",
       "      <td>39.537201</td>\n",
       "      <td>-88.271698</td>\n",
       "      <td>31021.000000</td>\n",
       "      <td>NaN</td>\n",
       "      <td>31.000000</td>\n",
       "      <td>NaN</td>\n",
       "      <td>NaN</td>\n",
       "      <td>53.000000</td>\n",
       "    </tr>\n",
       "    <tr>\n",
       "      <th>75%</th>\n",
       "      <td>NaN</td>\n",
       "      <td>NaN</td>\n",
       "      <td>15500.000000</td>\n",
       "      <td>2013.000000</td>\n",
       "      <td>NaN</td>\n",
       "      <td>NaN</td>\n",
       "      <td>NaN</td>\n",
       "      <td>NaN</td>\n",
       "      <td>NaN</td>\n",
       "      <td>1.487190e+05</td>\n",
       "      <td>...</td>\n",
       "      <td>NaN</td>\n",
       "      <td>NaN</td>\n",
       "      <td>42.495735</td>\n",
       "      <td>-80.896347</td>\n",
       "      <td>42053.000000</td>\n",
       "      <td>NaN</td>\n",
       "      <td>42.000000</td>\n",
       "      <td>NaN</td>\n",
       "      <td>NaN</td>\n",
       "      <td>59.000000</td>\n",
       "    </tr>\n",
       "    <tr>\n",
       "      <th>max</th>\n",
       "      <td>NaN</td>\n",
       "      <td>NaN</td>\n",
       "      <td>164997.000000</td>\n",
       "      <td>2019.000000</td>\n",
       "      <td>NaN</td>\n",
       "      <td>NaN</td>\n",
       "      <td>NaN</td>\n",
       "      <td>NaN</td>\n",
       "      <td>NaN</td>\n",
       "      <td>7.200000e+06</td>\n",
       "      <td>...</td>\n",
       "      <td>NaN</td>\n",
       "      <td>NaN</td>\n",
       "      <td>65.975906</td>\n",
       "      <td>0.632405</td>\n",
       "      <td>56025.000000</td>\n",
       "      <td>NaN</td>\n",
       "      <td>56.000000</td>\n",
       "      <td>NaN</td>\n",
       "      <td>NaN</td>\n",
       "      <td>79.000000</td>\n",
       "    </tr>\n",
       "  </tbody>\n",
       "</table>\n",
       "<p>11 rows × 26 columns</p>\n",
       "</div>"
      ],
      "text/plain": [
       "                                                      url     city  \\\n",
       "count                                                2851     2851   \n",
       "unique                                               2851      394   \n",
       "top     https://skagit.craigslist.org/cto/d/mechanics-...  redding   \n",
       "freq                                                    1       29   \n",
       "mean                                                  NaN      NaN   \n",
       "std                                                   NaN      NaN   \n",
       "min                                                   NaN      NaN   \n",
       "25%                                                   NaN      NaN   \n",
       "50%                                                   NaN      NaN   \n",
       "75%                                                   NaN      NaN   \n",
       "max                                                   NaN      NaN   \n",
       "\n",
       "                price         year manufacturer  make  condition    cylinders  \\\n",
       "count     2851.000000  2846.000000         2620  2747       1684         1717   \n",
       "unique            NaN          NaN           41  1381          6            7   \n",
       "top               NaN          NaN         ford  1500  excellent  6 cylinders   \n",
       "freq              NaN          NaN          470    51        733          609   \n",
       "mean     11170.300781  2005.115601          NaN   NaN        NaN          NaN   \n",
       "std      11382.983398    12.132267          NaN   NaN        NaN          NaN   \n",
       "min          1.000000  1921.000000          NaN   NaN        NaN          NaN   \n",
       "25%       3500.000000  2003.000000          NaN   NaN        NaN          NaN   \n",
       "50%       7800.000000  2007.000000          NaN   NaN        NaN          NaN   \n",
       "75%      15500.000000  2013.000000          NaN   NaN        NaN          NaN   \n",
       "max     164997.000000  2019.000000          NaN   NaN        NaN          NaN   \n",
       "\n",
       "        fuel      odometer  ... paint_color  \\\n",
       "count   2839  1.999000e+03  ...        1733   \n",
       "unique     5           NaN  ...          12   \n",
       "top      gas           NaN  ...       white   \n",
       "freq    2543           NaN  ...         407   \n",
       "mean     NaN  1.152800e+05  ...         NaN   \n",
       "std      NaN  1.941981e+05  ...         NaN   \n",
       "min      NaN  0.000000e+00  ...         NaN   \n",
       "25%      NaN  5.482400e+04  ...         NaN   \n",
       "50%      NaN  1.035950e+05  ...         NaN   \n",
       "75%      NaN  1.487190e+05  ...         NaN   \n",
       "max      NaN  7.200000e+06  ...         NaN   \n",
       "\n",
       "                                                image_url          lat  \\\n",
       "count                                                2851  2851.000000   \n",
       "unique                                               2843          NaN   \n",
       "top     https://images.craigslist.org/01111_4XLhY1cV96...          NaN   \n",
       "freq                                                    2          NaN   \n",
       "mean                                                  NaN    38.744770   \n",
       "std                                                   NaN     5.898373   \n",
       "min                                                   NaN   -27.369877   \n",
       "25%                                                   NaN    34.939650   \n",
       "50%                                                   NaN    39.537201   \n",
       "75%                                                   NaN    42.495735   \n",
       "max                                                   NaN    65.975906   \n",
       "\n",
       "               long   county_fips county_name   state_fips state_code  \\\n",
       "count   2851.000000   2743.000000        2743  2743.000000       2743   \n",
       "unique          NaN           NaN         720          NaN         50   \n",
       "top             NaN           NaN   Jefferson          NaN         CA   \n",
       "freq            NaN           NaN          48          NaN        245   \n",
       "mean     -93.701866  29187.541016         NaN    29.099525        NaN   \n",
       "std       17.237713  16097.999023         NaN    16.074474        NaN   \n",
       "min     -176.879883   1003.000000         NaN     1.000000        NaN   \n",
       "25%     -105.083828  13021.000000         NaN    13.000000        NaN   \n",
       "50%      -88.271698  31021.000000         NaN    31.000000        NaN   \n",
       "75%      -80.896347  42053.000000         NaN    42.000000        NaN   \n",
       "max        0.632405  56025.000000         NaN    56.000000        NaN   \n",
       "\n",
       "        state_name      weather  \n",
       "count         2851  2743.000000  \n",
       "unique          51          NaN  \n",
       "top     California          NaN  \n",
       "freq           245          NaN  \n",
       "mean           NaN    54.055412  \n",
       "std            NaN     7.704176  \n",
       "min            NaN    29.000000  \n",
       "25%            NaN    48.000000  \n",
       "50%            NaN    53.000000  \n",
       "75%            NaN    59.000000  \n",
       "max            NaN    79.000000  \n",
       "\n",
       "[11 rows x 26 columns]"
      ]
     },
     "execution_count": 135,
     "metadata": {},
     "output_type": "execute_result"
    }
   ],
   "source": [
    "pd_vehicle_listings_str.describe(include='all')"
   ]
  },
  {
   "cell_type": "code",
   "execution_count": 131,
   "metadata": {
    "scrolled": true
   },
   "outputs": [
    {
     "data": {
      "text/plain": [
       "redding           29\n",
       "newyork           26\n",
       "kalamazoo         25\n",
       "austin            25\n",
       "lasvegas          24\n",
       "dallas            23\n",
       "nashville         23\n",
       "stlouis           23\n",
       "seattle           23\n",
       "madison           22\n",
       "boise             22\n",
       "vermont           21\n",
       "allentown         21\n",
       "fresno            20\n",
       "vancouver         20\n",
       "hartford          20\n",
       "greensboro        20\n",
       "westernmass       20\n",
       "greenville        19\n",
       "milwaukee         19\n",
       "sacramento        19\n",
       "desmoines         19\n",
       "dayton            19\n",
       "bellingham        19\n",
       "richmond          19\n",
       "eugene            19\n",
       "sanantonio        19\n",
       "huntsville        19\n",
       "longisland        18\n",
       "fayar             18\n",
       "                  ..\n",
       "decatur            1\n",
       "fortdodge          1\n",
       "halifax            1\n",
       "lakecharles        1\n",
       "monterrey          1\n",
       "huntington         1\n",
       "battlecreek        1\n",
       "roseburg           1\n",
       "lascruces          1\n",
       "loz                1\n",
       "edmonton           1\n",
       "swv                1\n",
       "danville           1\n",
       "glensfalls         1\n",
       "valdosta           1\n",
       "natchez            1\n",
       "kirksville         1\n",
       "ottawa             1\n",
       "bloomington        1\n",
       "sanmarcos          1\n",
       "semo               1\n",
       "calgary            1\n",
       "owensboro          1\n",
       "collegestation     1\n",
       "rmn                1\n",
       "albanyga           1\n",
       "williamsport       1\n",
       "charlestonwv       1\n",
       "chautauqua         1\n",
       "shreveport         1\n",
       "Name: city, Length: 394, dtype: int64"
      ]
     },
     "execution_count": 131,
     "metadata": {},
     "output_type": "execute_result"
    }
   ],
   "source": [
    "pd_vehicle_listings_str=vehicle_listings.sampleBy(\"city\",fractions,seed).toPandas()\n",
    "pd_vehicle_listings_str['city'].value_counts()"
   ]
  },
  {
   "cell_type": "code",
   "execution_count": 140,
   "metadata": {},
   "outputs": [
    {
     "data": {
      "image/png": "[encoded data removed]",
      "text/plain": [
       "<Figure size 720x360 with 1 Axes>"
      ]
     },
     "metadata": {
      "needs_background": "light"
     },
     "output_type": "display_data"
    }
   ],
   "source": [
    "%matplotlib inline \n",
    "\n",
    "pd_vehicle_listings_str['city'].value_counts().hist(bins=50, figsize=(10,5)) \n",
    "plt.show()"
   ]
  },
  {
   "cell_type": "code",
   "execution_count": null,
   "metadata": {},
   "outputs": [],
   "source": [
    "pd_vehicle_listings.corr()['price'].sort_values()"
   ]
  }
 ],
 "metadata": {
  "kernelspec": {
   "display_name": "Python 3",
   "language": "python",
   "name": "python3"
  },
  "language_info": {
   "codemirror_mode": {
    "name": "ipython",
    "version": 3
   },
   "file_extension": ".py",
   "mimetype": "text/x-python",
   "name": "python",
   "nbconvert_exporter": "python",
   "pygments_lexer": "ipython3",
   "version": "3.7.3"
  }
 },
 "nbformat": 4,
 "nbformat_minor": 2
}
