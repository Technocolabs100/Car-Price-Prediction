{
 "cells": [
  {
   "cell_type": "markdown",
   "metadata": {},
   "source": [
    "# Problem Definition\n",
    "#### How to determine the *price* of a used car?"
   ]
  },
  {
   "cell_type": "markdown",
   "metadata": {},
   "source": [
    "## Contents\n",
    "\n",
    "[Installation Setup](#Installation-Setup) <br>\n",
    "+   [Environment Config](#Environment-Configuration) <br>\n",
    "+   [Python Packages](#Loading-Packages) <br>\n",
    "+   [Apache Spark](#Creating-SparkSession) <br>\n",
    "\n",
    "[Extract, Transform, Load](#Extract-Data) <br>\n",
    "This includes the various stages of the ETL Pipeline <br>\n",
    "+   [Extract](#Extract-Data) <br>\n",
    "    +   [Download from Kaggle](#Kaggle-Dataset) <br>\n",
    "    +   [Cleaning Data](#Cleaning-Data) <br>\n",
    "    +   [Cache Data](#Caching-Data-on-S3) <br>\n",
    "+   [Transform](#Transform-Data) <br>\n",
    "    +   [Sampling Data](#Sampling-Data) <br>\n",
    "    +   [Exploratory Data Analysis using Pandas and Matplotlib](#Exploratory-Data-Analysis) <br>\n",
    "    +   [Transformations](#Transformations) <br>\n",
    "    +   [Cache Data](#Caching-Data-on-S3) <br>\n",
    "+   [Load](#Load-Data) <br>\n",
    "    +   \n",
    "    +   \n",
    "    +   \n",
    "    \n",
    "[Predicting Used Car Price](#Machine-Learning)\n",
    "+   Implementing Linear Regression"
   ]
  },
  {
   "cell_type": "markdown",
   "metadata": {},
   "source": [
    "# Installation Setup\n",
    "\n",
    "## Tool Versions\n",
    "\n",
    "```\n",
    "Apache Spark - 2.4.3\n",
    "Jupyter Notebook - 4.4.0\n",
    "AirFlow - ?\n",
    "```\n",
    "    \n",
    "## Environment Configuration\n",
    "\n",
    "#### Configuring ~/.bash_profile\n",
    "\n",
    "```\n",
    "export PATH=\"/usr/local/bin:$PATH\"\n",
    "PATH=\"/Library/Frameworks/Python.framework/Versions/3.7/bin:${PATH}\"\n",
    "export PATH=/usr/local/scala/bin:$PATH\n",
    "export PATH=/usr/local/spark/bin:$PATH\n",
    "export JAVA_HOME=$(/usr/libexec/java_home -v 1.8)\n",
    "export PYSPARK_PYTHON=python3.7\n",
    "```\n",
    "\n",
    "#### Configuring ~/.bashrc\n",
    "\n",
    "```\n",
    "export PYSPARK_PYTHON=/usr/local/bin/python3.7\n",
    "export PYSPARK_DRIVER_PYTHON=/usr/local/bin/python3.7\n",
    "```\n",
    "\n"
   ]
  },
  {
   "cell_type": "markdown",
   "metadata": {},
   "source": [
    "### Findspark\n",
    "\n",
    "Use `findspark` to be able to find and import **Pyspark** module, while correctly setting environmental variables and dependencies."
   ]
  },
  {
   "cell_type": "code",
   "execution_count": 1,
   "metadata": {},
   "outputs": [],
   "source": [
    "import traceback\n",
    "import findspark\n",
    "try:\n",
    "    findspark.init('/usr/local/spark/')\n",
    "except:\n",
    "    print (\"Error:\", ''.join(traceback.format_stack()))"
   ]
  },
  {
   "cell_type": "markdown",
   "metadata": {},
   "source": [
    "Check paths before Executing PySpark Session:"
   ]
  },
  {
   "cell_type": "code",
   "execution_count": 3,
   "metadata": {},
   "outputs": [
    {
     "name": "stdout",
     "output_type": "stream",
     "text": [
      "PATH: /Library/Frameworks/Python.framework/Versions/3.7/bin:/usr/local/spark/bin:/usr/local/scala/bin:/Library/Frameworks/Python.framework/Versions/3.7/bin:/usr/local/bin:/usr/local/spark/bin:/usr/local/scala/bin:/Library/Frameworks/Python.framework/Versions/3.7/bin:/usr/local/bin:/usr/local/spark/bin:/usr/local/scala/bin:/Library/Frameworks/Python.framework/Versions/3.7/bin:/usr/local/bin:/usr/local/spark/bin:/usr/local/scala/bin:/Library/Frameworks/Python.framework/Versions/3.7/bin:/usr/local/bin:/usr/local/bin:/usr/bin:/bin:/usr/sbin:/sbin\n",
      "\n",
      "SPARK_HOME: /usr/local/spark/\n",
      "PYSPARK_PYTHON: /usr/local/bin/python3.7\n",
      "PYSPARK_DRIVER_PYTHON: /usr/local/bin/python3.7\n"
     ]
    }
   ],
   "source": [
    "import os\n",
    "import sys\n",
    "print(\"PATH: %s\\n\" % os.environ['PATH'])\n",
    "print(\"SPARK_HOME: %s\" % os.environ['SPARK_HOME'])\n",
    "print(\"PYSPARK_PYTHON: %s\" % os.environ['PYSPARK_PYTHON'])\n",
    "print(\"PYSPARK_DRIVER_PYTHON: %s\" % os.environ['PYSPARK_DRIVER_PYTHON'])"
   ]
  },
  {
   "cell_type": "markdown",
   "metadata": {},
   "source": [
    "## Loading Packages "
   ]
  },
  {
   "cell_type": "code",
   "execution_count": 4,
   "metadata": {},
   "outputs": [],
   "source": [
    "#import libraries\n",
    "from pyspark.sql import SparkSession\n",
    "import pandas as pd\n",
    "import numpy as np\n",
    "import matplotlib\n",
    "import sklearn\n",
    "import scipy\n",
    "import matplotlib.pyplot as plt\n",
    "import matplotlib.pylab as pylab"
   ]
  },
  {
   "cell_type": "markdown",
   "metadata": {},
   "source": [
    "### Package Versions"
   ]
  },
  {
   "cell_type": "code",
   "execution_count": 5,
   "metadata": {},
   "outputs": [
    {
     "name": "stdout",
     "output_type": "stream",
     "text": [
      "matplotlib: 3.0.3\n",
      "sklearn: 0.19.2\n",
      "scipy: 1.2.1\n",
      "pandas: 0.24.2\n",
      "numpy: 1.16.3\n",
      "Python: 3.7.3 (v3.7.3:ef4ec6ed12, Mar 25 2019, 16:52:21) \n",
      "[Clang 6.0 (clang-600.0.57)]\n"
     ]
    }
   ],
   "source": [
    "print('matplotlib: {}'.format(matplotlib.__version__))\n",
    "print('sklearn: {}'.format(sklearn.__version__))\n",
    "print('scipy: {}'.format(scipy.__version__))\n",
    "print('pandas: {}'.format(pd.__version__))\n",
    "print('numpy: {}'.format(np.__version__))\n",
    "print('Python: {}'.format(sys.version))"
   ]
  },
  {
   "cell_type": "markdown",
   "metadata": {},
   "source": [
    "## Creating SparkSession\n",
    "Creating Spark Session, hosted across all local nodes on a **Standalone Cluster**"
   ]
  },
  {
   "cell_type": "code",
   "execution_count": 6,
   "metadata": {},
   "outputs": [],
   "source": [
    "spark = SparkSession \\\n",
    "    .builder \\\n",
    "    .master(\"local[*]\") \\\n",
    "    .appName(\"PySpark Craigslist\") \\\n",
    "    .getOrCreate()\n",
    "\n",
    "sc = spark.sparkContext"
   ]
  },
  {
   "cell_type": "markdown",
   "metadata": {},
   "source": [
    "# Extract Data"
   ]
  },
  {
   "cell_type": "markdown",
   "metadata": {},
   "source": [
    "## Kaggle Dataset\n",
    "\n",
    "Available from [kaggle.com/austinreese/](https://www.kaggle.com/austinreese/craigslist-carstrucks-data)"
   ]
  },
  {
   "cell_type": "code",
   "execution_count": 7,
   "metadata": {},
   "outputs": [
    {
     "data": {
      "text/plain": [
       "pyspark.sql.dataframe.DataFrame"
      ]
     },
     "execution_count": 7,
     "metadata": {},
     "output_type": "execute_result"
    }
   ],
   "source": [
    "vehicle_listings = spark.read.format(\"csv\").option(\"header\", \"true\").load(\"../data/craigslistVehiclesFull.csv\")\n",
    "type(vehicle_listings)"
   ]
  },
  {
   "cell_type": "code",
   "execution_count": 8,
   "metadata": {},
   "outputs": [
    {
     "name": "stdout",
     "output_type": "stream",
     "text": [
      "root\n",
      " |-- url: string (nullable = true)\n",
      " |-- city: string (nullable = true)\n",
      " |-- price: string (nullable = true)\n",
      " |-- year: string (nullable = true)\n",
      " |-- manufacturer: string (nullable = true)\n",
      " |-- make: string (nullable = true)\n",
      " |-- condition: string (nullable = true)\n",
      " |-- cylinders: string (nullable = true)\n",
      " |-- fuel: string (nullable = true)\n",
      " |-- odometer: string (nullable = true)\n",
      " |-- title_status: string (nullable = true)\n",
      " |-- transmission: string (nullable = true)\n",
      " |-- vin: string (nullable = true)\n",
      " |-- drive: string (nullable = true)\n",
      " |-- size: string (nullable = true)\n",
      " |-- type: string (nullable = true)\n",
      " |-- paint_color: string (nullable = true)\n",
      " |-- image_url: string (nullable = true)\n",
      " |-- lat: string (nullable = true)\n",
      " |-- long: string (nullable = true)\n",
      " |-- county_fips: string (nullable = true)\n",
      " |-- county_name: string (nullable = true)\n",
      " |-- state_fips: string (nullable = true)\n",
      " |-- state_code: string (nullable = true)\n",
      " |-- state_name: string (nullable = true)\n",
      " |-- weather: string (nullable = true)\n",
      "\n"
     ]
    }
   ],
   "source": [
    "vehicle_listings.printSchema()"
   ]
  },
  {
   "cell_type": "code",
   "execution_count": 149,
   "metadata": {
    "scrolled": true
   },
   "outputs": [
    {
     "name": "stdout",
     "output_type": "stream",
     "text": [
      "1723065 26\n"
     ]
    }
   ],
   "source": [
    "print(vehicle_listings.count(),len(vehicle_listings.columns))"
   ]
  },
  {
   "cell_type": "code",
   "execution_count": 162,
   "metadata": {
    "scrolled": true
   },
   "outputs": [
    {
     "name": "stdout",
     "output_type": "stream",
     "text": [
      "+-------+----------+------------------+------------------+------------------+------------------+\n",
      "|summary|      city|        state_code|              year|               lat|              long|\n",
      "+-------+----------+------------------+------------------+------------------+------------------+\n",
      "|  count|   1723065|           1664232|           1716750|           1723053|           1723063|\n",
      "|   mean|      null|              28.4|2004.8408405417213|38.781324831980314|-93.60776401924767|\n",
      "| stddev|      null|11.749231653365442|  12.0877162743775| 5.983397427783298| 67.11417140992036|\n",
      "|    min|abbotsford|                17|             302.0|          -122.861|           -1000.0|\n",
      "|    max|zanesville|                WY|            2019.0|              90.0|           51177.0|\n",
      "+-------+----------+------------------+------------------+------------------+------------------+\n",
      "\n",
      "+-------+------------+--------------------+--------------------+---------+------------------+\n",
      "|summary|manufacturer|                make|               price|condition|          odometer|\n",
      "+-------+------------+--------------------+--------------------+---------+------------------+\n",
      "|  count|     1586651|             1653476|             1723065|  1022285|           1158996|\n",
      "|   mean|        null|2.0412982685270864E8|  107554.03912156535|     null|113638.96127165236|\n",
      "| stddev|        null|5.219260906638930...|1.0044387431462636E7|     null| 136861.0463338454|\n",
      "|    min|       acura|        ! ton pickup|                 1.0|     4x4\"|               0.0|\n",
      "|    max|          vw|                   ∞|        2.06862669E9|  salvage|             1.0E7|\n",
      "+-------+------------+--------------------+--------------------+---------+------------------+\n",
      "\n",
      "+-------+------------+------------------+-----------------+-----------------+-----------+-----------------+\n",
      "|summary|   cylinders|              fuel|     transmission|            drive|       size|             type|\n",
      "+-------+------------+------------------+-----------------+-----------------+-----------+-----------------+\n",
      "|  count|     1031768|           1712702|          1714034|          1061178|     599110|          1020129|\n",
      "|   mean|        null|120491.66666666667|             null|             null|       null|         34.80225|\n",
      "| stddev|        null|44637.820025922716|             null|             null|       null|6.530767520360834|\n",
      "|    min|10 cylinders|            135000|1G2WP52K7XF291710|1GBJK34G05E297566|        4wd|          30.1843|\n",
      "|    max|  parts only|             other|          rebuilt|              rwd|sub-compact|            wagon|\n",
      "+-------+------------+------------------+-----------------+-----------------+-----------+-----------------+\n",
      "\n",
      "+-------+--------------------+-----------------+--------------------+------------------+------------------+\n",
      "|summary|                 url|     title_status|                 vin|       paint_color|         image_url|\n",
      "+-------+--------------------+-----------------+--------------------+------------------+------------------+\n",
      "|  count|             1723065|          1720508|              605345|           1027421|           1723060|\n",
      "|   mean|                null|69335.88888888889|2.329898077722364E15|         -92.24275|      5156.2716049|\n",
      "| stddev|                null|40424.25247127164|1.221077550015922...|0.2730139282161253|10912.512283606751|\n",
      "|    min|https://abbotsfor...|           166730|                 !!!|          -92.0497|             22055|\n",
      "|    max|https://zanesvill...|          salvage|                   ∞|            yellow|             white|\n",
      "+-------+--------------------+-----------------+--------------------+------------------+------------------+\n",
      "\n",
      "+-------+------------------+------------------+-----------------+------------------+------------------+\n",
      "|summary|       county_fips|        state_fips|          weather|        state_code|        state_name|\n",
      "+-------+------------------+------------------+-----------------+------------------+------------------+\n",
      "|  count|           1664224|           1664216|          1663619|           1664232|           1723061|\n",
      "|   mean|28430.361441091118| 28.34413681877833| 53.7870443893704|              28.4|54.833333333333336|\n",
      "| stddev|16054.354505785235|16.032296397585032|7.799403370681863|11.749231653365442|2.7141603981096374|\n",
      "|    min|          -117.381|               1.0|             29.0|                17|                51|\n",
      "|    max|           56045.0|              67.0|             79.0|                WY|           Wyoming|\n",
      "+-------+------------------+------------------+-----------------+------------------+------------------+\n",
      "\n"
     ]
    }
   ],
   "source": [
    "vehicle_listings.select(\"city\",\"state_code\",\"year\",\"lat\",\"long\").describe().show()\n",
    "vehicle_listings.select(\"manufacturer\",\"make\",\"price\",\"condition\",\"odometer\").describe().show()\n",
    "vehicle_listings.select(\"cylinders\",\"fuel\",\"transmission\",\"drive\",\"size\",\"type\").describe().show()\n",
    "vehicle_listings.select(\"url\",\"title_status\",\"vin\",\"paint_color\",\"image_url\").describe().show()\n",
    "vehicle_listings.select(\"county_fips\",\"state_fips\",\"weather\",\"state_code\",\"state_name\").describe().show()"
   ]
  },
  {
   "cell_type": "markdown",
   "metadata": {},
   "source": [
    "Generally, the `.describe()` or `.explain()` method is a good way to start exploring a dataset. For this dataset, there are too many columns, some very unclean, and it is hard to decipher much from the above result. <br>"
   ]
  },
  {
   "cell_type": "markdown",
   "metadata": {},
   "source": [
    "## Cleaning Data"
   ]
  },
  {
   "cell_type": "markdown",
   "metadata": {},
   "source": [
    "Cleaning is essential during the Extract Stage of the ETL pipeline. We want to be able to cache a cleaned dataset that can be used for multiple pipelines later on, without having to perform basic cleaning again.<br>"
   ]
  },
  {
   "cell_type": "markdown",
   "metadata": {},
   "source": [
    "Some Columns seem redundant, we can remove them before moving forward.<br>"
   ]
  },
  {
   "cell_type": "code",
   "execution_count": 170,
   "metadata": {},
   "outputs": [
    {
     "name": "stdout",
     "output_type": "stream",
     "text": [
      "Remaining columns- ['city', 'price', 'year', 'manufacturer', 'make', 'condition', 'cylinders', 'fuel', 'odometer', 'title_status', 'transmission', 'drive', 'size', 'type', 'county_name', 'state_code', 'state_name']\n"
     ]
    }
   ],
   "source": [
    "vehicle_listings=vehicle_listings.drop('url','vin', 'paint_color', 'image_url', \\\n",
    "                                       'lat', 'long', 'county_fips', 'state_fips','weather')\n",
    "print(\"Remaining columns-\",vehicle_listings.columns)"
   ]
  },
  {
   "cell_type": "markdown",
   "metadata": {},
   "source": [
    "'lat' and 'long' provide no more useful information than ('city','county_name', 'state_code', 'state_name'), therefore are not needed.<br>\n",
    "The other columns are not helpful to the analysis."
   ]
  },
  {
   "cell_type": "markdown",
   "metadata": {},
   "source": [
    "The attribute characteristics are varied, we have three types of features available in our data - <br>\n",
    "**Categorical**, **Ordinal**, **Continuous**<br>\n",
    "Although only 3 attributes, **price, year, odometer**, can be directly converted to numerical value (continuous), other attributes can be be transformed to fit the Categorical and Ordinal labels. The difference between categorical and ordinal values is that ordinal values have a clear and restricted ordering of types. For example, *'condition'* would be ordinal, ranging from excellent to poor."
   ]
  },
  {
   "cell_type": "markdown",
   "metadata": {},
   "source": [
    "Convert **numerical feature types** from string to float to obtain Continuous "
   ]
  },
  {
   "cell_type": "code",
   "execution_count": 171,
   "metadata": {},
   "outputs": [],
   "source": [
    "from functools import reduce\n",
    "\n",
    "cols=[\"price\",\"year\",\"odometer\",]\n",
    "\n",
    "vehicle_listings = (reduce(\n",
    "            lambda memo_df, col_name: memo_df.withColumn(col_name, vehicle_listings[col_name].cast(\"float\")),\n",
    "            cols,\n",
    "            vehicle_listings))"
   ]
  },
  {
   "cell_type": "code",
   "execution_count": 175,
   "metadata": {},
   "outputs": [
    {
     "name": "stdout",
     "output_type": "stream",
     "text": [
      "root\n",
      " |-- city: string (nullable = true)\n",
      " |-- price: float (nullable = true)\n",
      " |-- year: float (nullable = true)\n",
      " |-- manufacturer: string (nullable = true)\n",
      " |-- make: string (nullable = true)\n",
      " |-- condition: string (nullable = true)\n",
      " |-- cylinders: string (nullable = true)\n",
      " |-- fuel: string (nullable = true)\n",
      " |-- odometer: float (nullable = true)\n",
      " |-- title_status: string (nullable = true)\n",
      " |-- transmission: string (nullable = true)\n",
      " |-- drive: string (nullable = true)\n",
      " |-- size: string (nullable = true)\n",
      " |-- type: string (nullable = true)\n",
      " |-- county_name: string (nullable = true)\n",
      " |-- state_code: string (nullable = true)\n",
      " |-- state_name: string (nullable = true)\n",
      "\n",
      "Data Size- 1723065 * 17\n"
     ]
    }
   ],
   "source": [
    "vehicle_listings.printSchema()\n",
    "print(\"Data Size-\",vehicle_listings.count(),\"*\",len(vehicle_listings.columns))"
   ]
  },
  {
   "cell_type": "code",
   "execution_count": null,
   "metadata": {},
   "outputs": [],
   "source": []
  },
  {
   "cell_type": "markdown",
   "metadata": {},
   "source": [
    "There are over 1.7 million records, and 17 columns. As we can observe from a `.describe()` exploration of various attributes, the dataset is too large to perform EDA (Exploratory Data Analysis) comfortably. <br>\n",
    "Right off the bat, some columns provide no useful data for the analysis and can be removed in the Extract pipeline. The final data from the Extract Stage should be as clean as possible without redundant data.<br>"
   ]
  },
  {
   "cell_type": "markdown",
   "metadata": {},
   "source": [
    "After being cleaned, we store the data at the end of the Extract Stage as a parquet file, so we can return to this file without having to run the Extract pipeline again. <br>\n",
    "With the new dataset, we sample the data and study it using a **Pandas** dataframe, in order to start the Transform stage of the pipeline with an *Exploratory Data Analysis*.<br>\n"
   ]
  },
  {
   "cell_type": "markdown",
   "metadata": {},
   "source": [
    "# Transform Data"
   ]
  },
  {
   "cell_type": "markdown",
   "metadata": {},
   "source": [
    "## Exploratory Data Analysis"
   ]
  },
  {
   "cell_type": "markdown",
   "metadata": {},
   "source": [
    "To start the *EDA*, focus on the target variable, i.e. the variable we want our model to be able to predict - **price** "
   ]
  },
  {
   "cell_type": "code",
   "execution_count": 155,
   "metadata": {},
   "outputs": [
    {
     "name": "stdout",
     "output_type": "stream",
     "text": [
      "+-------+------------------+\n",
      "|summary|             price|\n",
      "+-------+------------------+\n",
      "|  count|           1696575|\n",
      "|   mean|109233.15024799964|\n",
      "| stddev|1.01224902731346E7|\n",
      "|    min|             101.0|\n",
      "|    max|      2.06862669E9|\n",
      "+-------+------------------+\n",
      "\n"
     ]
    }
   ],
   "source": [
    "vehicle_listings.where(\"price>100\").select(\"price\").describe().show()"
   ]
  },
  {
   "cell_type": "code",
   "execution_count": 160,
   "metadata": {},
   "outputs": [
    {
     "name": "stdout",
     "output_type": "stream",
     "text": [
      "+------------+\n",
      "|  max(price)|\n",
      "+------------+\n",
      "|2.06862669E9|\n",
      "+------------+\n",
      "\n"
     ]
    }
   ],
   "source": [
    "from pyspark.sql.functions import *\n",
    "vehicle_listings.agg(max(col(\"price\"))).show()\n",
    "                    "
   ]
  },
  {
   "cell_type": "markdown",
   "metadata": {},
   "source": [
    "To explore the dataset for analysis, create a **sample pandas dataframe** from the dataframe:"
   ]
  },
  {
   "cell_type": "code",
   "execution_count": 114,
   "metadata": {},
   "outputs": [
    {
     "data": {
      "text/html": [
       "<div>\n",
       "<style scoped>\n",
       "    .dataframe tbody tr th:only-of-type {\n",
       "        vertical-align: middle;\n",
       "    }\n",
       "\n",
       "    .dataframe tbody tr th {\n",
       "        vertical-align: top;\n",
       "    }\n",
       "\n",
       "    .dataframe thead th {\n",
       "        text-align: right;\n",
       "    }\n",
       "</style>\n",
       "<table border=\"1\" class=\"dataframe\">\n",
       "  <thead>\n",
       "    <tr style=\"text-align: right;\">\n",
       "      <th></th>\n",
       "      <th>url</th>\n",
       "      <th>city</th>\n",
       "      <th>price</th>\n",
       "      <th>year</th>\n",
       "      <th>manufacturer</th>\n",
       "      <th>make</th>\n",
       "      <th>condition</th>\n",
       "      <th>cylinders</th>\n",
       "      <th>fuel</th>\n",
       "      <th>odometer</th>\n",
       "      <th>...</th>\n",
       "      <th>paint_color</th>\n",
       "      <th>image_url</th>\n",
       "      <th>lat</th>\n",
       "      <th>long</th>\n",
       "      <th>county_fips</th>\n",
       "      <th>county_name</th>\n",
       "      <th>state_fips</th>\n",
       "      <th>state_code</th>\n",
       "      <th>state_name</th>\n",
       "      <th>weather</th>\n",
       "    </tr>\n",
       "  </thead>\n",
       "  <tbody>\n",
       "    <tr>\n",
       "      <th>count</th>\n",
       "      <td>1772</td>\n",
       "      <td>1772</td>\n",
       "      <td>1772.000000</td>\n",
       "      <td>1769.000000</td>\n",
       "      <td>1634</td>\n",
       "      <td>1707</td>\n",
       "      <td>1049</td>\n",
       "      <td>1064</td>\n",
       "      <td>1764</td>\n",
       "      <td>1.252000e+03</td>\n",
       "      <td>...</td>\n",
       "      <td>1079</td>\n",
       "      <td>1772</td>\n",
       "      <td>1772.000000</td>\n",
       "      <td>1772.000000</td>\n",
       "      <td>1685.000000</td>\n",
       "      <td>1685</td>\n",
       "      <td>1685.00000</td>\n",
       "      <td>1685</td>\n",
       "      <td>1772</td>\n",
       "      <td>1685.000000</td>\n",
       "    </tr>\n",
       "    <tr>\n",
       "      <th>unique</th>\n",
       "      <td>1772</td>\n",
       "      <td>364</td>\n",
       "      <td>NaN</td>\n",
       "      <td>NaN</td>\n",
       "      <td>39</td>\n",
       "      <td>963</td>\n",
       "      <td>6</td>\n",
       "      <td>7</td>\n",
       "      <td>5</td>\n",
       "      <td>NaN</td>\n",
       "      <td>...</td>\n",
       "      <td>12</td>\n",
       "      <td>1771</td>\n",
       "      <td>NaN</td>\n",
       "      <td>NaN</td>\n",
       "      <td>NaN</td>\n",
       "      <td>599</td>\n",
       "      <td>NaN</td>\n",
       "      <td>50</td>\n",
       "      <td>51</td>\n",
       "      <td>NaN</td>\n",
       "    </tr>\n",
       "    <tr>\n",
       "      <th>top</th>\n",
       "      <td>https://skagit.craigslist.org/cto/d/mechanics-...</td>\n",
       "      <td>whistler</td>\n",
       "      <td>NaN</td>\n",
       "      <td>NaN</td>\n",
       "      <td>ford</td>\n",
       "      <td>1500</td>\n",
       "      <td>excellent</td>\n",
       "      <td>6 cylinders</td>\n",
       "      <td>gas</td>\n",
       "      <td>NaN</td>\n",
       "      <td>...</td>\n",
       "      <td>white</td>\n",
       "      <td>https://images.craigslist.org/00r0r_9HsbmQi8aC...</td>\n",
       "      <td>NaN</td>\n",
       "      <td>NaN</td>\n",
       "      <td>NaN</td>\n",
       "      <td>Jefferson</td>\n",
       "      <td>NaN</td>\n",
       "      <td>CA</td>\n",
       "      <td>California</td>\n",
       "      <td>NaN</td>\n",
       "    </tr>\n",
       "    <tr>\n",
       "      <th>freq</th>\n",
       "      <td>1</td>\n",
       "      <td>16</td>\n",
       "      <td>NaN</td>\n",
       "      <td>NaN</td>\n",
       "      <td>291</td>\n",
       "      <td>34</td>\n",
       "      <td>469</td>\n",
       "      <td>380</td>\n",
       "      <td>1581</td>\n",
       "      <td>NaN</td>\n",
       "      <td>...</td>\n",
       "      <td>254</td>\n",
       "      <td>2</td>\n",
       "      <td>NaN</td>\n",
       "      <td>NaN</td>\n",
       "      <td>NaN</td>\n",
       "      <td>26</td>\n",
       "      <td>NaN</td>\n",
       "      <td>143</td>\n",
       "      <td>143</td>\n",
       "      <td>NaN</td>\n",
       "    </tr>\n",
       "    <tr>\n",
       "      <th>mean</th>\n",
       "      <td>NaN</td>\n",
       "      <td>NaN</td>\n",
       "      <td>11439.492188</td>\n",
       "      <td>2005.105713</td>\n",
       "      <td>NaN</td>\n",
       "      <td>NaN</td>\n",
       "      <td>NaN</td>\n",
       "      <td>NaN</td>\n",
       "      <td>NaN</td>\n",
       "      <td>1.096631e+05</td>\n",
       "      <td>...</td>\n",
       "      <td>NaN</td>\n",
       "      <td>NaN</td>\n",
       "      <td>38.828968</td>\n",
       "      <td>-93.589165</td>\n",
       "      <td>29143.734375</td>\n",
       "      <td>NaN</td>\n",
       "      <td>29.05460</td>\n",
       "      <td>NaN</td>\n",
       "      <td>NaN</td>\n",
       "      <td>54.055786</td>\n",
       "    </tr>\n",
       "    <tr>\n",
       "      <th>std</th>\n",
       "      <td>NaN</td>\n",
       "      <td>NaN</td>\n",
       "      <td>11828.822266</td>\n",
       "      <td>12.365001</td>\n",
       "      <td>NaN</td>\n",
       "      <td>NaN</td>\n",
       "      <td>NaN</td>\n",
       "      <td>NaN</td>\n",
       "      <td>NaN</td>\n",
       "      <td>1.025154e+05</td>\n",
       "      <td>...</td>\n",
       "      <td>NaN</td>\n",
       "      <td>NaN</td>\n",
       "      <td>6.043419</td>\n",
       "      <td>17.245035</td>\n",
       "      <td>16240.077148</td>\n",
       "      <td>NaN</td>\n",
       "      <td>16.21484</td>\n",
       "      <td>NaN</td>\n",
       "      <td>NaN</td>\n",
       "      <td>7.755190</td>\n",
       "    </tr>\n",
       "    <tr>\n",
       "      <th>min</th>\n",
       "      <td>NaN</td>\n",
       "      <td>NaN</td>\n",
       "      <td>1.000000</td>\n",
       "      <td>1921.000000</td>\n",
       "      <td>NaN</td>\n",
       "      <td>NaN</td>\n",
       "      <td>NaN</td>\n",
       "      <td>NaN</td>\n",
       "      <td>NaN</td>\n",
       "      <td>0.000000e+00</td>\n",
       "      <td>...</td>\n",
       "      <td>NaN</td>\n",
       "      <td>NaN</td>\n",
       "      <td>-27.369877</td>\n",
       "      <td>-176.791992</td>\n",
       "      <td>1003.000000</td>\n",
       "      <td>NaN</td>\n",
       "      <td>1.00000</td>\n",
       "      <td>NaN</td>\n",
       "      <td>NaN</td>\n",
       "      <td>29.000000</td>\n",
       "    </tr>\n",
       "    <tr>\n",
       "      <th>25%</th>\n",
       "      <td>NaN</td>\n",
       "      <td>NaN</td>\n",
       "      <td>3500.000000</td>\n",
       "      <td>2003.000000</td>\n",
       "      <td>NaN</td>\n",
       "      <td>NaN</td>\n",
       "      <td>NaN</td>\n",
       "      <td>NaN</td>\n",
       "      <td>NaN</td>\n",
       "      <td>5.249300e+04</td>\n",
       "      <td>...</td>\n",
       "      <td>NaN</td>\n",
       "      <td>NaN</td>\n",
       "      <td>34.951149</td>\n",
       "      <td>-105.004202</td>\n",
       "      <td>12131.000000</td>\n",
       "      <td>NaN</td>\n",
       "      <td>12.00000</td>\n",
       "      <td>NaN</td>\n",
       "      <td>NaN</td>\n",
       "      <td>48.000000</td>\n",
       "    </tr>\n",
       "    <tr>\n",
       "      <th>50%</th>\n",
       "      <td>NaN</td>\n",
       "      <td>NaN</td>\n",
       "      <td>7927.500000</td>\n",
       "      <td>2007.000000</td>\n",
       "      <td>NaN</td>\n",
       "      <td>NaN</td>\n",
       "      <td>NaN</td>\n",
       "      <td>NaN</td>\n",
       "      <td>NaN</td>\n",
       "      <td>1.028100e+05</td>\n",
       "      <td>...</td>\n",
       "      <td>NaN</td>\n",
       "      <td>NaN</td>\n",
       "      <td>39.504667</td>\n",
       "      <td>-88.256954</td>\n",
       "      <td>29510.000000</td>\n",
       "      <td>NaN</td>\n",
       "      <td>29.00000</td>\n",
       "      <td>NaN</td>\n",
       "      <td>NaN</td>\n",
       "      <td>53.000000</td>\n",
       "    </tr>\n",
       "    <tr>\n",
       "      <th>75%</th>\n",
       "      <td>NaN</td>\n",
       "      <td>NaN</td>\n",
       "      <td>15820.250000</td>\n",
       "      <td>2013.000000</td>\n",
       "      <td>NaN</td>\n",
       "      <td>NaN</td>\n",
       "      <td>NaN</td>\n",
       "      <td>NaN</td>\n",
       "      <td>NaN</td>\n",
       "      <td>1.484508e+05</td>\n",
       "      <td>...</td>\n",
       "      <td>NaN</td>\n",
       "      <td>NaN</td>\n",
       "      <td>42.623626</td>\n",
       "      <td>-80.855953</td>\n",
       "      <td>42071.000000</td>\n",
       "      <td>NaN</td>\n",
       "      <td>42.00000</td>\n",
       "      <td>NaN</td>\n",
       "      <td>NaN</td>\n",
       "      <td>59.000000</td>\n",
       "    </tr>\n",
       "    <tr>\n",
       "      <th>max</th>\n",
       "      <td>NaN</td>\n",
       "      <td>NaN</td>\n",
       "      <td>164997.000000</td>\n",
       "      <td>2019.000000</td>\n",
       "      <td>NaN</td>\n",
       "      <td>NaN</td>\n",
       "      <td>NaN</td>\n",
       "      <td>NaN</td>\n",
       "      <td>NaN</td>\n",
       "      <td>2.000109e+06</td>\n",
       "      <td>...</td>\n",
       "      <td>NaN</td>\n",
       "      <td>NaN</td>\n",
       "      <td>65.975906</td>\n",
       "      <td>0.632405</td>\n",
       "      <td>56025.000000</td>\n",
       "      <td>NaN</td>\n",
       "      <td>56.00000</td>\n",
       "      <td>NaN</td>\n",
       "      <td>NaN</td>\n",
       "      <td>79.000000</td>\n",
       "    </tr>\n",
       "  </tbody>\n",
       "</table>\n",
       "<p>11 rows × 26 columns</p>\n",
       "</div>"
      ],
      "text/plain": [
       "                                                      url      city  \\\n",
       "count                                                1772      1772   \n",
       "unique                                               1772       364   \n",
       "top     https://skagit.craigslist.org/cto/d/mechanics-...  whistler   \n",
       "freq                                                    1        16   \n",
       "mean                                                  NaN       NaN   \n",
       "std                                                   NaN       NaN   \n",
       "min                                                   NaN       NaN   \n",
       "25%                                                   NaN       NaN   \n",
       "50%                                                   NaN       NaN   \n",
       "75%                                                   NaN       NaN   \n",
       "max                                                   NaN       NaN   \n",
       "\n",
       "                price         year manufacturer  make  condition    cylinders  \\\n",
       "count     1772.000000  1769.000000         1634  1707       1049         1064   \n",
       "unique            NaN          NaN           39   963          6            7   \n",
       "top               NaN          NaN         ford  1500  excellent  6 cylinders   \n",
       "freq              NaN          NaN          291    34        469          380   \n",
       "mean     11439.492188  2005.105713          NaN   NaN        NaN          NaN   \n",
       "std      11828.822266    12.365001          NaN   NaN        NaN          NaN   \n",
       "min          1.000000  1921.000000          NaN   NaN        NaN          NaN   \n",
       "25%       3500.000000  2003.000000          NaN   NaN        NaN          NaN   \n",
       "50%       7927.500000  2007.000000          NaN   NaN        NaN          NaN   \n",
       "75%      15820.250000  2013.000000          NaN   NaN        NaN          NaN   \n",
       "max     164997.000000  2019.000000          NaN   NaN        NaN          NaN   \n",
       "\n",
       "        fuel      odometer  ... paint_color  \\\n",
       "count   1764  1.252000e+03  ...        1079   \n",
       "unique     5           NaN  ...          12   \n",
       "top      gas           NaN  ...       white   \n",
       "freq    1581           NaN  ...         254   \n",
       "mean     NaN  1.096631e+05  ...         NaN   \n",
       "std      NaN  1.025154e+05  ...         NaN   \n",
       "min      NaN  0.000000e+00  ...         NaN   \n",
       "25%      NaN  5.249300e+04  ...         NaN   \n",
       "50%      NaN  1.028100e+05  ...         NaN   \n",
       "75%      NaN  1.484508e+05  ...         NaN   \n",
       "max      NaN  2.000109e+06  ...         NaN   \n",
       "\n",
       "                                                image_url          lat  \\\n",
       "count                                                1772  1772.000000   \n",
       "unique                                               1771          NaN   \n",
       "top     https://images.craigslist.org/00r0r_9HsbmQi8aC...          NaN   \n",
       "freq                                                    2          NaN   \n",
       "mean                                                  NaN    38.828968   \n",
       "std                                                   NaN     6.043419   \n",
       "min                                                   NaN   -27.369877   \n",
       "25%                                                   NaN    34.951149   \n",
       "50%                                                   NaN    39.504667   \n",
       "75%                                                   NaN    42.623626   \n",
       "max                                                   NaN    65.975906   \n",
       "\n",
       "               long   county_fips county_name  state_fips state_code  \\\n",
       "count   1772.000000   1685.000000        1685  1685.00000       1685   \n",
       "unique          NaN           NaN         599         NaN         50   \n",
       "top             NaN           NaN   Jefferson         NaN         CA   \n",
       "freq            NaN           NaN          26         NaN        143   \n",
       "mean     -93.589165  29143.734375         NaN    29.05460        NaN   \n",
       "std       17.245035  16240.077148         NaN    16.21484        NaN   \n",
       "min     -176.791992   1003.000000         NaN     1.00000        NaN   \n",
       "25%     -105.004202  12131.000000         NaN    12.00000        NaN   \n",
       "50%      -88.256954  29510.000000         NaN    29.00000        NaN   \n",
       "75%      -80.855953  42071.000000         NaN    42.00000        NaN   \n",
       "max        0.632405  56025.000000         NaN    56.00000        NaN   \n",
       "\n",
       "        state_name      weather  \n",
       "count         1772  1685.000000  \n",
       "unique          51          NaN  \n",
       "top     California          NaN  \n",
       "freq           143          NaN  \n",
       "mean           NaN    54.055786  \n",
       "std            NaN     7.755190  \n",
       "min            NaN    29.000000  \n",
       "25%            NaN    48.000000  \n",
       "50%            NaN    53.000000  \n",
       "75%            NaN    59.000000  \n",
       "max            NaN    79.000000  \n",
       "\n",
       "[11 rows x 26 columns]"
      ]
     },
     "execution_count": 114,
     "metadata": {},
     "output_type": "execute_result"
    }
   ],
   "source": [
    "seed=63\n",
    "pd_vehicle_listings=vehicle_listings.sample(False,0.001,seed).toPandas()\n",
    "pd_vehicle_listings.describe(include='all')"
   ]
  },
  {
   "cell_type": "markdown",
   "metadata": {},
   "source": [
    "Pandas `dataframe.describe` gives us basic statistics but it is hard to determine how well distributed the sample is across the dataset. One way to figure this out is to observe the distibution of one column. As an example, let us use the *\"city\"* column for this."
   ]
  },
  {
   "cell_type": "markdown",
   "metadata": {},
   "source": [
    "*Random Sampling* like above works well for simple use cases. However, the car records are probably not evenly distributed. <br>\n",
    "Plotting a histogram of the frequencies of cities can help check that - "
   ]
  },
  {
   "cell_type": "code",
   "execution_count": 164,
   "metadata": {},
   "outputs": [
    {
     "data": {
      "text/plain": [
       "price          1.000000\n",
       "year           0.282384\n",
       "lat            0.102744\n",
       "state_fips    -0.005703\n",
       "county_fips   -0.005832\n",
       "weather       -0.025649\n",
       "long          -0.169885\n",
       "odometer      -0.283637\n",
       "Name: price, dtype: float64"
      ]
     },
     "execution_count": 164,
     "metadata": {},
     "output_type": "execute_result"
    }
   ],
   "source": [
    "pd_vehicle_listings.corr()[\"price\"].sort_values(ascending=False)"
   ]
  },
  {
   "cell_type": "code",
   "execution_count": null,
   "metadata": {},
   "outputs": [],
   "source": []
  }
 ],
 "metadata": {
  "kernelspec": {
   "display_name": "Python 3",
   "language": "python",
   "name": "python3"
  },
  "language_info": {
   "codemirror_mode": {
    "name": "ipython",
    "version": 3
   },
   "file_extension": ".py",
   "mimetype": "text/x-python",
   "name": "python",
   "nbconvert_exporter": "python",
   "pygments_lexer": "ipython3",
   "version": "3.7.3"
  }
 },
 "nbformat": 4,
 "nbformat_minor": 2
}
